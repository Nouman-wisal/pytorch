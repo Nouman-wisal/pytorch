{
  "nbformat": 4,
  "nbformat_minor": 0,
  "metadata": {
    "colab": {
      "provenance": [],
      "gpuType": "T4",
      "include_colab_link": true
    },
    "kernelspec": {
      "name": "python3",
      "display_name": "Python 3"
    },
    "language_info": {
      "name": "python"
    },
    "widgets": {
      "application/vnd.jupyter.widget-state+json": {
        "50a68b65c2f142a9a2f30cf26d32049d": {
          "model_module": "@jupyter-widgets/controls",
          "model_name": "HBoxModel",
          "model_module_version": "1.5.0",
          "state": {
            "_dom_classes": [],
            "_model_module": "@jupyter-widgets/controls",
            "_model_module_version": "1.5.0",
            "_model_name": "HBoxModel",
            "_view_count": null,
            "_view_module": "@jupyter-widgets/controls",
            "_view_module_version": "1.5.0",
            "_view_name": "HBoxView",
            "box_style": "",
            "children": [
              "IPY_MODEL_c396c03c49904fd9996c2ebe480af8d7",
              "IPY_MODEL_8fb93801d4584dad913c6af6807c0df8",
              "IPY_MODEL_ddabf4072c294c4fa5c8ed5121a88f66"
            ],
            "layout": "IPY_MODEL_1eda9ad9438740e3ae75f1f3b3c9925b"
          }
        },
        "c396c03c49904fd9996c2ebe480af8d7": {
          "model_module": "@jupyter-widgets/controls",
          "model_name": "HTMLModel",
          "model_module_version": "1.5.0",
          "state": {
            "_dom_classes": [],
            "_model_module": "@jupyter-widgets/controls",
            "_model_module_version": "1.5.0",
            "_model_name": "HTMLModel",
            "_view_count": null,
            "_view_module": "@jupyter-widgets/controls",
            "_view_module_version": "1.5.0",
            "_view_name": "HTMLView",
            "description": "",
            "description_tooltip": null,
            "layout": "IPY_MODEL_864fdfae3ec2483382dfa391d6ef7fbb",
            "placeholder": "​",
            "style": "IPY_MODEL_38918e80bfbe4127acbc3d300a5ae26a",
            "value": "model trainig: 100%"
          }
        },
        "8fb93801d4584dad913c6af6807c0df8": {
          "model_module": "@jupyter-widgets/controls",
          "model_name": "FloatProgressModel",
          "model_module_version": "1.5.0",
          "state": {
            "_dom_classes": [],
            "_model_module": "@jupyter-widgets/controls",
            "_model_module_version": "1.5.0",
            "_model_name": "FloatProgressModel",
            "_view_count": null,
            "_view_module": "@jupyter-widgets/controls",
            "_view_module_version": "1.5.0",
            "_view_name": "ProgressView",
            "bar_style": "success",
            "description": "",
            "description_tooltip": null,
            "layout": "IPY_MODEL_966506c764744d9a8f61d30f4fa82105",
            "max": 3,
            "min": 0,
            "orientation": "horizontal",
            "style": "IPY_MODEL_496200d181bd495a950bc6bca5f09ff5",
            "value": 3
          }
        },
        "ddabf4072c294c4fa5c8ed5121a88f66": {
          "model_module": "@jupyter-widgets/controls",
          "model_name": "HTMLModel",
          "model_module_version": "1.5.0",
          "state": {
            "_dom_classes": [],
            "_model_module": "@jupyter-widgets/controls",
            "_model_module_version": "1.5.0",
            "_model_name": "HTMLModel",
            "_view_count": null,
            "_view_module": "@jupyter-widgets/controls",
            "_view_module_version": "1.5.0",
            "_view_name": "HTMLView",
            "description": "",
            "description_tooltip": null,
            "layout": "IPY_MODEL_a73e12a091754a019a499f6b83c61072",
            "placeholder": "​",
            "style": "IPY_MODEL_cb213cd3cbb6470385591f9c58fea29a",
            "value": " 3/3 [00:54&lt;00:00, 17.62s/it]"
          }
        },
        "1eda9ad9438740e3ae75f1f3b3c9925b": {
          "model_module": "@jupyter-widgets/base",
          "model_name": "LayoutModel",
          "model_module_version": "1.2.0",
          "state": {
            "_model_module": "@jupyter-widgets/base",
            "_model_module_version": "1.2.0",
            "_model_name": "LayoutModel",
            "_view_count": null,
            "_view_module": "@jupyter-widgets/base",
            "_view_module_version": "1.2.0",
            "_view_name": "LayoutView",
            "align_content": null,
            "align_items": null,
            "align_self": null,
            "border": null,
            "bottom": null,
            "display": null,
            "flex": null,
            "flex_flow": null,
            "grid_area": null,
            "grid_auto_columns": null,
            "grid_auto_flow": null,
            "grid_auto_rows": null,
            "grid_column": null,
            "grid_gap": null,
            "grid_row": null,
            "grid_template_areas": null,
            "grid_template_columns": null,
            "grid_template_rows": null,
            "height": null,
            "justify_content": null,
            "justify_items": null,
            "left": null,
            "margin": null,
            "max_height": null,
            "max_width": null,
            "min_height": null,
            "min_width": null,
            "object_fit": null,
            "object_position": null,
            "order": null,
            "overflow": null,
            "overflow_x": null,
            "overflow_y": null,
            "padding": null,
            "right": null,
            "top": null,
            "visibility": null,
            "width": null
          }
        },
        "864fdfae3ec2483382dfa391d6ef7fbb": {
          "model_module": "@jupyter-widgets/base",
          "model_name": "LayoutModel",
          "model_module_version": "1.2.0",
          "state": {
            "_model_module": "@jupyter-widgets/base",
            "_model_module_version": "1.2.0",
            "_model_name": "LayoutModel",
            "_view_count": null,
            "_view_module": "@jupyter-widgets/base",
            "_view_module_version": "1.2.0",
            "_view_name": "LayoutView",
            "align_content": null,
            "align_items": null,
            "align_self": null,
            "border": null,
            "bottom": null,
            "display": null,
            "flex": null,
            "flex_flow": null,
            "grid_area": null,
            "grid_auto_columns": null,
            "grid_auto_flow": null,
            "grid_auto_rows": null,
            "grid_column": null,
            "grid_gap": null,
            "grid_row": null,
            "grid_template_areas": null,
            "grid_template_columns": null,
            "grid_template_rows": null,
            "height": null,
            "justify_content": null,
            "justify_items": null,
            "left": null,
            "margin": null,
            "max_height": null,
            "max_width": null,
            "min_height": null,
            "min_width": null,
            "object_fit": null,
            "object_position": null,
            "order": null,
            "overflow": null,
            "overflow_x": null,
            "overflow_y": null,
            "padding": null,
            "right": null,
            "top": null,
            "visibility": null,
            "width": null
          }
        },
        "38918e80bfbe4127acbc3d300a5ae26a": {
          "model_module": "@jupyter-widgets/controls",
          "model_name": "DescriptionStyleModel",
          "model_module_version": "1.5.0",
          "state": {
            "_model_module": "@jupyter-widgets/controls",
            "_model_module_version": "1.5.0",
            "_model_name": "DescriptionStyleModel",
            "_view_count": null,
            "_view_module": "@jupyter-widgets/base",
            "_view_module_version": "1.2.0",
            "_view_name": "StyleView",
            "description_width": ""
          }
        },
        "966506c764744d9a8f61d30f4fa82105": {
          "model_module": "@jupyter-widgets/base",
          "model_name": "LayoutModel",
          "model_module_version": "1.2.0",
          "state": {
            "_model_module": "@jupyter-widgets/base",
            "_model_module_version": "1.2.0",
            "_model_name": "LayoutModel",
            "_view_count": null,
            "_view_module": "@jupyter-widgets/base",
            "_view_module_version": "1.2.0",
            "_view_name": "LayoutView",
            "align_content": null,
            "align_items": null,
            "align_self": null,
            "border": null,
            "bottom": null,
            "display": null,
            "flex": null,
            "flex_flow": null,
            "grid_area": null,
            "grid_auto_columns": null,
            "grid_auto_flow": null,
            "grid_auto_rows": null,
            "grid_column": null,
            "grid_gap": null,
            "grid_row": null,
            "grid_template_areas": null,
            "grid_template_columns": null,
            "grid_template_rows": null,
            "height": null,
            "justify_content": null,
            "justify_items": null,
            "left": null,
            "margin": null,
            "max_height": null,
            "max_width": null,
            "min_height": null,
            "min_width": null,
            "object_fit": null,
            "object_position": null,
            "order": null,
            "overflow": null,
            "overflow_x": null,
            "overflow_y": null,
            "padding": null,
            "right": null,
            "top": null,
            "visibility": null,
            "width": null
          }
        },
        "496200d181bd495a950bc6bca5f09ff5": {
          "model_module": "@jupyter-widgets/controls",
          "model_name": "ProgressStyleModel",
          "model_module_version": "1.5.0",
          "state": {
            "_model_module": "@jupyter-widgets/controls",
            "_model_module_version": "1.5.0",
            "_model_name": "ProgressStyleModel",
            "_view_count": null,
            "_view_module": "@jupyter-widgets/base",
            "_view_module_version": "1.2.0",
            "_view_name": "StyleView",
            "bar_color": null,
            "description_width": ""
          }
        },
        "a73e12a091754a019a499f6b83c61072": {
          "model_module": "@jupyter-widgets/base",
          "model_name": "LayoutModel",
          "model_module_version": "1.2.0",
          "state": {
            "_model_module": "@jupyter-widgets/base",
            "_model_module_version": "1.2.0",
            "_model_name": "LayoutModel",
            "_view_count": null,
            "_view_module": "@jupyter-widgets/base",
            "_view_module_version": "1.2.0",
            "_view_name": "LayoutView",
            "align_content": null,
            "align_items": null,
            "align_self": null,
            "border": null,
            "bottom": null,
            "display": null,
            "flex": null,
            "flex_flow": null,
            "grid_area": null,
            "grid_auto_columns": null,
            "grid_auto_flow": null,
            "grid_auto_rows": null,
            "grid_column": null,
            "grid_gap": null,
            "grid_row": null,
            "grid_template_areas": null,
            "grid_template_columns": null,
            "grid_template_rows": null,
            "height": null,
            "justify_content": null,
            "justify_items": null,
            "left": null,
            "margin": null,
            "max_height": null,
            "max_width": null,
            "min_height": null,
            "min_width": null,
            "object_fit": null,
            "object_position": null,
            "order": null,
            "overflow": null,
            "overflow_x": null,
            "overflow_y": null,
            "padding": null,
            "right": null,
            "top": null,
            "visibility": null,
            "width": null
          }
        },
        "cb213cd3cbb6470385591f9c58fea29a": {
          "model_module": "@jupyter-widgets/controls",
          "model_name": "DescriptionStyleModel",
          "model_module_version": "1.5.0",
          "state": {
            "_model_module": "@jupyter-widgets/controls",
            "_model_module_version": "1.5.0",
            "_model_name": "DescriptionStyleModel",
            "_view_count": null,
            "_view_module": "@jupyter-widgets/base",
            "_view_module_version": "1.2.0",
            "_view_name": "StyleView",
            "description_width": ""
          }
        },
        "d28e760ff4e9497c97f71916d1c34b22": {
          "model_module": "@jupyter-widgets/controls",
          "model_name": "HBoxModel",
          "model_module_version": "1.5.0",
          "state": {
            "_dom_classes": [],
            "_model_module": "@jupyter-widgets/controls",
            "_model_module_version": "1.5.0",
            "_model_name": "HBoxModel",
            "_view_count": null,
            "_view_module": "@jupyter-widgets/controls",
            "_view_module_version": "1.5.0",
            "_view_name": "HBoxView",
            "box_style": "",
            "children": [
              "IPY_MODEL_683215ac093046f7ba578256270f98b5",
              "IPY_MODEL_e519f2e77a4746e5a7051385b363a3fa",
              "IPY_MODEL_d9a9151e38eb496cb420271551bde7c8"
            ],
            "layout": "IPY_MODEL_0ff20efe4cb1493697b54bf2cfac3d09"
          }
        },
        "683215ac093046f7ba578256270f98b5": {
          "model_module": "@jupyter-widgets/controls",
          "model_name": "HTMLModel",
          "model_module_version": "1.5.0",
          "state": {
            "_dom_classes": [],
            "_model_module": "@jupyter-widgets/controls",
            "_model_module_version": "1.5.0",
            "_model_name": "HTMLModel",
            "_view_count": null,
            "_view_module": "@jupyter-widgets/controls",
            "_view_module_version": "1.5.0",
            "_view_name": "HTMLView",
            "description": "",
            "description_tooltip": null,
            "layout": "IPY_MODEL_7311dc0ae61947998ff7eac824813c7a",
            "placeholder": "​",
            "style": "IPY_MODEL_11f3ba271c58482da59139a77d14ee68",
            "value": "100%"
          }
        },
        "e519f2e77a4746e5a7051385b363a3fa": {
          "model_module": "@jupyter-widgets/controls",
          "model_name": "FloatProgressModel",
          "model_module_version": "1.5.0",
          "state": {
            "_dom_classes": [],
            "_model_module": "@jupyter-widgets/controls",
            "_model_module_version": "1.5.0",
            "_model_name": "FloatProgressModel",
            "_view_count": null,
            "_view_module": "@jupyter-widgets/controls",
            "_view_module_version": "1.5.0",
            "_view_name": "ProgressView",
            "bar_style": "success",
            "description": "",
            "description_tooltip": null,
            "layout": "IPY_MODEL_63800e5a69384b4cb8ff692e901fd786",
            "max": 3,
            "min": 0,
            "orientation": "horizontal",
            "style": "IPY_MODEL_67827e964bed43c08f5fb36c915529be",
            "value": 3
          }
        },
        "d9a9151e38eb496cb420271551bde7c8": {
          "model_module": "@jupyter-widgets/controls",
          "model_name": "HTMLModel",
          "model_module_version": "1.5.0",
          "state": {
            "_dom_classes": [],
            "_model_module": "@jupyter-widgets/controls",
            "_model_module_version": "1.5.0",
            "_model_name": "HTMLModel",
            "_view_count": null,
            "_view_module": "@jupyter-widgets/controls",
            "_view_module_version": "1.5.0",
            "_view_name": "HTMLView",
            "description": "",
            "description_tooltip": null,
            "layout": "IPY_MODEL_b34daa3dbc524ef8a16494e1a647a81e",
            "placeholder": "​",
            "style": "IPY_MODEL_4ed1a7295a8941a1b59b27ebcc48811c",
            "value": " 3/3 [00:43&lt;00:00, 14.99s/it]"
          }
        },
        "0ff20efe4cb1493697b54bf2cfac3d09": {
          "model_module": "@jupyter-widgets/base",
          "model_name": "LayoutModel",
          "model_module_version": "1.2.0",
          "state": {
            "_model_module": "@jupyter-widgets/base",
            "_model_module_version": "1.2.0",
            "_model_name": "LayoutModel",
            "_view_count": null,
            "_view_module": "@jupyter-widgets/base",
            "_view_module_version": "1.2.0",
            "_view_name": "LayoutView",
            "align_content": null,
            "align_items": null,
            "align_self": null,
            "border": null,
            "bottom": null,
            "display": null,
            "flex": null,
            "flex_flow": null,
            "grid_area": null,
            "grid_auto_columns": null,
            "grid_auto_flow": null,
            "grid_auto_rows": null,
            "grid_column": null,
            "grid_gap": null,
            "grid_row": null,
            "grid_template_areas": null,
            "grid_template_columns": null,
            "grid_template_rows": null,
            "height": null,
            "justify_content": null,
            "justify_items": null,
            "left": null,
            "margin": null,
            "max_height": null,
            "max_width": null,
            "min_height": null,
            "min_width": null,
            "object_fit": null,
            "object_position": null,
            "order": null,
            "overflow": null,
            "overflow_x": null,
            "overflow_y": null,
            "padding": null,
            "right": null,
            "top": null,
            "visibility": null,
            "width": null
          }
        },
        "7311dc0ae61947998ff7eac824813c7a": {
          "model_module": "@jupyter-widgets/base",
          "model_name": "LayoutModel",
          "model_module_version": "1.2.0",
          "state": {
            "_model_module": "@jupyter-widgets/base",
            "_model_module_version": "1.2.0",
            "_model_name": "LayoutModel",
            "_view_count": null,
            "_view_module": "@jupyter-widgets/base",
            "_view_module_version": "1.2.0",
            "_view_name": "LayoutView",
            "align_content": null,
            "align_items": null,
            "align_self": null,
            "border": null,
            "bottom": null,
            "display": null,
            "flex": null,
            "flex_flow": null,
            "grid_area": null,
            "grid_auto_columns": null,
            "grid_auto_flow": null,
            "grid_auto_rows": null,
            "grid_column": null,
            "grid_gap": null,
            "grid_row": null,
            "grid_template_areas": null,
            "grid_template_columns": null,
            "grid_template_rows": null,
            "height": null,
            "justify_content": null,
            "justify_items": null,
            "left": null,
            "margin": null,
            "max_height": null,
            "max_width": null,
            "min_height": null,
            "min_width": null,
            "object_fit": null,
            "object_position": null,
            "order": null,
            "overflow": null,
            "overflow_x": null,
            "overflow_y": null,
            "padding": null,
            "right": null,
            "top": null,
            "visibility": null,
            "width": null
          }
        },
        "11f3ba271c58482da59139a77d14ee68": {
          "model_module": "@jupyter-widgets/controls",
          "model_name": "DescriptionStyleModel",
          "model_module_version": "1.5.0",
          "state": {
            "_model_module": "@jupyter-widgets/controls",
            "_model_module_version": "1.5.0",
            "_model_name": "DescriptionStyleModel",
            "_view_count": null,
            "_view_module": "@jupyter-widgets/base",
            "_view_module_version": "1.2.0",
            "_view_name": "StyleView",
            "description_width": ""
          }
        },
        "63800e5a69384b4cb8ff692e901fd786": {
          "model_module": "@jupyter-widgets/base",
          "model_name": "LayoutModel",
          "model_module_version": "1.2.0",
          "state": {
            "_model_module": "@jupyter-widgets/base",
            "_model_module_version": "1.2.0",
            "_model_name": "LayoutModel",
            "_view_count": null,
            "_view_module": "@jupyter-widgets/base",
            "_view_module_version": "1.2.0",
            "_view_name": "LayoutView",
            "align_content": null,
            "align_items": null,
            "align_self": null,
            "border": null,
            "bottom": null,
            "display": null,
            "flex": null,
            "flex_flow": null,
            "grid_area": null,
            "grid_auto_columns": null,
            "grid_auto_flow": null,
            "grid_auto_rows": null,
            "grid_column": null,
            "grid_gap": null,
            "grid_row": null,
            "grid_template_areas": null,
            "grid_template_columns": null,
            "grid_template_rows": null,
            "height": null,
            "justify_content": null,
            "justify_items": null,
            "left": null,
            "margin": null,
            "max_height": null,
            "max_width": null,
            "min_height": null,
            "min_width": null,
            "object_fit": null,
            "object_position": null,
            "order": null,
            "overflow": null,
            "overflow_x": null,
            "overflow_y": null,
            "padding": null,
            "right": null,
            "top": null,
            "visibility": null,
            "width": null
          }
        },
        "67827e964bed43c08f5fb36c915529be": {
          "model_module": "@jupyter-widgets/controls",
          "model_name": "ProgressStyleModel",
          "model_module_version": "1.5.0",
          "state": {
            "_model_module": "@jupyter-widgets/controls",
            "_model_module_version": "1.5.0",
            "_model_name": "ProgressStyleModel",
            "_view_count": null,
            "_view_module": "@jupyter-widgets/base",
            "_view_module_version": "1.2.0",
            "_view_name": "StyleView",
            "bar_color": null,
            "description_width": ""
          }
        },
        "b34daa3dbc524ef8a16494e1a647a81e": {
          "model_module": "@jupyter-widgets/base",
          "model_name": "LayoutModel",
          "model_module_version": "1.2.0",
          "state": {
            "_model_module": "@jupyter-widgets/base",
            "_model_module_version": "1.2.0",
            "_model_name": "LayoutModel",
            "_view_count": null,
            "_view_module": "@jupyter-widgets/base",
            "_view_module_version": "1.2.0",
            "_view_name": "LayoutView",
            "align_content": null,
            "align_items": null,
            "align_self": null,
            "border": null,
            "bottom": null,
            "display": null,
            "flex": null,
            "flex_flow": null,
            "grid_area": null,
            "grid_auto_columns": null,
            "grid_auto_flow": null,
            "grid_auto_rows": null,
            "grid_column": null,
            "grid_gap": null,
            "grid_row": null,
            "grid_template_areas": null,
            "grid_template_columns": null,
            "grid_template_rows": null,
            "height": null,
            "justify_content": null,
            "justify_items": null,
            "left": null,
            "margin": null,
            "max_height": null,
            "max_width": null,
            "min_height": null,
            "min_width": null,
            "object_fit": null,
            "object_position": null,
            "order": null,
            "overflow": null,
            "overflow_x": null,
            "overflow_y": null,
            "padding": null,
            "right": null,
            "top": null,
            "visibility": null,
            "width": null
          }
        },
        "4ed1a7295a8941a1b59b27ebcc48811c": {
          "model_module": "@jupyter-widgets/controls",
          "model_name": "DescriptionStyleModel",
          "model_module_version": "1.5.0",
          "state": {
            "_model_module": "@jupyter-widgets/controls",
            "_model_module_version": "1.5.0",
            "_model_name": "DescriptionStyleModel",
            "_view_count": null,
            "_view_module": "@jupyter-widgets/base",
            "_view_module_version": "1.2.0",
            "_view_name": "StyleView",
            "description_width": ""
          }
        },
        "e6db8047350d441a8e714de19cd3eabd": {
          "model_module": "@jupyter-widgets/controls",
          "model_name": "HBoxModel",
          "model_module_version": "1.5.0",
          "state": {
            "_dom_classes": [],
            "_model_module": "@jupyter-widgets/controls",
            "_model_module_version": "1.5.0",
            "_model_name": "HBoxModel",
            "_view_count": null,
            "_view_module": "@jupyter-widgets/controls",
            "_view_module_version": "1.5.0",
            "_view_name": "HBoxView",
            "box_style": "",
            "children": [
              "IPY_MODEL_12fd0e8e21d5422195b941783e6d19ef",
              "IPY_MODEL_56025455d1ce430a8c98b9ae15a0a573",
              "IPY_MODEL_2fc24c6562864e48bd7a6f1655311b70"
            ],
            "layout": "IPY_MODEL_ca1b3866868f43c49562ac927cc0f200"
          }
        },
        "12fd0e8e21d5422195b941783e6d19ef": {
          "model_module": "@jupyter-widgets/controls",
          "model_name": "HTMLModel",
          "model_module_version": "1.5.0",
          "state": {
            "_dom_classes": [],
            "_model_module": "@jupyter-widgets/controls",
            "_model_module_version": "1.5.0",
            "_model_name": "HTMLModel",
            "_view_count": null,
            "_view_module": "@jupyter-widgets/controls",
            "_view_module_version": "1.5.0",
            "_view_name": "HTMLView",
            "description": "",
            "description_tooltip": null,
            "layout": "IPY_MODEL_dd724c3075d04ac3a1135a8b8d4fa02a",
            "placeholder": "​",
            "style": "IPY_MODEL_4bd76f0d84964c58852123b3ee18e9e6",
            "value": "100%"
          }
        },
        "56025455d1ce430a8c98b9ae15a0a573": {
          "model_module": "@jupyter-widgets/controls",
          "model_name": "FloatProgressModel",
          "model_module_version": "1.5.0",
          "state": {
            "_dom_classes": [],
            "_model_module": "@jupyter-widgets/controls",
            "_model_module_version": "1.5.0",
            "_model_name": "FloatProgressModel",
            "_view_count": null,
            "_view_module": "@jupyter-widgets/controls",
            "_view_module_version": "1.5.0",
            "_view_name": "ProgressView",
            "bar_style": "success",
            "description": "",
            "description_tooltip": null,
            "layout": "IPY_MODEL_adf97c5249f14f14b0fd392d27b6175e",
            "max": 3,
            "min": 0,
            "orientation": "horizontal",
            "style": "IPY_MODEL_38b51ea834734e9d8457315c8fe03d71",
            "value": 3
          }
        },
        "2fc24c6562864e48bd7a6f1655311b70": {
          "model_module": "@jupyter-widgets/controls",
          "model_name": "HTMLModel",
          "model_module_version": "1.5.0",
          "state": {
            "_dom_classes": [],
            "_model_module": "@jupyter-widgets/controls",
            "_model_module_version": "1.5.0",
            "_model_name": "HTMLModel",
            "_view_count": null,
            "_view_module": "@jupyter-widgets/controls",
            "_view_module_version": "1.5.0",
            "_view_name": "HTMLView",
            "description": "",
            "description_tooltip": null,
            "layout": "IPY_MODEL_72bc30c076ee41d18347770403be8256",
            "placeholder": "​",
            "style": "IPY_MODEL_be78c73516d842a3a982a4261e2f5af7",
            "value": " 3/3 [00:47&lt;00:00, 15.85s/it]"
          }
        },
        "ca1b3866868f43c49562ac927cc0f200": {
          "model_module": "@jupyter-widgets/base",
          "model_name": "LayoutModel",
          "model_module_version": "1.2.0",
          "state": {
            "_model_module": "@jupyter-widgets/base",
            "_model_module_version": "1.2.0",
            "_model_name": "LayoutModel",
            "_view_count": null,
            "_view_module": "@jupyter-widgets/base",
            "_view_module_version": "1.2.0",
            "_view_name": "LayoutView",
            "align_content": null,
            "align_items": null,
            "align_self": null,
            "border": null,
            "bottom": null,
            "display": null,
            "flex": null,
            "flex_flow": null,
            "grid_area": null,
            "grid_auto_columns": null,
            "grid_auto_flow": null,
            "grid_auto_rows": null,
            "grid_column": null,
            "grid_gap": null,
            "grid_row": null,
            "grid_template_areas": null,
            "grid_template_columns": null,
            "grid_template_rows": null,
            "height": null,
            "justify_content": null,
            "justify_items": null,
            "left": null,
            "margin": null,
            "max_height": null,
            "max_width": null,
            "min_height": null,
            "min_width": null,
            "object_fit": null,
            "object_position": null,
            "order": null,
            "overflow": null,
            "overflow_x": null,
            "overflow_y": null,
            "padding": null,
            "right": null,
            "top": null,
            "visibility": null,
            "width": null
          }
        },
        "dd724c3075d04ac3a1135a8b8d4fa02a": {
          "model_module": "@jupyter-widgets/base",
          "model_name": "LayoutModel",
          "model_module_version": "1.2.0",
          "state": {
            "_model_module": "@jupyter-widgets/base",
            "_model_module_version": "1.2.0",
            "_model_name": "LayoutModel",
            "_view_count": null,
            "_view_module": "@jupyter-widgets/base",
            "_view_module_version": "1.2.0",
            "_view_name": "LayoutView",
            "align_content": null,
            "align_items": null,
            "align_self": null,
            "border": null,
            "bottom": null,
            "display": null,
            "flex": null,
            "flex_flow": null,
            "grid_area": null,
            "grid_auto_columns": null,
            "grid_auto_flow": null,
            "grid_auto_rows": null,
            "grid_column": null,
            "grid_gap": null,
            "grid_row": null,
            "grid_template_areas": null,
            "grid_template_columns": null,
            "grid_template_rows": null,
            "height": null,
            "justify_content": null,
            "justify_items": null,
            "left": null,
            "margin": null,
            "max_height": null,
            "max_width": null,
            "min_height": null,
            "min_width": null,
            "object_fit": null,
            "object_position": null,
            "order": null,
            "overflow": null,
            "overflow_x": null,
            "overflow_y": null,
            "padding": null,
            "right": null,
            "top": null,
            "visibility": null,
            "width": null
          }
        },
        "4bd76f0d84964c58852123b3ee18e9e6": {
          "model_module": "@jupyter-widgets/controls",
          "model_name": "DescriptionStyleModel",
          "model_module_version": "1.5.0",
          "state": {
            "_model_module": "@jupyter-widgets/controls",
            "_model_module_version": "1.5.0",
            "_model_name": "DescriptionStyleModel",
            "_view_count": null,
            "_view_module": "@jupyter-widgets/base",
            "_view_module_version": "1.2.0",
            "_view_name": "StyleView",
            "description_width": ""
          }
        },
        "adf97c5249f14f14b0fd392d27b6175e": {
          "model_module": "@jupyter-widgets/base",
          "model_name": "LayoutModel",
          "model_module_version": "1.2.0",
          "state": {
            "_model_module": "@jupyter-widgets/base",
            "_model_module_version": "1.2.0",
            "_model_name": "LayoutModel",
            "_view_count": null,
            "_view_module": "@jupyter-widgets/base",
            "_view_module_version": "1.2.0",
            "_view_name": "LayoutView",
            "align_content": null,
            "align_items": null,
            "align_self": null,
            "border": null,
            "bottom": null,
            "display": null,
            "flex": null,
            "flex_flow": null,
            "grid_area": null,
            "grid_auto_columns": null,
            "grid_auto_flow": null,
            "grid_auto_rows": null,
            "grid_column": null,
            "grid_gap": null,
            "grid_row": null,
            "grid_template_areas": null,
            "grid_template_columns": null,
            "grid_template_rows": null,
            "height": null,
            "justify_content": null,
            "justify_items": null,
            "left": null,
            "margin": null,
            "max_height": null,
            "max_width": null,
            "min_height": null,
            "min_width": null,
            "object_fit": null,
            "object_position": null,
            "order": null,
            "overflow": null,
            "overflow_x": null,
            "overflow_y": null,
            "padding": null,
            "right": null,
            "top": null,
            "visibility": null,
            "width": null
          }
        },
        "38b51ea834734e9d8457315c8fe03d71": {
          "model_module": "@jupyter-widgets/controls",
          "model_name": "ProgressStyleModel",
          "model_module_version": "1.5.0",
          "state": {
            "_model_module": "@jupyter-widgets/controls",
            "_model_module_version": "1.5.0",
            "_model_name": "ProgressStyleModel",
            "_view_count": null,
            "_view_module": "@jupyter-widgets/base",
            "_view_module_version": "1.2.0",
            "_view_name": "StyleView",
            "bar_color": null,
            "description_width": ""
          }
        },
        "72bc30c076ee41d18347770403be8256": {
          "model_module": "@jupyter-widgets/base",
          "model_name": "LayoutModel",
          "model_module_version": "1.2.0",
          "state": {
            "_model_module": "@jupyter-widgets/base",
            "_model_module_version": "1.2.0",
            "_model_name": "LayoutModel",
            "_view_count": null,
            "_view_module": "@jupyter-widgets/base",
            "_view_module_version": "1.2.0",
            "_view_name": "LayoutView",
            "align_content": null,
            "align_items": null,
            "align_self": null,
            "border": null,
            "bottom": null,
            "display": null,
            "flex": null,
            "flex_flow": null,
            "grid_area": null,
            "grid_auto_columns": null,
            "grid_auto_flow": null,
            "grid_auto_rows": null,
            "grid_column": null,
            "grid_gap": null,
            "grid_row": null,
            "grid_template_areas": null,
            "grid_template_columns": null,
            "grid_template_rows": null,
            "height": null,
            "justify_content": null,
            "justify_items": null,
            "left": null,
            "margin": null,
            "max_height": null,
            "max_width": null,
            "min_height": null,
            "min_width": null,
            "object_fit": null,
            "object_position": null,
            "order": null,
            "overflow": null,
            "overflow_x": null,
            "overflow_y": null,
            "padding": null,
            "right": null,
            "top": null,
            "visibility": null,
            "width": null
          }
        },
        "be78c73516d842a3a982a4261e2f5af7": {
          "model_module": "@jupyter-widgets/controls",
          "model_name": "DescriptionStyleModel",
          "model_module_version": "1.5.0",
          "state": {
            "_model_module": "@jupyter-widgets/controls",
            "_model_module_version": "1.5.0",
            "_model_name": "DescriptionStyleModel",
            "_view_count": null,
            "_view_module": "@jupyter-widgets/base",
            "_view_module_version": "1.2.0",
            "_view_name": "StyleView",
            "description_width": ""
          }
        },
        "bcbe4b699e5440d784bea1720565af9b": {
          "model_module": "@jupyter-widgets/controls",
          "model_name": "HBoxModel",
          "model_module_version": "1.5.0",
          "state": {
            "_dom_classes": [],
            "_model_module": "@jupyter-widgets/controls",
            "_model_module_version": "1.5.0",
            "_model_name": "HBoxModel",
            "_view_count": null,
            "_view_module": "@jupyter-widgets/controls",
            "_view_module_version": "1.5.0",
            "_view_name": "HBoxView",
            "box_style": "",
            "children": [
              "IPY_MODEL_8d5a34e8bcad4bc9b9247743ad624781",
              "IPY_MODEL_d00cb285889349b6ba6604c26b0d13b1",
              "IPY_MODEL_fc6a6aa88f9a4a42b28805c6cf2e58de"
            ],
            "layout": "IPY_MODEL_b3733e08c62346979211196a23cd29f3"
          }
        },
        "8d5a34e8bcad4bc9b9247743ad624781": {
          "model_module": "@jupyter-widgets/controls",
          "model_name": "HTMLModel",
          "model_module_version": "1.5.0",
          "state": {
            "_dom_classes": [],
            "_model_module": "@jupyter-widgets/controls",
            "_model_module_version": "1.5.0",
            "_model_name": "HTMLModel",
            "_view_count": null,
            "_view_module": "@jupyter-widgets/controls",
            "_view_module_version": "1.5.0",
            "_view_name": "HTMLView",
            "description": "",
            "description_tooltip": null,
            "layout": "IPY_MODEL_782f563cd1ba455d9e77748fe411f00e",
            "placeholder": "​",
            "style": "IPY_MODEL_a924049bcf9e478881a3312d2fdb2299",
            "value": "it is loading: 100%"
          }
        },
        "d00cb285889349b6ba6604c26b0d13b1": {
          "model_module": "@jupyter-widgets/controls",
          "model_name": "FloatProgressModel",
          "model_module_version": "1.5.0",
          "state": {
            "_dom_classes": [],
            "_model_module": "@jupyter-widgets/controls",
            "_model_module_version": "1.5.0",
            "_model_name": "FloatProgressModel",
            "_view_count": null,
            "_view_module": "@jupyter-widgets/controls",
            "_view_module_version": "1.5.0",
            "_view_name": "ProgressView",
            "bar_style": "success",
            "description": "",
            "description_tooltip": null,
            "layout": "IPY_MODEL_fdc0f3273d9b4edd81039e5614706a39",
            "max": 313,
            "min": 0,
            "orientation": "horizontal",
            "style": "IPY_MODEL_e8ded44270664ad78d550648a5c780ab",
            "value": 313
          }
        },
        "fc6a6aa88f9a4a42b28805c6cf2e58de": {
          "model_module": "@jupyter-widgets/controls",
          "model_name": "HTMLModel",
          "model_module_version": "1.5.0",
          "state": {
            "_dom_classes": [],
            "_model_module": "@jupyter-widgets/controls",
            "_model_module_version": "1.5.0",
            "_model_name": "HTMLModel",
            "_view_count": null,
            "_view_module": "@jupyter-widgets/controls",
            "_view_module_version": "1.5.0",
            "_view_name": "HTMLView",
            "description": "",
            "description_tooltip": null,
            "layout": "IPY_MODEL_46562354450a4e168e27ded574295fc5",
            "placeholder": "​",
            "style": "IPY_MODEL_c8cb7828bcaf4bee959ee281dbaa18af",
            "value": " 313/313 [00:01&lt;00:00, 280.11it/s]"
          }
        },
        "b3733e08c62346979211196a23cd29f3": {
          "model_module": "@jupyter-widgets/base",
          "model_name": "LayoutModel",
          "model_module_version": "1.2.0",
          "state": {
            "_model_module": "@jupyter-widgets/base",
            "_model_module_version": "1.2.0",
            "_model_name": "LayoutModel",
            "_view_count": null,
            "_view_module": "@jupyter-widgets/base",
            "_view_module_version": "1.2.0",
            "_view_name": "LayoutView",
            "align_content": null,
            "align_items": null,
            "align_self": null,
            "border": null,
            "bottom": null,
            "display": null,
            "flex": null,
            "flex_flow": null,
            "grid_area": null,
            "grid_auto_columns": null,
            "grid_auto_flow": null,
            "grid_auto_rows": null,
            "grid_column": null,
            "grid_gap": null,
            "grid_row": null,
            "grid_template_areas": null,
            "grid_template_columns": null,
            "grid_template_rows": null,
            "height": null,
            "justify_content": null,
            "justify_items": null,
            "left": null,
            "margin": null,
            "max_height": null,
            "max_width": null,
            "min_height": null,
            "min_width": null,
            "object_fit": null,
            "object_position": null,
            "order": null,
            "overflow": null,
            "overflow_x": null,
            "overflow_y": null,
            "padding": null,
            "right": null,
            "top": null,
            "visibility": null,
            "width": null
          }
        },
        "782f563cd1ba455d9e77748fe411f00e": {
          "model_module": "@jupyter-widgets/base",
          "model_name": "LayoutModel",
          "model_module_version": "1.2.0",
          "state": {
            "_model_module": "@jupyter-widgets/base",
            "_model_module_version": "1.2.0",
            "_model_name": "LayoutModel",
            "_view_count": null,
            "_view_module": "@jupyter-widgets/base",
            "_view_module_version": "1.2.0",
            "_view_name": "LayoutView",
            "align_content": null,
            "align_items": null,
            "align_self": null,
            "border": null,
            "bottom": null,
            "display": null,
            "flex": null,
            "flex_flow": null,
            "grid_area": null,
            "grid_auto_columns": null,
            "grid_auto_flow": null,
            "grid_auto_rows": null,
            "grid_column": null,
            "grid_gap": null,
            "grid_row": null,
            "grid_template_areas": null,
            "grid_template_columns": null,
            "grid_template_rows": null,
            "height": null,
            "justify_content": null,
            "justify_items": null,
            "left": null,
            "margin": null,
            "max_height": null,
            "max_width": null,
            "min_height": null,
            "min_width": null,
            "object_fit": null,
            "object_position": null,
            "order": null,
            "overflow": null,
            "overflow_x": null,
            "overflow_y": null,
            "padding": null,
            "right": null,
            "top": null,
            "visibility": null,
            "width": null
          }
        },
        "a924049bcf9e478881a3312d2fdb2299": {
          "model_module": "@jupyter-widgets/controls",
          "model_name": "DescriptionStyleModel",
          "model_module_version": "1.5.0",
          "state": {
            "_model_module": "@jupyter-widgets/controls",
            "_model_module_version": "1.5.0",
            "_model_name": "DescriptionStyleModel",
            "_view_count": null,
            "_view_module": "@jupyter-widgets/base",
            "_view_module_version": "1.2.0",
            "_view_name": "StyleView",
            "description_width": ""
          }
        },
        "fdc0f3273d9b4edd81039e5614706a39": {
          "model_module": "@jupyter-widgets/base",
          "model_name": "LayoutModel",
          "model_module_version": "1.2.0",
          "state": {
            "_model_module": "@jupyter-widgets/base",
            "_model_module_version": "1.2.0",
            "_model_name": "LayoutModel",
            "_view_count": null,
            "_view_module": "@jupyter-widgets/base",
            "_view_module_version": "1.2.0",
            "_view_name": "LayoutView",
            "align_content": null,
            "align_items": null,
            "align_self": null,
            "border": null,
            "bottom": null,
            "display": null,
            "flex": null,
            "flex_flow": null,
            "grid_area": null,
            "grid_auto_columns": null,
            "grid_auto_flow": null,
            "grid_auto_rows": null,
            "grid_column": null,
            "grid_gap": null,
            "grid_row": null,
            "grid_template_areas": null,
            "grid_template_columns": null,
            "grid_template_rows": null,
            "height": null,
            "justify_content": null,
            "justify_items": null,
            "left": null,
            "margin": null,
            "max_height": null,
            "max_width": null,
            "min_height": null,
            "min_width": null,
            "object_fit": null,
            "object_position": null,
            "order": null,
            "overflow": null,
            "overflow_x": null,
            "overflow_y": null,
            "padding": null,
            "right": null,
            "top": null,
            "visibility": null,
            "width": null
          }
        },
        "e8ded44270664ad78d550648a5c780ab": {
          "model_module": "@jupyter-widgets/controls",
          "model_name": "ProgressStyleModel",
          "model_module_version": "1.5.0",
          "state": {
            "_model_module": "@jupyter-widgets/controls",
            "_model_module_version": "1.5.0",
            "_model_name": "ProgressStyleModel",
            "_view_count": null,
            "_view_module": "@jupyter-widgets/base",
            "_view_module_version": "1.2.0",
            "_view_name": "StyleView",
            "bar_color": null,
            "description_width": ""
          }
        },
        "46562354450a4e168e27ded574295fc5": {
          "model_module": "@jupyter-widgets/base",
          "model_name": "LayoutModel",
          "model_module_version": "1.2.0",
          "state": {
            "_model_module": "@jupyter-widgets/base",
            "_model_module_version": "1.2.0",
            "_model_name": "LayoutModel",
            "_view_count": null,
            "_view_module": "@jupyter-widgets/base",
            "_view_module_version": "1.2.0",
            "_view_name": "LayoutView",
            "align_content": null,
            "align_items": null,
            "align_self": null,
            "border": null,
            "bottom": null,
            "display": null,
            "flex": null,
            "flex_flow": null,
            "grid_area": null,
            "grid_auto_columns": null,
            "grid_auto_flow": null,
            "grid_auto_rows": null,
            "grid_column": null,
            "grid_gap": null,
            "grid_row": null,
            "grid_template_areas": null,
            "grid_template_columns": null,
            "grid_template_rows": null,
            "height": null,
            "justify_content": null,
            "justify_items": null,
            "left": null,
            "margin": null,
            "max_height": null,
            "max_width": null,
            "min_height": null,
            "min_width": null,
            "object_fit": null,
            "object_position": null,
            "order": null,
            "overflow": null,
            "overflow_x": null,
            "overflow_y": null,
            "padding": null,
            "right": null,
            "top": null,
            "visibility": null,
            "width": null
          }
        },
        "c8cb7828bcaf4bee959ee281dbaa18af": {
          "model_module": "@jupyter-widgets/controls",
          "model_name": "DescriptionStyleModel",
          "model_module_version": "1.5.0",
          "state": {
            "_model_module": "@jupyter-widgets/controls",
            "_model_module_version": "1.5.0",
            "_model_name": "DescriptionStyleModel",
            "_view_count": null,
            "_view_module": "@jupyter-widgets/base",
            "_view_module_version": "1.2.0",
            "_view_name": "StyleView",
            "description_width": ""
          }
        }
      }
    },
    "accelerator": "GPU"
  },
  "cells": [
    {
      "cell_type": "markdown",
      "metadata": {
        "id": "view-in-github",
        "colab_type": "text"
      },
      "source": [
        "<a href=\"https://colab.research.google.com/github/Nouman-wisal/pytorch/blob/main/03_pytorch_computer_vision_CNN.ipynb\" target=\"_parent\"><img src=\"https://colab.research.google.com/assets/colab-badge.svg\" alt=\"Open In Colab\"/></a>"
      ]
    },
    {
      "cell_type": "markdown",
      "source": [
        "#Computer Vision libraries for Data sets\n",
        "\n",
        "*   Torchvision.datasets -- get datasets and data loading functions for computer vision here\n",
        "\n",
        "*   Torchvision.models - get pretrained computer vision models that you can leverage for your own problems\n",
        "*   Torchvision.transform- functions for manipulating your vision data (images) to be suitable for use with an ML model\n",
        "\n",
        "###general pytorch libraries\n",
        "\n",
        "*   torch.utils.data.Dataset- Base dataset class for PyTorch.\n",
        "*   torch.utils.data.DataLoader - Creates a Python iterable over a dataset\n",
        "\n",
        "\n",
        "\n"
      ],
      "metadata": {
        "id": "9TfiZzmsBYxf"
      }
    },
    {
      "cell_type": "code",
      "source": [
        "# import Pytorch\n",
        "\n",
        "import torch\n",
        "from torch import nn\n",
        "\n",
        "# import torchvisision\n",
        "\n",
        "import torchvision\n",
        "from torchvision import datasets\n",
        "from torchvision import transforms\n",
        "from torchvision.transforms import ToTensor\n",
        "\n",
        "# matplotlib\n",
        "\n",
        "import matplotlib.pyplot as plt\n",
        "\n",
        "\n",
        "print(torch.__version__, torchvision.__version__)"
      ],
      "metadata": {
        "colab": {
          "base_uri": "https://localhost:8080/"
        },
        "id": "pTd3p38jcQaH",
        "outputId": "3a3075a2-f3a1-4734-bfd5-6b2e1a4776f6"
      },
      "execution_count": null,
      "outputs": [
        {
          "output_type": "stream",
          "name": "stdout",
          "text": [
            "2.6.0+cu124 0.21.0+cu124\n"
          ]
        }
      ]
    },
    {
      "cell_type": "markdown",
      "source": [
        "#Importing Trainig & Testing data from `torchvision.datasets`"
      ],
      "metadata": {
        "id": "o5A-pU3ObplG"
      }
    },
    {
      "cell_type": "code",
      "source": [
        "                                                  # Importing trainig data in tensor format with label in pil format\n",
        "\n",
        "# it comes with label inside and have to unpack it like \"train_image, train_label= Train_data[0]\"   <----- IMPORTANT\n",
        "\n",
        "Train_data= torchvision.datasets.FashionMNIST(\n",
        "  root=\"data\",\n",
        "  train=True,\n",
        "  download=True,\n",
        "\n",
        "  transform= torchvision.transforms.ToTensor(),\n",
        "  target_transform=None\n",
        "\n",
        "  )\n",
        "\n",
        "                                                  # Importing trainig data in tensor format with label in pil forma\n",
        "Test_data= datasets.FashionMNIST(\n",
        "    root=\"data\",\n",
        "    train=False,\n",
        "    download=True,\n",
        "\n",
        "    transform= ToTensor(),\n",
        "    target_transform=None\n",
        "\n",
        "    )"
      ],
      "metadata": {
        "id": "G-INR_L_YeVU",
        "colab": {
          "base_uri": "https://localhost:8080/"
        },
        "outputId": "b491b0e3-ed9e-444f-c991-06d4d6ebdcdc"
      },
      "execution_count": null,
      "outputs": [
        {
          "output_type": "stream",
          "name": "stderr",
          "text": [
            "100%|██████████| 26.4M/26.4M [00:02<00:00, 11.9MB/s]\n",
            "100%|██████████| 29.5k/29.5k [00:00<00:00, 204kB/s]\n",
            "100%|██████████| 4.42M/4.42M [00:01<00:00, 3.78MB/s]\n",
            "100%|██████████| 5.15k/5.15k [00:00<00:00, 21.3MB/s]\n"
          ]
        }
      ]
    },
    {
      "cell_type": "code",
      "source": [
        "# checking sample length\n",
        "\n",
        "print(len(Train_data), len(Test_data),'\\n')\n",
        "\n",
        "print(Train_data,'\\n\\n'), print(Test_data,'\\n')"
      ],
      "metadata": {
        "colab": {
          "base_uri": "https://localhost:8080/"
        },
        "id": "NSEFdOeefOeX",
        "outputId": "593512a9-ce4c-43f1-ec0b-5a3442310374"
      },
      "execution_count": null,
      "outputs": [
        {
          "output_type": "stream",
          "name": "stdout",
          "text": [
            "60000 10000 \n",
            "\n",
            "Dataset FashionMNIST\n",
            "    Number of datapoints: 60000\n",
            "    Root location: data\n",
            "    Split: Train\n",
            "    StandardTransform\n",
            "Transform: ToTensor() \n",
            "\n",
            "\n",
            "Dataset FashionMNIST\n",
            "    Number of datapoints: 10000\n",
            "    Root location: data\n",
            "    Split: Test\n",
            "    StandardTransform\n",
            "Transform: ToTensor() \n",
            "\n"
          ]
        },
        {
          "output_type": "execute_result",
          "data": {
            "text/plain": [
              "(None, None)"
            ]
          },
          "metadata": {},
          "execution_count": 4
        }
      ]
    },
    {
      "cell_type": "markdown",
      "source": [
        "#Unpacking & Analyzing the data"
      ],
      "metadata": {
        "id": "h4PEfzqjeoLv"
      }
    },
    {
      "cell_type": "code",
      "source": [
        "# Unpacking data and it's label plus class_name\n",
        "\n",
        "# image, label= Test_data[0]\n",
        "image, label= Train_data[0]\n",
        "class_names= Train_data.classes\n",
        "class_names[0]\n",
        "\n",
        "print( f'image_shape: {image.shape} \\nlabel_num: {label} \\n and label_name: {class_names[label]} \\n\\n ' )\n",
        "print(f'All the 9 classes:',class_names, '\\n')\n",
        "print(f'training image(in tensor format):\\n\\n{image}, \\n\\n training label:{label}')\n"
      ],
      "metadata": {
        "colab": {
          "base_uri": "https://localhost:8080/"
        },
        "id": "h1-K3FNYYeEj",
        "outputId": "c2c37508-75b5-4c50-bd9d-0fee891de3de"
      },
      "execution_count": null,
      "outputs": [
        {
          "output_type": "stream",
          "name": "stdout",
          "text": [
            "image_shape: torch.Size([1, 28, 28]) \n",
            "label_num: 9 \n",
            " and label_name: Ankle boot \n",
            "\n",
            " \n",
            "All the 9 classes: ['T-shirt/top', 'Trouser', 'Pullover', 'Dress', 'Coat', 'Sandal', 'Shirt', 'Sneaker', 'Bag', 'Ankle boot'] \n",
            "\n",
            "training image(in tensor format):\n",
            "\n",
            "tensor([[[0.0000, 0.0000, 0.0000, 0.0000, 0.0000, 0.0000, 0.0000, 0.0000,\n",
            "          0.0000, 0.0000, 0.0000, 0.0000, 0.0000, 0.0000, 0.0000, 0.0000,\n",
            "          0.0000, 0.0000, 0.0000, 0.0000, 0.0000, 0.0000, 0.0000, 0.0000,\n",
            "          0.0000, 0.0000, 0.0000, 0.0000],\n",
            "         [0.0000, 0.0000, 0.0000, 0.0000, 0.0000, 0.0000, 0.0000, 0.0000,\n",
            "          0.0000, 0.0000, 0.0000, 0.0000, 0.0000, 0.0000, 0.0000, 0.0000,\n",
            "          0.0000, 0.0000, 0.0000, 0.0000, 0.0000, 0.0000, 0.0000, 0.0000,\n",
            "          0.0000, 0.0000, 0.0000, 0.0000],\n",
            "         [0.0000, 0.0000, 0.0000, 0.0000, 0.0000, 0.0000, 0.0000, 0.0000,\n",
            "          0.0000, 0.0000, 0.0000, 0.0000, 0.0000, 0.0000, 0.0000, 0.0000,\n",
            "          0.0000, 0.0000, 0.0000, 0.0000, 0.0000, 0.0000, 0.0000, 0.0000,\n",
            "          0.0000, 0.0000, 0.0000, 0.0000],\n",
            "         [0.0000, 0.0000, 0.0000, 0.0000, 0.0000, 0.0000, 0.0000, 0.0000,\n",
            "          0.0000, 0.0000, 0.0000, 0.0000, 0.0039, 0.0000, 0.0000, 0.0510,\n",
            "          0.2863, 0.0000, 0.0000, 0.0039, 0.0157, 0.0000, 0.0000, 0.0000,\n",
            "          0.0000, 0.0039, 0.0039, 0.0000],\n",
            "         [0.0000, 0.0000, 0.0000, 0.0000, 0.0000, 0.0000, 0.0000, 0.0000,\n",
            "          0.0000, 0.0000, 0.0000, 0.0000, 0.0118, 0.0000, 0.1412, 0.5333,\n",
            "          0.4980, 0.2431, 0.2118, 0.0000, 0.0000, 0.0000, 0.0039, 0.0118,\n",
            "          0.0157, 0.0000, 0.0000, 0.0118],\n",
            "         [0.0000, 0.0000, 0.0000, 0.0000, 0.0000, 0.0000, 0.0000, 0.0000,\n",
            "          0.0000, 0.0000, 0.0000, 0.0000, 0.0235, 0.0000, 0.4000, 0.8000,\n",
            "          0.6902, 0.5255, 0.5647, 0.4824, 0.0902, 0.0000, 0.0000, 0.0000,\n",
            "          0.0000, 0.0471, 0.0392, 0.0000],\n",
            "         [0.0000, 0.0000, 0.0000, 0.0000, 0.0000, 0.0000, 0.0000, 0.0000,\n",
            "          0.0000, 0.0000, 0.0000, 0.0000, 0.0000, 0.0000, 0.6078, 0.9255,\n",
            "          0.8118, 0.6980, 0.4196, 0.6118, 0.6314, 0.4275, 0.2510, 0.0902,\n",
            "          0.3020, 0.5098, 0.2824, 0.0588],\n",
            "         [0.0000, 0.0000, 0.0000, 0.0000, 0.0000, 0.0000, 0.0000, 0.0000,\n",
            "          0.0000, 0.0000, 0.0000, 0.0039, 0.0000, 0.2706, 0.8118, 0.8745,\n",
            "          0.8549, 0.8471, 0.8471, 0.6392, 0.4980, 0.4745, 0.4784, 0.5725,\n",
            "          0.5529, 0.3451, 0.6745, 0.2588],\n",
            "         [0.0000, 0.0000, 0.0000, 0.0000, 0.0000, 0.0000, 0.0000, 0.0000,\n",
            "          0.0000, 0.0039, 0.0039, 0.0039, 0.0000, 0.7843, 0.9098, 0.9098,\n",
            "          0.9137, 0.8980, 0.8745, 0.8745, 0.8431, 0.8353, 0.6431, 0.4980,\n",
            "          0.4824, 0.7686, 0.8980, 0.0000],\n",
            "         [0.0000, 0.0000, 0.0000, 0.0000, 0.0000, 0.0000, 0.0000, 0.0000,\n",
            "          0.0000, 0.0000, 0.0000, 0.0000, 0.0000, 0.7176, 0.8824, 0.8471,\n",
            "          0.8745, 0.8941, 0.9216, 0.8902, 0.8784, 0.8706, 0.8784, 0.8667,\n",
            "          0.8745, 0.9608, 0.6784, 0.0000],\n",
            "         [0.0000, 0.0000, 0.0000, 0.0000, 0.0000, 0.0000, 0.0000, 0.0000,\n",
            "          0.0000, 0.0000, 0.0000, 0.0000, 0.0000, 0.7569, 0.8941, 0.8549,\n",
            "          0.8353, 0.7765, 0.7059, 0.8314, 0.8235, 0.8275, 0.8353, 0.8745,\n",
            "          0.8627, 0.9529, 0.7922, 0.0000],\n",
            "         [0.0000, 0.0000, 0.0000, 0.0000, 0.0000, 0.0000, 0.0000, 0.0000,\n",
            "          0.0000, 0.0039, 0.0118, 0.0000, 0.0471, 0.8588, 0.8627, 0.8314,\n",
            "          0.8549, 0.7529, 0.6627, 0.8902, 0.8157, 0.8549, 0.8784, 0.8314,\n",
            "          0.8863, 0.7725, 0.8196, 0.2039],\n",
            "         [0.0000, 0.0000, 0.0000, 0.0000, 0.0000, 0.0000, 0.0000, 0.0000,\n",
            "          0.0000, 0.0000, 0.0235, 0.0000, 0.3882, 0.9569, 0.8706, 0.8627,\n",
            "          0.8549, 0.7961, 0.7765, 0.8667, 0.8431, 0.8353, 0.8706, 0.8627,\n",
            "          0.9608, 0.4667, 0.6549, 0.2196],\n",
            "         [0.0000, 0.0000, 0.0000, 0.0000, 0.0000, 0.0000, 0.0000, 0.0000,\n",
            "          0.0000, 0.0157, 0.0000, 0.0000, 0.2157, 0.9255, 0.8941, 0.9020,\n",
            "          0.8941, 0.9412, 0.9098, 0.8353, 0.8549, 0.8745, 0.9176, 0.8510,\n",
            "          0.8510, 0.8196, 0.3608, 0.0000],\n",
            "         [0.0000, 0.0000, 0.0039, 0.0157, 0.0235, 0.0275, 0.0078, 0.0000,\n",
            "          0.0000, 0.0000, 0.0000, 0.0000, 0.9294, 0.8863, 0.8510, 0.8745,\n",
            "          0.8706, 0.8588, 0.8706, 0.8667, 0.8471, 0.8745, 0.8980, 0.8431,\n",
            "          0.8549, 1.0000, 0.3020, 0.0000],\n",
            "         [0.0000, 0.0118, 0.0000, 0.0000, 0.0000, 0.0000, 0.0000, 0.0000,\n",
            "          0.0000, 0.2431, 0.5686, 0.8000, 0.8941, 0.8118, 0.8353, 0.8667,\n",
            "          0.8549, 0.8157, 0.8275, 0.8549, 0.8784, 0.8745, 0.8588, 0.8431,\n",
            "          0.8784, 0.9569, 0.6235, 0.0000],\n",
            "         [0.0000, 0.0000, 0.0000, 0.0000, 0.0706, 0.1725, 0.3216, 0.4196,\n",
            "          0.7412, 0.8941, 0.8627, 0.8706, 0.8510, 0.8863, 0.7843, 0.8039,\n",
            "          0.8275, 0.9020, 0.8784, 0.9176, 0.6902, 0.7373, 0.9804, 0.9725,\n",
            "          0.9137, 0.9333, 0.8431, 0.0000],\n",
            "         [0.0000, 0.2235, 0.7333, 0.8157, 0.8784, 0.8667, 0.8784, 0.8157,\n",
            "          0.8000, 0.8392, 0.8157, 0.8196, 0.7843, 0.6235, 0.9608, 0.7569,\n",
            "          0.8078, 0.8745, 1.0000, 1.0000, 0.8667, 0.9176, 0.8667, 0.8275,\n",
            "          0.8627, 0.9098, 0.9647, 0.0000],\n",
            "         [0.0118, 0.7922, 0.8941, 0.8784, 0.8667, 0.8275, 0.8275, 0.8392,\n",
            "          0.8039, 0.8039, 0.8039, 0.8627, 0.9412, 0.3137, 0.5882, 1.0000,\n",
            "          0.8980, 0.8667, 0.7373, 0.6039, 0.7490, 0.8235, 0.8000, 0.8196,\n",
            "          0.8706, 0.8941, 0.8824, 0.0000],\n",
            "         [0.3843, 0.9137, 0.7765, 0.8235, 0.8706, 0.8980, 0.8980, 0.9176,\n",
            "          0.9765, 0.8627, 0.7608, 0.8431, 0.8510, 0.9451, 0.2549, 0.2863,\n",
            "          0.4157, 0.4588, 0.6588, 0.8588, 0.8667, 0.8431, 0.8510, 0.8745,\n",
            "          0.8745, 0.8784, 0.8980, 0.1137],\n",
            "         [0.2941, 0.8000, 0.8314, 0.8000, 0.7569, 0.8039, 0.8275, 0.8824,\n",
            "          0.8471, 0.7255, 0.7725, 0.8078, 0.7765, 0.8353, 0.9412, 0.7647,\n",
            "          0.8902, 0.9608, 0.9373, 0.8745, 0.8549, 0.8314, 0.8196, 0.8706,\n",
            "          0.8627, 0.8667, 0.9020, 0.2627],\n",
            "         [0.1882, 0.7961, 0.7176, 0.7608, 0.8353, 0.7725, 0.7255, 0.7451,\n",
            "          0.7608, 0.7529, 0.7922, 0.8392, 0.8588, 0.8667, 0.8627, 0.9255,\n",
            "          0.8824, 0.8471, 0.7804, 0.8078, 0.7294, 0.7098, 0.6941, 0.6745,\n",
            "          0.7098, 0.8039, 0.8078, 0.4510],\n",
            "         [0.0000, 0.4784, 0.8588, 0.7569, 0.7020, 0.6706, 0.7176, 0.7686,\n",
            "          0.8000, 0.8235, 0.8353, 0.8118, 0.8275, 0.8235, 0.7843, 0.7686,\n",
            "          0.7608, 0.7490, 0.7647, 0.7490, 0.7765, 0.7529, 0.6902, 0.6118,\n",
            "          0.6549, 0.6941, 0.8235, 0.3608],\n",
            "         [0.0000, 0.0000, 0.2902, 0.7412, 0.8314, 0.7490, 0.6863, 0.6745,\n",
            "          0.6863, 0.7098, 0.7255, 0.7373, 0.7412, 0.7373, 0.7569, 0.7765,\n",
            "          0.8000, 0.8196, 0.8235, 0.8235, 0.8275, 0.7373, 0.7373, 0.7608,\n",
            "          0.7529, 0.8471, 0.6667, 0.0000],\n",
            "         [0.0078, 0.0000, 0.0000, 0.0000, 0.2588, 0.7843, 0.8706, 0.9294,\n",
            "          0.9373, 0.9490, 0.9647, 0.9529, 0.9569, 0.8667, 0.8627, 0.7569,\n",
            "          0.7490, 0.7020, 0.7137, 0.7137, 0.7098, 0.6902, 0.6510, 0.6588,\n",
            "          0.3882, 0.2275, 0.0000, 0.0000],\n",
            "         [0.0000, 0.0000, 0.0000, 0.0000, 0.0000, 0.0000, 0.0000, 0.1569,\n",
            "          0.2392, 0.1725, 0.2824, 0.1608, 0.1373, 0.0000, 0.0000, 0.0000,\n",
            "          0.0000, 0.0000, 0.0000, 0.0000, 0.0000, 0.0000, 0.0000, 0.0000,\n",
            "          0.0000, 0.0000, 0.0000, 0.0000],\n",
            "         [0.0000, 0.0000, 0.0000, 0.0000, 0.0000, 0.0000, 0.0000, 0.0000,\n",
            "          0.0000, 0.0000, 0.0000, 0.0000, 0.0000, 0.0000, 0.0000, 0.0000,\n",
            "          0.0000, 0.0000, 0.0000, 0.0000, 0.0000, 0.0000, 0.0000, 0.0000,\n",
            "          0.0000, 0.0000, 0.0000, 0.0000],\n",
            "         [0.0000, 0.0000, 0.0000, 0.0000, 0.0000, 0.0000, 0.0000, 0.0000,\n",
            "          0.0000, 0.0000, 0.0000, 0.0000, 0.0000, 0.0000, 0.0000, 0.0000,\n",
            "          0.0000, 0.0000, 0.0000, 0.0000, 0.0000, 0.0000, 0.0000, 0.0000,\n",
            "          0.0000, 0.0000, 0.0000, 0.0000]]]), \n",
            "\n",
            " training label:9\n"
          ]
        }
      ]
    },
    {
      "cell_type": "code",
      "source": [
        "#                                          Repeating, used it above as well ------------> imp\n",
        "\n",
        "# each class(0 to 9 total 10) comes with name of that class(t,shirt,shoes,etc....)\n",
        "\n",
        "class_name= Train_data.classes\n",
        "class_name, class_name[0]"
      ],
      "metadata": {
        "colab": {
          "base_uri": "https://localhost:8080/"
        },
        "id": "buaMP32GYd_o",
        "outputId": "35938e4f-b32b-401a-ea96-8b10abaa827c"
      },
      "execution_count": null,
      "outputs": [
        {
          "output_type": "execute_result",
          "data": {
            "text/plain": [
              "(['T-shirt/top',\n",
              "  'Trouser',\n",
              "  'Pullover',\n",
              "  'Dress',\n",
              "  'Coat',\n",
              "  'Sandal',\n",
              "  'Shirt',\n",
              "  'Sneaker',\n",
              "  'Bag',\n",
              "  'Ankle boot'],\n",
              " 'T-shirt/top')"
            ]
          },
          "metadata": {},
          "execution_count": 6
        }
      ]
    },
    {
      "cell_type": "code",
      "source": [
        "# let's see with label number side by side\n",
        "\n",
        "class_to_idx= Train_data.class_to_idx\n",
        "class_to_idx"
      ],
      "metadata": {
        "colab": {
          "base_uri": "https://localhost:8080/"
        },
        "id": "48YwHxdkisOc",
        "outputId": "8e38c87e-2ef0-4439-8fae-fea2bede3126"
      },
      "execution_count": null,
      "outputs": [
        {
          "output_type": "execute_result",
          "data": {
            "text/plain": [
              "{'T-shirt/top': 0,\n",
              " 'Trouser': 1,\n",
              " 'Pullover': 2,\n",
              " 'Dress': 3,\n",
              " 'Coat': 4,\n",
              " 'Sandal': 5,\n",
              " 'Shirt': 6,\n",
              " 'Sneaker': 7,\n",
              " 'Bag': 8,\n",
              " 'Ankle boot': 9}"
            ]
          },
          "metadata": {},
          "execution_count": 7
        }
      ]
    },
    {
      "cell_type": "code",
      "source": [
        "# This shows all the labels in your training set & testing set (e.g. [0, 1, 4, 0, 7, ...])\n",
        "\n",
        "Train_data.targets, Test_data.targets"
      ],
      "metadata": {
        "colab": {
          "base_uri": "https://localhost:8080/"
        },
        "id": "CuzW4RyBjypD",
        "outputId": "f2c6533a-ac1a-41b6-fc73-b75c7e61bcbb"
      },
      "execution_count": null,
      "outputs": [
        {
          "output_type": "execute_result",
          "data": {
            "text/plain": [
              "(tensor([9, 0, 0,  ..., 3, 0, 5]), tensor([9, 2, 1,  ..., 8, 1, 5]))"
            ]
          },
          "metadata": {},
          "execution_count": 8
        }
      ]
    },
    {
      "cell_type": "markdown",
      "source": [
        "#Visualizing the data(image & label)"
      ],
      "metadata": {
        "id": "gjeFHUcMo-Hw"
      }
    },
    {
      "cell_type": "code",
      "source": [
        "# unpacking image,label and classname\n",
        "image, label= Train_data[0]\n",
        "class_name= Train_data.classes\n",
        "\n",
        "print('image shape:',image.shape)\n",
        "print('label_num',label)                             #label is int and int dont have shapes\n",
        "print('label name(class)', class_name[label],'\\n')\n",
        "\n",
        "# plottting the image\n",
        "plt.imshow(image.squeeze())\n",
        "plt.axis(False)\n",
        "plt.title('image format of image tensor')"
      ],
      "metadata": {
        "colab": {
          "base_uri": "https://localhost:8080/",
          "height": 515
        },
        "id": "RNefiOtso8_x",
        "outputId": "420222bd-60bf-48df-c514-b6a4843ad0ec"
      },
      "execution_count": null,
      "outputs": [
        {
          "output_type": "stream",
          "name": "stdout",
          "text": [
            "image shape: torch.Size([1, 28, 28])\n",
            "label_num 9\n",
            "label name(class) Ankle boot \n",
            "\n"
          ]
        },
        {
          "output_type": "execute_result",
          "data": {
            "text/plain": [
              "Text(0.5, 1.0, 'image format of image tensor')"
            ]
          },
          "metadata": {},
          "execution_count": 9
        },
        {
          "output_type": "display_data",
          "data": {
            "text/plain": [
              "<Figure size 640x480 with 1 Axes>"
            ],
            "image/png": "[encoded data removed]"
          },
          "metadata": {}
        }
      ]
    },
    {
      "cell_type": "code",
      "source": [
        "import pandas as pd\n",
        "\n",
        "# checking if data is balanced or not\n",
        "\n",
        "df= pd.DataFrame({\n",
        "    'targets/label': Train_data.targets,\n",
        "})\n",
        "\n",
        "df['targets/label'].value_counts().sort_index()  # Data is balanced & has 10 clasees <-------------- IMPORTANT <-------------------- IMPORTANT <--------------"
      ],
      "metadata": {
        "colab": {
          "base_uri": "https://localhost:8080/",
          "height": 429
        },
        "id": "ZLHHAF0UiaC3",
        "outputId": "513c6e8f-7c32-40dd-e58e-851ee726d582"
      },
      "execution_count": null,
      "outputs": [
        {
          "output_type": "execute_result",
          "data": {
            "text/plain": [
              "targets/label\n",
              "0    6000\n",
              "1    6000\n",
              "2    6000\n",
              "3    6000\n",
              "4    6000\n",
              "5    6000\n",
              "6    6000\n",
              "7    6000\n",
              "8    6000\n",
              "9    6000\n",
              "Name: count, dtype: int64"
            ],
            "text/html": [
              "<div>\n",
              "<style scoped>\n",
              "    .dataframe tbody tr th:only-of-type {\n",
              "        vertical-align: middle;\n",
              "    }\n",
              "\n",
              "    .dataframe tbody tr th {\n",
              "        vertical-align: top;\n",
              "    }\n",
              "\n",
              "    .dataframe thead th {\n",
              "        text-align: right;\n",
              "    }\n",
              "</style>\n",
              "<table border=\"1\" class=\"dataframe\">\n",
              "  <thead>\n",
              "    <tr style=\"text-align: right;\">\n",
              "      <th></th>\n",
              "      <th>count</th>\n",
              "    </tr>\n",
              "    <tr>\n",
              "      <th>targets/label</th>\n",
              "      <th></th>\n",
              "    </tr>\n",
              "  </thead>\n",
              "  <tbody>\n",
              "    <tr>\n",
              "      <th>0</th>\n",
              "      <td>6000</td>\n",
              "    </tr>\n",
              "    <tr>\n",
              "      <th>1</th>\n",
              "      <td>6000</td>\n",
              "    </tr>\n",
              "    <tr>\n",
              "      <th>2</th>\n",
              "      <td>6000</td>\n",
              "    </tr>\n",
              "    <tr>\n",
              "      <th>3</th>\n",
              "      <td>6000</td>\n",
              "    </tr>\n",
              "    <tr>\n",
              "      <th>4</th>\n",
              "      <td>6000</td>\n",
              "    </tr>\n",
              "    <tr>\n",
              "      <th>5</th>\n",
              "      <td>6000</td>\n",
              "    </tr>\n",
              "    <tr>\n",
              "      <th>6</th>\n",
              "      <td>6000</td>\n",
              "    </tr>\n",
              "    <tr>\n",
              "      <th>7</th>\n",
              "      <td>6000</td>\n",
              "    </tr>\n",
              "    <tr>\n",
              "      <th>8</th>\n",
              "      <td>6000</td>\n",
              "    </tr>\n",
              "    <tr>\n",
              "      <th>9</th>\n",
              "      <td>6000</td>\n",
              "    </tr>\n",
              "  </tbody>\n",
              "</table>\n",
              "</div><br><label><b>dtype:</b> int64</label>"
            ]
          },
          "metadata": {},
          "execution_count": 10
        }
      ]
    },
    {
      "cell_type": "markdown",
      "source": [
        "#Plotting and Visualizing 16 random training images with class names"
      ],
      "metadata": {
        "id": "99kC5ATbwnC_"
      }
    },
    {
      "cell_type": "code",
      "source": [
        "\n",
        "\"\"\"                                             This will show 16 random images with it's title(class anme)                                                           \"\"\"\n",
        "\n",
        "\n",
        "# Create a blank figure with a 9x9 inch size to hold the subplots (images)\n",
        "fig= plt.figure(figsize=(8,8))\n",
        "\n",
        "# Loop 16 times to show 16 images (in a 4x4 grid)\n",
        "for i in range(1,17):\n",
        "  # Pick a random index from the training dataset of 60,000 samples\n",
        "  random_index= torch.randint(0, len(Train_data), size=[1]).item()\n",
        "\n",
        "  # Get the image and label at that random index\n",
        "  image, label= Train_data[random_index]\n",
        "  class_name= Train_data.classes                 # <----- class names list\n",
        "\n",
        "  #  Add a new subplot (small plot box) to the 4x4 grid at position i\n",
        "  fig.add_subplot(4, 4, i)\n",
        "  plt.imshow(image.squeeze(), cmap='grey')\n",
        "  plt.title(class_name[label])\n",
        "  plt.axis(False)\n",
        "\n",
        "\n"
      ],
      "metadata": {
        "colab": {
          "base_uri": "https://localhost:8080/",
          "height": 675
        },
        "id": "3jjczCIax-W3",
        "outputId": "56affc0d-9abe-4dae-fe2b-c192b78851ce"
      },
      "execution_count": null,
      "outputs": [
        {
          "output_type": "display_data",
          "data": {
            "text/plain": [
              "<Figure size 800x800 with 16 Axes>"
            ],
            "image/png": "[encoded data removed]"
          },
          "metadata": {}
        }
      ]
    },
    {
      "cell_type": "markdown",
      "source": [
        "#Prepare Dataloader\n",
        "\n",
        "\n",
        "Right now, our data is in the form of PyTorch Datasets.\n",
        "\n",
        "DataLoader turns our dataset into a Python iterable.\n",
        "\n",
        "More specifically,it turns our data into batches (or mini-batches).\n",
        "\n",
        "it loads the data into small batches to be passed through model easily in batches"
      ],
      "metadata": {
        "id": "1HP7G7LxAWJK"
      }
    },
    {
      "cell_type": "code",
      "source": [
        "from torch.utils.data import DataLoader\n",
        "\n",
        "#dataloader create mini batches of dataset like 32\n",
        "batch_size= 32\n",
        "\n",
        "# Turn datasets into iterables (batches)\n",
        "train_dataloader= DataLoader(\n",
        "    dataset= Train_data,\n",
        "    batch_size= batch_size,\n",
        "    shuffle=True,\n",
        "\n",
        "    num_workers=0,\n",
        "    pin_memory=False\n",
        ")\n",
        "\n",
        "# Turn datasets into iterables (batches)\n",
        "test_dataloader= DataLoader(\n",
        "    dataset=Test_data,\n",
        "    batch_size=batch_size,\n",
        "    shuffle=False,\n",
        "\n",
        "    num_workers= 0,\n",
        "    pin_memory=False\n",
        ")\n",
        "\n",
        "print('\\n',train_dataloader,'\\n', test_dataloader)\n",
        "\n",
        "len(train_dataloader), batch_size, len(test_dataloader), batch_size"
      ],
      "metadata": {
        "colab": {
          "base_uri": "https://localhost:8080/"
        },
        "id": "5Xm5herDAV5J",
        "outputId": "02625e38-255e-45f0-ed4a-6cfcd41e771b"
      },
      "execution_count": null,
      "outputs": [
        {
          "output_type": "stream",
          "name": "stdout",
          "text": [
            "\n",
            " <torch.utils.data.dataloader.DataLoader object at 0x7e490ccb7ad0> \n",
            " <torch.utils.data.dataloader.DataLoader object at 0x7e490c9be490>\n"
          ]
        },
        {
          "output_type": "execute_result",
          "data": {
            "text/plain": [
              "(1875, 32, 313, 32)"
            ]
          },
          "metadata": {},
          "execution_count": 12
        }
      ]
    },
    {
      "cell_type": "code",
      "source": [
        "#  checking what's inside both train & test dataloader since they're made of datasets\n",
        "# print(next(iter(train_dataloader)))   # ---> this will give 1st batch(32) of image(feature) & label\n",
        "# unpacking train_dataloader and test_dataloader like we did before with fashionmnist dataset\n",
        "\n",
        "train_feature_batch, train_label_batch= next(iter(train_dataloader))\n",
        "\n",
        "test_feature_batch, test_label_batch= next(iter(test_dataloader))\n",
        "\n",
        "# check shape of batch bcz it includes batch size.\n",
        "train_feature_batch.shape, train_label_batch.shape,  test_feature_batch.shape, test_label_batch.shape"
      ],
      "metadata": {
        "colab": {
          "base_uri": "https://localhost:8080/"
        },
        "id": "U-q1YS-IPWUJ",
        "outputId": "ce3a0b1e-339c-4028-b4c8-86e33334d738"
      },
      "execution_count": null,
      "outputs": [
        {
          "output_type": "execute_result",
          "data": {
            "text/plain": [
              "(torch.Size([32, 1, 28, 28]),\n",
              " torch.Size([32]),\n",
              " torch.Size([32, 1, 28, 28]),\n",
              " torch.Size([32]))"
            ]
          },
          "metadata": {},
          "execution_count": 13
        }
      ]
    },
    {
      "cell_type": "code",
      "source": [
        "# taking a sample from train batch with label and visualizing it\n",
        "\n",
        "random_idx= torch.randint(0, len(train_feature_batch), size=[1]).item()\n",
        "\n",
        "image , label= train_feature_batch[random_idx], train_label_batch[random_idx]\n",
        "\n",
        "plt.figure(figsize=(2,2))\n",
        "plt.imshow(image.squeeze())\n",
        "plt.title(class_names[label])\n",
        "plt.axis(False)\n",
        "\n",
        "print('image shape:',image.shape)\n",
        "print('label no',label.item())"
      ],
      "metadata": {
        "colab": {
          "base_uri": "https://localhost:8080/",
          "height": 248
        },
        "id": "pmcfy_85TMe8",
        "outputId": "575ff4fc-e99f-41db-890b-29d6cd765455"
      },
      "execution_count": null,
      "outputs": [
        {
          "output_type": "stream",
          "name": "stdout",
          "text": [
            "image shape: torch.Size([1, 28, 28])\n",
            "label no 7\n"
          ]
        },
        {
          "output_type": "display_data",
          "data": {
            "text/plain": [
              "<Figure size 200x200 with 1 Axes>"
            ],
            "image/png": "[encoded data removed]"
          },
          "metadata": {}
        }
      ]
    },
    {
      "cell_type": "markdown",
      "source": [
        "# How flatten works"
      ],
      "metadata": {
        "id": "xF2sMTRQozWP"
      }
    },
    {
      "cell_type": "code",
      "source": [
        "# checking how flatten works\n",
        "flattenModel= nn.Flatten()\n",
        "\n",
        "batchh= train_feature_batch[0]\n",
        "# forward pass\n",
        "flatte_output= flattenModel(batchh)\n",
        "\n",
        "print(batchh.shape)\n",
        "print(flatte_output.shape)"
      ],
      "metadata": {
        "colab": {
          "base_uri": "https://localhost:8080/"
        },
        "id": "bkPOtcE2ovld",
        "outputId": "4c3ed383-c972-41e4-8cb2-92aa85e2a2de"
      },
      "execution_count": null,
      "outputs": [
        {
          "output_type": "stream",
          "name": "stdout",
          "text": [
            "torch.Size([1, 28, 28])\n",
            "torch.Size([1, 784])\n"
          ]
        }
      ]
    },
    {
      "cell_type": "markdown",
      "source": [
        "#Building the model"
      ],
      "metadata": {
        "id": "cQDyaGlPrYgZ"
      }
    },
    {
      "cell_type": "code",
      "source": [
        "len(class_names)"
      ],
      "metadata": {
        "colab": {
          "base_uri": "https://localhost:8080/"
        },
        "id": "VlkV3KixtPnf",
        "outputId": "a0433587-c676-4cef-aa67-bb37eb7ace93"
      },
      "execution_count": null,
      "outputs": [
        {
          "output_type": "execute_result",
          "data": {
            "text/plain": [
              "10"
            ]
          },
          "metadata": {},
          "execution_count": 16
        }
      ]
    },
    {
      "cell_type": "code",
      "source": [
        "                                                                # Building the Model\n",
        "\n",
        "class FashionMNISTModelV0(nn.Module):\n",
        "  def __init__(self, input, hidden_neurons, output):\n",
        "    super().__init__()\n",
        "\n",
        "    self.layer_stack= nn.Sequential(\n",
        "        nn.Flatten(),\n",
        "        nn.Linear(in_features=input, out_features=hidden_neurons),\n",
        "        nn.Linear(in_features=hidden_neurons, out_features=output)\n",
        "    )\n",
        "\n",
        "  def forward(self, x):\n",
        "    return self.layer_stack(x)\n",
        "\n",
        "\n"
      ],
      "metadata": {
        "id": "OSnzykz7qHUq"
      },
      "execution_count": null,
      "outputs": []
    },
    {
      "cell_type": "code",
      "source": [
        "model_0= FashionMNISTModelV0(input=28*28, hidden_neurons=10, output=len(class_names)).to('cpu')\n",
        "\n",
        "model_0\n",
        "# model_0.state_dict()"
      ],
      "metadata": {
        "colab": {
          "base_uri": "https://localhost:8080/"
        },
        "id": "Loy1hFnDts5i",
        "outputId": "68e78e04-5b57-415b-caeb-444550e431da"
      },
      "execution_count": null,
      "outputs": [
        {
          "output_type": "execute_result",
          "data": {
            "text/plain": [
              "FashionMNISTModelV0(\n",
              "  (layer_stack): Sequential(\n",
              "    (0): Flatten(start_dim=1, end_dim=-1)\n",
              "    (1): Linear(in_features=784, out_features=10, bias=True)\n",
              "    (2): Linear(in_features=10, out_features=10, bias=True)\n",
              "  )\n",
              ")"
            ]
          },
          "metadata": {},
          "execution_count": 18
        }
      ]
    },
    {
      "cell_type": "code",
      "source": [
        "# just checking if model is working fyi always check with infefence mode and eval()\n",
        "\n",
        "dummy_x= torch.rand([1,1,28,28])\n",
        "print(dummy_x.shape,'\\n')\n",
        "\n",
        "y_logitsss=model_0( dummy_x)\n",
        "y_logitsss"
      ],
      "metadata": {
        "colab": {
          "base_uri": "https://localhost:8080/"
        },
        "id": "qIkzbMPuIyfe",
        "outputId": "48f31676-150a-467c-bcd8-d764968e1833"
      },
      "execution_count": null,
      "outputs": [
        {
          "output_type": "stream",
          "name": "stdout",
          "text": [
            "torch.Size([1, 1, 28, 28]) \n",
            "\n"
          ]
        },
        {
          "output_type": "execute_result",
          "data": {
            "text/plain": [
              "tensor([[-0.2264, -0.2041, -0.3672,  0.1725, -0.2665, -0.3214,  0.3160, -0.4636,\n",
              "         -0.0124, -0.2868]], grad_fn=<AddmmBackward0>)"
            ]
          },
          "metadata": {},
          "execution_count": 19
        }
      ]
    },
    {
      "cell_type": "markdown",
      "source": [
        "#Loss function , optimizer and accuracy function(bcz data is balanced)"
      ],
      "metadata": {
        "id": "XFkFEyfSuHnw"
      }
    },
    {
      "cell_type": "code",
      "source": [
        "# LOSS FUNCTION plus if data was imbalanced you coud add 1D tensor as weight here\n",
        "loss_fn= nn.CrossEntropyLoss()\n",
        "\n",
        "# Optimizer                                         add L2(weight_decay) here if model overfitting\n",
        "# optimizer= torch.optim.Adam(params=model_0.parameters(), lr=0.1)\n",
        "\n",
        "optimizer = torch.optim.SGD(params=model_0.parameters(),\n",
        "                            lr=0.1)"
      ],
      "metadata": {
        "id": "oB_myV9fuGNC"
      },
      "execution_count": null,
      "outputs": []
    },
    {
      "cell_type": "code",
      "source": [
        "# accuracy functiom\n",
        "\n",
        "from pathlib import Path\n",
        "import requests\n",
        "\n",
        "if Path('helper_function.py').is_file():\n",
        "  print('already downloaded')\n",
        "else:\n",
        "  print('downloading')\n",
        "  request= requests.get('https://raw.githubusercontent.com/mrdbourke/pytorch-deep-learning/main/helper_functions.py')\n",
        "\n",
        "  with open('helper_function.py', 'wb') as f:\n",
        "    f.write(request.content)\n",
        "\n",
        "    print('downloaded')\n",
        "\n",
        "# accuracy functiom\n",
        "from helper_function import accuracy_fn"
      ],
      "metadata": {
        "colab": {
          "base_uri": "https://localhost:8080/"
        },
        "id": "B47nHSXxvV2C",
        "outputId": "36319796-e7dc-4f5d-ec36-4c57a6edee47"
      },
      "execution_count": null,
      "outputs": [
        {
          "output_type": "stream",
          "name": "stdout",
          "text": [
            "downloading\n",
            "downloaded\n"
          ]
        }
      ]
    },
    {
      "cell_type": "code",
      "source": [
        "from timeit import  default_timer as Timer\n",
        "\n",
        "def noticetime(start, end, device):\n",
        "  total_time= end- start\n",
        "  print(f'total time on {device} is {total_time:.2f} seconds' )\n",
        "  return total_time"
      ],
      "metadata": {
        "id": "_b0cyvn9t6vJ"
      },
      "execution_count": null,
      "outputs": []
    },
    {
      "cell_type": "markdown",
      "source": [
        "###Creating a training loop and training a model on batches of da\n",
        "\n",
        "\n",
        "\n"
      ],
      "metadata": {
        "id": "b4bmXkjvHjnF"
      }
    },
    {
      "cell_type": "code",
      "source": [
        "from tqdm.auto import tqdm\n",
        "\n",
        "torch.manual_seed(42)\n",
        "start_time=Timer()\n",
        "\n",
        "epochs=3\n",
        "\n",
        "for epoch in tqdm(range(epochs), desc= 'model trainig'):\n",
        "  print(f'epoch:{epoch}\\n-------')\n",
        "\n",
        "# all the loss will accumulate here from all the batches\n",
        "  train_loss , train_acc= 0, 0\n",
        "\n",
        "  for batch_idx ,(x_train, y_train) in (enumerate(train_dataloader)):\n",
        "    model_0.train()\n",
        "\n",
        "    # forward pass\n",
        "    train_logits= model_0(x_train)\n",
        "    train_preds= torch.softmax(train_logits, dim=1).argmax(dim=1)\n",
        "\n",
        "    # calculate loss\n",
        "    loss= loss_fn(train_logits, y_train)\n",
        "    train_loss += loss    #------------------------>>>> this will add loss value to tain loss above ----> imp\n",
        "\n",
        "    # accuracy\n",
        "    acc= accuracy_fn(y_train, train_preds)\n",
        "    train_acc += acc\n",
        "\n",
        "    # zerograd, backpropagation, weight update\n",
        "    optimizer.zero_grad()\n",
        "    loss.backward()\n",
        "    optimizer.step()\n",
        "\n",
        "    if batch_idx % 400 == 0:\n",
        "      print(f' looked at {batch_idx * len(x_train)}/{len(train_dataloader.dataset)} samples')\n",
        "\n",
        "  # Divide total train loss by length of train dataloader\n",
        "  train_loss = train_loss/len(train_dataloader)\n",
        "  train_acc= train_acc/ len(train_dataloader)\n",
        "\n",
        "  #                                         evaluating the model\n",
        "  test_loss, test_acc= 0, 0\n",
        "\n",
        "  model_0.eval()\n",
        "  with torch.inference_mode():\n",
        "    for x_test, y_test in test_dataloader:\n",
        "\n",
        "      # forward pass\n",
        "      test_logits= model_0(x_test)\n",
        "      test_preds= torch.softmax(test_logits, dim=1).argmax(dim=1)\n",
        "\n",
        "      # calculate loss\n",
        "      loss1=loss_fn(test_logits, y_test)\n",
        "      test_loss += loss1\n",
        "\n",
        "      # accuracy\n",
        "      accu1= accuracy_fn(y_test, test_preds)\n",
        "      test_acc += accu1\n",
        "\n",
        "  test_loss= test_loss/len(test_dataloader)\n",
        "  test_acc= test_acc/len(test_dataloader)\n",
        "\n",
        "  print(f'\\nepoch:{epoch} | trainloss:{train_loss:.4f} | testloss:{test_loss:.4f} | trainaccuracy:{train_acc:.2f} | testaccuracy:{test_acc:.2f}')\n",
        "\n",
        "end_time= Timer()\n",
        "notice_time1= noticetime(start_time, end_time, 'cpu')\n"
      ],
      "metadata": {
        "colab": {
          "base_uri": "https://localhost:8080/",
          "height": 535,
          "referenced_widgets": [
            "50a68b65c2f142a9a2f30cf26d32049d",
            "c396c03c49904fd9996c2ebe480af8d7",
            "8fb93801d4584dad913c6af6807c0df8",
            "ddabf4072c294c4fa5c8ed5121a88f66",
            "1eda9ad9438740e3ae75f1f3b3c9925b",
            "864fdfae3ec2483382dfa391d6ef7fbb",
            "38918e80bfbe4127acbc3d300a5ae26a",
            "966506c764744d9a8f61d30f4fa82105",
            "496200d181bd495a950bc6bca5f09ff5",
            "a73e12a091754a019a499f6b83c61072",
            "cb213cd3cbb6470385591f9c58fea29a"
          ]
        },
        "id": "Y_nfSuwmHizO",
        "outputId": "6bb756d2-cf32-4017-b2a0-67bd86ccb04a"
      },
      "execution_count": null,
      "outputs": [
        {
          "output_type": "display_data",
          "data": {
            "text/plain": [
              "model trainig:   0%|          | 0/3 [00:00<?, ?it/s]"
            ],
            "application/vnd.jupyter.widget-view+json": {
              "version_major": 2,
              "version_minor": 0,
              "model_id": "50a68b65c2f142a9a2f30cf26d32049d"
            }
          },
          "metadata": {}
        },
        {
          "output_type": "stream",
          "name": "stdout",
          "text": [
            "epoch:0\n",
            "-------\n",
            " looked at 0/60000 samples\n",
            " looked at 12800/60000 samples\n",
            " looked at 25600/60000 samples\n",
            " looked at 38400/60000 samples\n",
            " looked at 51200/60000 samples\n",
            "\n",
            "epoch:0 | trainloss:0.5940 | testloss:0.5029 | trainaccuracy:78.88 | testaccuracy:82.29\n",
            "epoch:1\n",
            "-------\n",
            " looked at 0/60000 samples\n",
            " looked at 12800/60000 samples\n",
            " looked at 25600/60000 samples\n",
            " looked at 38400/60000 samples\n",
            " looked at 51200/60000 samples\n",
            "\n",
            "epoch:1 | trainloss:0.4760 | testloss:0.4817 | trainaccuracy:83.22 | testaccuracy:83.08\n",
            "epoch:2\n",
            "-------\n",
            " looked at 0/60000 samples\n",
            " looked at 12800/60000 samples\n",
            " looked at 25600/60000 samples\n",
            " looked at 38400/60000 samples\n",
            " looked at 51200/60000 samples\n",
            "\n",
            "epoch:2 | trainloss:0.4547 | testloss:0.4786 | trainaccuracy:84.02 | testaccuracy:83.34\n",
            "total time on cpu is 54.31 seconds\n"
          ]
        }
      ]
    },
    {
      "cell_type": "markdown",
      "source": [
        "#pre cnn V1  of the model"
      ],
      "metadata": {
        "id": "ZaMZSiBXIFN8"
      }
    },
    {
      "cell_type": "code",
      "source": [
        "# device agnostic code\n",
        "device= 'cuda' if torch.cuda.is_available() else 'cpu'\n",
        "\n",
        "class FashionMNISTModelV1(nn.Module):\n",
        "  def __init__(self, input, hidden_units, output):\n",
        "    super().__init__()\n",
        "\n",
        "    self.layer_stack1= nn.Sequential(\n",
        "      nn.Flatten(),\n",
        "      nn.Linear(input, hidden_units),\n",
        "      nn.ReLU(),\n",
        "      nn.Linear(hidden_units, output), # never use relu after output layer\n",
        "\n",
        "    )\n",
        "\n",
        "\n",
        "  def forward(self, x):\n",
        "    return self.layer_stack1(x)"
      ],
      "metadata": {
        "id": "7jU-hiXykib7"
      },
      "execution_count": null,
      "outputs": []
    },
    {
      "cell_type": "code",
      "source": [
        "model_1= FashionMNISTModelV1(input=28*28, hidden_units= 10, output= len(class_name)).to(device)\n",
        "\n",
        "model_1, next(model_1.parameters()).device\n",
        "# model_1.state_dict()"
      ],
      "metadata": {
        "colab": {
          "base_uri": "https://localhost:8080/"
        },
        "id": "XX9pQlJDnQjY",
        "outputId": "e470aacc-f650-49ab-a462-b426e2fdc87c"
      },
      "execution_count": null,
      "outputs": [
        {
          "output_type": "execute_result",
          "data": {
            "text/plain": [
              "(FashionMNISTModelV1(\n",
              "   (layer_stack1): Sequential(\n",
              "     (0): Flatten(start_dim=1, end_dim=-1)\n",
              "     (1): Linear(in_features=784, out_features=10, bias=True)\n",
              "     (2): ReLU()\n",
              "     (3): Linear(in_features=10, out_features=10, bias=True)\n",
              "   )\n",
              " ),\n",
              " device(type='cuda', index=0))"
            ]
          },
          "metadata": {},
          "execution_count": 25
        }
      ]
    },
    {
      "cell_type": "markdown",
      "source": [
        "###loss function & optimizer plus accuracy function"
      ],
      "metadata": {
        "id": "fiYZEShfpEqC"
      }
    },
    {
      "cell_type": "code",
      "source": [
        "# loss function\n",
        "loss_fn= nn.CrossEntropyLoss()\n",
        "\n",
        "# optimizer\n",
        "optimizer= torch.optim.Adam(params= model_1.parameters(), lr= 0.001)\n",
        "\n",
        "# accuracy\n",
        "from helper_function import accuracy_fn\n"
      ],
      "metadata": {
        "id": "ZZX7lZlUo-pI"
      },
      "execution_count": null,
      "outputs": []
    },
    {
      "cell_type": "code",
      "source": [
        "# just checking if model is working\n",
        "dummy_x1= torch.rand([1,1,28,28]).to(device)\n",
        "dummy_x1.shape\n",
        "\n",
        "predss=model_1(dummy_x1)\n",
        "predss"
      ],
      "metadata": {
        "colab": {
          "base_uri": "https://localhost:8080/"
        },
        "id": "_C2TsnEjpu5Z",
        "outputId": "8b4b13fe-1c97-42c3-cd8d-4a273eca0ccc"
      },
      "execution_count": null,
      "outputs": [
        {
          "output_type": "execute_result",
          "data": {
            "text/plain": [
              "tensor([[-0.1732,  0.0349, -0.1054, -0.1550,  0.1248, -0.1912, -0.1777,  0.2943,\n",
              "          0.2441,  0.0308]], device='cuda:0', grad_fn=<AddmmBackward0>)"
            ]
          },
          "metadata": {},
          "execution_count": 27
        }
      ]
    },
    {
      "cell_type": "markdown",
      "source": [
        "#functionalizing the training and testing of model into following\n",
        "\n",
        "*   Training_step\n",
        "*   Testing_step\n",
        "\n"
      ],
      "metadata": {
        "id": "j8lwuKJ4tM4H"
      }
    },
    {
      "cell_type": "code",
      "source": [
        "\n",
        "#                                                       -------------> Train step() <-------------\n",
        "\n",
        "def train_step(model,dataloader,loss_fn, optimizer, accuracy_fn, device=device):\n",
        "\n",
        "  train_loss, train_acc= 0, 0\n",
        "  model.train()\n",
        "\n",
        "  for X, y in dataloader:\n",
        "    # converting data to device\n",
        "    X, y= X.to(device), y.to(device)\n",
        "\n",
        "    # forward pass\n",
        "    y_logits= model(X)\n",
        "    y_pred= torch.softmax(y_logits, dim=1).argmax(dim=1)\n",
        "\n",
        "    # calculate loss\n",
        "    loss= loss_fn(y_logits, y)\n",
        "    train_loss += loss.item()\n",
        "\n",
        "    # accuracy\n",
        "    train_acc += accuracy_fn(y, y_pred)\n",
        "\n",
        "    # remove grad, backpropagation, update params\n",
        "    optimizer.zero_grad()\n",
        "    loss.backward()\n",
        "    optimizer.step()\n",
        "\n",
        "  # dividing total accumilated loss and acc with total batches to find average loss\n",
        "  train_loss /= len(dataloader)\n",
        "  train_acc /= len(dataloader)\n",
        "\n",
        "  print(f'\\nTrain loss: {train_loss:.4f} | train acc: {train_acc}')\n",
        "\n",
        "# -----------------------------------------------------------------------------------------------------------------------------------------------------------------\n",
        "\n",
        "#                                                       -------------> Test step() <-------------\n",
        "\n",
        "def test_step(model, dataloader, loss_fn, optimizer, accuracy_fn, device=device):\n",
        "\n",
        "  test_loss, test_acc= 0, 0\n",
        "  # evaluating the model\n",
        "  model.eval()\n",
        "  with torch.inference_mode():\n",
        "\n",
        "    for X, y in dataloader:\n",
        "      X, y= X.to(device), y.to(device)\n",
        "\n",
        "      # forward pass\n",
        "      y_logits= model(X)\n",
        "      y_pred= torch.softmax(y_logits, dim=1).argmax(dim=1)\n",
        "\n",
        "      # calculate loss\n",
        "      loss= loss_fn(y_logits, y)\n",
        "      test_loss += loss.item()\n",
        "\n",
        "      # accuracy\n",
        "      acc= accuracy_fn(y, y_pred)\n",
        "      test_acc += acc\n",
        "\n",
        "  test_loss /= len(dataloader)\n",
        "  test_acc /= len(dataloader)\n",
        "\n",
        "  print(f'test loss: {test_loss:.4f} | test acc: {test_acc}')\n"
      ],
      "metadata": {
        "id": "tm5A-aqqtMlS"
      },
      "execution_count": null,
      "outputs": []
    },
    {
      "cell_type": "markdown",
      "source": [
        "#Training and Testing the Model\n"
      ],
      "metadata": {
        "id": "a59FYPxp83OB"
      }
    },
    {
      "cell_type": "code",
      "source": [
        "from tqdm.auto import tqdm\n",
        "from timeit  import default_timer  as timer\n",
        "\n",
        "torch.manual_seed(42)\n",
        "torch.cuda.manual_seed(42)\n",
        "\n",
        "start_time= timer()\n",
        "\n",
        "epochs= 3\n",
        "for epoch in tqdm(range(epochs)):\n",
        "  print(f'epoch:{epoch}\\n-----------')\n",
        "\n",
        "  # Training fn\n",
        "  train_step(model_1, train_dataloader, loss_fn, optimizer, accuracy_fn)\n",
        "\n",
        "  # Testing fn\n",
        "  test_step(model_1, test_dataloader, loss_fn, optimizer, accuracy_fn)\n",
        "\n",
        "end_time= timer()\n",
        "notice_time2= noticetime(start_time, end_time, device)\n"
      ],
      "metadata": {
        "colab": {
          "base_uri": "https://localhost:8080/",
          "height": 327,
          "referenced_widgets": [
            "d28e760ff4e9497c97f71916d1c34b22",
            "683215ac093046f7ba578256270f98b5",
            "e519f2e77a4746e5a7051385b363a3fa",
            "d9a9151e38eb496cb420271551bde7c8",
            "0ff20efe4cb1493697b54bf2cfac3d09",
            "7311dc0ae61947998ff7eac824813c7a",
            "11f3ba271c58482da59139a77d14ee68",
            "63800e5a69384b4cb8ff692e901fd786",
            "67827e964bed43c08f5fb36c915529be",
            "b34daa3dbc524ef8a16494e1a647a81e",
            "4ed1a7295a8941a1b59b27ebcc48811c"
          ]
        },
        "id": "ZljlIFLTseGX",
        "outputId": "79f952ac-f97a-4b8e-8764-6390947c86e7"
      },
      "execution_count": null,
      "outputs": [
        {
          "output_type": "display_data",
          "data": {
            "text/plain": [
              "  0%|          | 0/3 [00:00<?, ?it/s]"
            ],
            "application/vnd.jupyter.widget-view+json": {
              "version_major": 2,
              "version_minor": 0,
              "model_id": "d28e760ff4e9497c97f71916d1c34b22"
            }
          },
          "metadata": {}
        },
        {
          "output_type": "stream",
          "name": "stdout",
          "text": [
            "epoch:0\n",
            "-----------\n",
            "\n",
            "Train loss: 0.7035 | train acc: 75.035\n",
            "test loss: 0.5503 | test acc: 80.44129392971246\n",
            "epoch:1\n",
            "-----------\n",
            "\n",
            "Train loss: 0.5019 | train acc: 82.305\n",
            "test loss: 0.4951 | test acc: 82.56789137380191\n",
            "epoch:2\n",
            "-----------\n",
            "\n",
            "Train loss: 0.4629 | train acc: 83.64833333333333\n",
            "test loss: 0.4796 | test acc: 83.13698083067092\n",
            "total time on cuda is 43.69 seconds\n"
          ]
        }
      ]
    },
    {
      "cell_type": "markdown",
      "source": [
        "#1st CNN model"
      ],
      "metadata": {
        "id": "3j5PcaExfCSY"
      }
    },
    {
      "cell_type": "code",
      "source": [
        "                                                      #   --------->JUST FYI<---------\n",
        "# just seeing how cnn works and how it;s ouput shape is\n",
        "dummy_data= torch.rand([1,1,28,28])\n",
        "print(f'dummy data shape:{dummy_data.shape}')\n",
        "\n",
        "cnn_model= nn.Conv2d(in_channels=1 , out_channels=10, kernel_size=(3), stride=1, padding=0)\n",
        "\n",
        "print( 'data shape without padding', cnn_model(dummy_data).shape)\n",
        "\n",
        "max_pool= nn.MaxPool2d(kernel_size=2)\n",
        "\n",
        "print('data shape after maxpooling', max_pool(dummy_data).shape)"
      ],
      "metadata": {
        "colab": {
          "base_uri": "https://localhost:8080/"
        },
        "id": "leNpyn2HfFeU",
        "outputId": "e9170786-fbe5-4095-df8a-4c68b8419847"
      },
      "execution_count": null,
      "outputs": [
        {
          "output_type": "stream",
          "name": "stdout",
          "text": [
            "dummy data shape:torch.Size([1, 1, 28, 28])\n",
            "data shape without padding torch.Size([1, 10, 26, 26])\n",
            "data shape after maxpooling torch.Size([1, 1, 14, 14])\n"
          ]
        }
      ]
    },
    {
      "cell_type": "markdown",
      "source": [
        "#Building the model"
      ],
      "metadata": {
        "id": "xha6AYllgvFb"
      }
    },
    {
      "cell_type": "code",
      "source": [
        "class FashionMNISTModelV2(nn.Module):\n",
        "  def __init__(self, input_shape, hidden_units, output_shape):\n",
        "    super().__init__()\n",
        "\n",
        "    self.conv_layer_block1 = nn.Sequential(\n",
        "\n",
        "        nn.Conv2d(in_channels= input_shape, out_channels= hidden_units,\n",
        "                  kernel_size=3, stride=1, padding=1),\n",
        "        nn.BatchNorm2d(hidden_units),\n",
        "        nn.ReLU(),\n",
        "\n",
        "        nn.Conv2d(in_channels= hidden_units, out_channels= hidden_units,\n",
        "                  kernel_size=3, stride=1,padding=1),\n",
        "        nn.BatchNorm2d(hidden_units),\n",
        "        nn.ReLU(),\n",
        "\n",
        "        nn.MaxPool2d(kernel_size=2)\n",
        "    )\n",
        "\n",
        "    self.conv_layer_block2= nn.Sequential(\n",
        "\n",
        "        nn.Conv2d(in_channels=hidden_units, out_channels= hidden_units,\n",
        "                  kernel_size=3, stride=1, padding=1),\n",
        "        nn.BatchNorm2d(hidden_units),\n",
        "        nn.ReLU(),\n",
        "\n",
        "        nn.Conv2d(\n",
        "            in_channels= hidden_units, out_channels= hidden_units,\n",
        "            kernel_size=3, stride=1, padding=1),\n",
        "        nn.BatchNorm2d(hidden_units),\n",
        "        nn.ReLU(),\n",
        "\n",
        "        nn.MaxPool2d(kernel_size=2)\n",
        "    )\n",
        "\n",
        "    self.classifier_layer= nn.Sequential(\n",
        "        nn.Flatten(),\n",
        "        nn.Linear(in_features= hidden_units *7 *7,\n",
        "                  out_features= output_shape)\n",
        "    )\n",
        "\n",
        "  def forward(self, x):\n",
        "    x= self.conv_layer_block1(x)\n",
        "    # print(f'block 1 shape:{x.shape}')\n",
        "\n",
        "    x= self.conv_layer_block2(x)\n",
        "    # print(f'block 2 shape:{x.shape}\\n')\n",
        "\n",
        "    return self.classifier_layer(x)\n"
      ],
      "metadata": {
        "id": "BGVb3P02gzry"
      },
      "execution_count": null,
      "outputs": []
    },
    {
      "cell_type": "code",
      "source": [
        "model_2= FashionMNISTModelV2(input_shape=1, hidden_units=10, output_shape= len(class_names)).to(device)\n",
        "model_2"
      ],
      "metadata": {
        "colab": {
          "base_uri": "https://localhost:8080/"
        },
        "id": "VG0N4p7giLtA",
        "outputId": "53f5fad2-b3d6-4bf1-e66e-4d06dac62ffd"
      },
      "execution_count": null,
      "outputs": [
        {
          "output_type": "execute_result",
          "data": {
            "text/plain": [
              "FashionMNISTModelV2(\n",
              "  (conv_layer_block1): Sequential(\n",
              "    (0): Conv2d(1, 10, kernel_size=(3, 3), stride=(1, 1), padding=(1, 1))\n",
              "    (1): BatchNorm2d(10, eps=1e-05, momentum=0.1, affine=True, track_running_stats=True)\n",
              "    (2): ReLU()\n",
              "    (3): Conv2d(10, 10, kernel_size=(3, 3), stride=(1, 1), padding=(1, 1))\n",
              "    (4): BatchNorm2d(10, eps=1e-05, momentum=0.1, affine=True, track_running_stats=True)\n",
              "    (5): ReLU()\n",
              "    (6): MaxPool2d(kernel_size=2, stride=2, padding=0, dilation=1, ceil_mode=False)\n",
              "  )\n",
              "  (conv_layer_block2): Sequential(\n",
              "    (0): Conv2d(10, 10, kernel_size=(3, 3), stride=(1, 1), padding=(1, 1))\n",
              "    (1): BatchNorm2d(10, eps=1e-05, momentum=0.1, affine=True, track_running_stats=True)\n",
              "    (2): ReLU()\n",
              "    (3): Conv2d(10, 10, kernel_size=(3, 3), stride=(1, 1), padding=(1, 1))\n",
              "    (4): BatchNorm2d(10, eps=1e-05, momentum=0.1, affine=True, track_running_stats=True)\n",
              "    (5): ReLU()\n",
              "    (6): MaxPool2d(kernel_size=2, stride=2, padding=0, dilation=1, ceil_mode=False)\n",
              "  )\n",
              "  (classifier_layer): Sequential(\n",
              "    (0): Flatten(start_dim=1, end_dim=-1)\n",
              "    (1): Linear(in_features=490, out_features=10, bias=True)\n",
              "  )\n",
              ")"
            ]
          },
          "metadata": {},
          "execution_count": 81
        }
      ]
    },
    {
      "cell_type": "code",
      "source": [
        "# we made this dummy data above for checking convlayer now using it to pass into model to check model\n",
        "print(f'dummy data shape:{dummy_data.shape}\\n')\n",
        "\n",
        "with torch.inference_mode():\n",
        "  model_2(dummy_data.to(device))"
      ],
      "metadata": {
        "colab": {
          "base_uri": "https://localhost:8080/"
        },
        "id": "oLFMaHmoiLd_",
        "outputId": "c98e493b-c1ed-4770-9ce1-197bc8596816"
      },
      "execution_count": null,
      "outputs": [
        {
          "output_type": "stream",
          "name": "stdout",
          "text": [
            "dummy data shape:torch.Size([1, 1, 28, 28])\n",
            "\n"
          ]
        }
      ]
    },
    {
      "cell_type": "markdown",
      "source": [
        "### loss function | optimizer | accuracy function"
      ],
      "metadata": {
        "id": "GkLKJq5Eawgv"
      }
    },
    {
      "cell_type": "code",
      "source": [
        "# loss function\n",
        "loss_fn= nn.CrossEntropyLoss()\n",
        "\n",
        "# optimizer\n",
        "optimizer= torch.optim.Adam(params= model_2.parameters(), lr=0.001)\n",
        "\n",
        "# accuracy function\n",
        "from helper_function import accuracy_fn"
      ],
      "metadata": {
        "id": "gy6KMW1aiLZ7"
      },
      "execution_count": null,
      "outputs": []
    },
    {
      "cell_type": "markdown",
      "source": [
        "#Train_step & Test_step"
      ],
      "metadata": {
        "id": "e3XwvbQObZcr"
      }
    },
    {
      "cell_type": "code",
      "source": [
        "# creating a function for trainig step\n",
        "\n",
        "#                                                  ------------------> Train step <------------------\n",
        "\n",
        "def Training_step(model, dataloader, loss_fn, optimizer, accuracy_fn, device=device):\n",
        "  train_loss, train_acc= 0, 0\n",
        "\n",
        "  model.train()\n",
        "\n",
        "  for batch, (X, y) in enumerate(dataloader):\n",
        "    X, y= X.to(device), y.to(device)\n",
        "    # forward pass\n",
        "    train_logits= model(X)\n",
        "    train_preds= torch.softmax(train_logits, dim=1).argmax(dim=1)\n",
        "\n",
        "    # calculate loss\n",
        "    loss= loss_fn(train_logits, y)\n",
        "    train_loss += loss.item()\n",
        "\n",
        "    # calculate accuracy\n",
        "    acc= accuracy_fn(y, train_preds)\n",
        "    train_acc += acc\n",
        "\n",
        "    # removegrad | backpropagation | gradient descend\n",
        "    optimizer.zero_grad()\n",
        "    loss.backward()\n",
        "    optimizer.step()\n",
        "\n",
        "    if batch % 400 ==0:\n",
        "      print(f'samples: {batch*len(X)}/{len(dataloader.dataset)}')\n",
        "\n",
        "  train_loss /= len(dataloader)\n",
        "  train_acc /= len(dataloader)\n",
        "\n",
        "  print(f'\\nTrain loss:{train_loss:.4f} | Train acc:{train_acc:.2f}')\n",
        "\n",
        "# ------------------------------------------------------------------------------------------------------------------------------------------------------------------------\n",
        "\n",
        "#                                                 ------------------> Test step <------------------\n",
        "\n",
        "def testing_step(model, dataloader, loss_fn, accuracy_fn, device=device):\n",
        "  test_loss, test_acc= 0, 0\n",
        "\n",
        "  model.eval()\n",
        "  with torch.inference_mode():\n",
        "\n",
        "    for X,y in dataloader:\n",
        "      X, y= X.to(device), y.to(device)\n",
        "\n",
        "      # forward pass\n",
        "      test_logits= model(X)\n",
        "      test_preds= torch.softmax(test_logits, dim=1).argmax(dim=1)\n",
        "\n",
        "      # calculate loss\n",
        "      loss= loss_fn(test_logits, y)\n",
        "      test_loss += loss.item()\n",
        "\n",
        "      # calculate acc\n",
        "      acc= accuracy_fn(y, test_preds)\n",
        "      test_acc += acc\n",
        "\n",
        "  test_loss /= len(dataloader)\n",
        "  test_acc /= len(dataloader)\n",
        "\n",
        "  print(f' Test loss:{test_loss:.4f} | Test acc:{test_acc:.2f}')"
      ],
      "metadata": {
        "id": "oUVjCxDybkga"
      },
      "execution_count": null,
      "outputs": []
    },
    {
      "cell_type": "markdown",
      "source": [
        "#Trainig and evaluating the model"
      ],
      "metadata": {
        "id": "QHnuZGH4q9mt"
      }
    },
    {
      "cell_type": "code",
      "source": [
        "from tqdm.auto import tqdm\n",
        "from timeit import default_timer as timer\n",
        "\n",
        "torch.manual_seed(42)\n",
        "torch.cuda.manual_seed(42)\n",
        "\n",
        "start_time0= timer()\n",
        "epochs= 3\n",
        "\n",
        "for epoch in tqdm(range(epochs)):\n",
        "  print(f'epoch:{epoch}\\n---------')\n",
        "\n",
        "  # Train step()\n",
        "  Training_step(model_2, train_dataloader, loss_fn, optimizer, accuracy_fn)\n",
        "\n",
        "  # Test step()\n",
        "  testing_step(model_2, test_dataloader, loss_fn,accuracy_fn)\n",
        "\n",
        "end_time0= timer()\n",
        "notice_time3=noticetime(start_time0, end_time0,'cuda')\n",
        "notice_time3"
      ],
      "metadata": {
        "colab": {
          "base_uri": "https://localhost:8080/",
          "height": 604,
          "referenced_widgets": [
            "e6db8047350d441a8e714de19cd3eabd",
            "12fd0e8e21d5422195b941783e6d19ef",
            "56025455d1ce430a8c98b9ae15a0a573",
            "2fc24c6562864e48bd7a6f1655311b70",
            "ca1b3866868f43c49562ac927cc0f200",
            "dd724c3075d04ac3a1135a8b8d4fa02a",
            "4bd76f0d84964c58852123b3ee18e9e6",
            "adf97c5249f14f14b0fd392d27b6175e",
            "38b51ea834734e9d8457315c8fe03d71",
            "72bc30c076ee41d18347770403be8256",
            "be78c73516d842a3a982a4261e2f5af7"
          ]
        },
        "id": "A3htqusUrE11",
        "outputId": "1208cb47-c406-40a3-8456-867ce1da8357"
      },
      "execution_count": null,
      "outputs": [
        {
          "output_type": "display_data",
          "data": {
            "text/plain": [
              "  0%|          | 0/3 [00:00<?, ?it/s]"
            ],
            "application/vnd.jupyter.widget-view+json": {
              "version_major": 2,
              "version_minor": 0,
              "model_id": "e6db8047350d441a8e714de19cd3eabd"
            }
          },
          "metadata": {}
        },
        {
          "output_type": "stream",
          "name": "stdout",
          "text": [
            "epoch:0\n",
            "---------\n",
            "samples: 0/60000\n",
            "samples: 12800/60000\n",
            "samples: 25600/60000\n",
            "samples: 38400/60000\n",
            "samples: 51200/60000\n",
            "\n",
            "Train loss:0.4069 | Train acc:85.44\n",
            " Test loss:0.3471 | Test acc:87.88\n",
            "epoch:1\n",
            "---------\n",
            "samples: 0/60000\n",
            "samples: 12800/60000\n",
            "samples: 25600/60000\n",
            "samples: 38400/60000\n",
            "samples: 51200/60000\n",
            "\n",
            "Train loss:0.2932 | Train acc:89.48\n",
            " Test loss:0.2924 | Test acc:89.16\n",
            "epoch:2\n",
            "---------\n",
            "samples: 0/60000\n",
            "samples: 12800/60000\n",
            "samples: 25600/60000\n",
            "samples: 38400/60000\n",
            "samples: 51200/60000\n",
            "\n",
            "Train loss:0.2640 | Train acc:90.49\n",
            " Test loss:0.2806 | Test acc:90.08\n",
            "total time on cuda is 47.12 seconds\n"
          ]
        },
        {
          "output_type": "execute_result",
          "data": {
            "text/plain": [
              "47.12018191400011"
            ]
          },
          "metadata": {},
          "execution_count": 85
        }
      ]
    },
    {
      "cell_type": "markdown",
      "source": [
        "##Evaluating(preds) models after trainig and testing"
      ],
      "metadata": {
        "id": "AT8WfUUb3Loc"
      }
    },
    {
      "cell_type": "code",
      "source": [
        "torch.cuda.manual_seed(42)\n",
        "def model_eval(model, dataloader, loss_fn, accuracy_fn, device=device):\n",
        "\n",
        "  loss, accuracy= 0,0\n",
        "  model.eval()\n",
        "  with torch.inference_mode():\n",
        "     for x,y in dataloader:\n",
        "      x,y= x.to(device), y.to(device)\n",
        "\n",
        "      logits= model(x)\n",
        "      preds= torch.softmax(logits,dim=1).argmax(dim=1)\n",
        "\n",
        "      eval_loss= loss_fn(logits, y)\n",
        "      loss += eval_loss.item()\n",
        "\n",
        "      acc= accuracy_fn(y, preds)\n",
        "      accuracy += acc\n",
        "\n",
        "  loss /=len(dataloader)\n",
        "  accuracy/= len(dataloader)\n",
        "\n",
        "  return {'model name':model.__class__.__name__,\n",
        "          'loss': loss,\n",
        "          'accuracy':accuracy}\n",
        "\n"
      ],
      "metadata": {
        "id": "4z4CaWceg4SZ"
      },
      "execution_count": null,
      "outputs": []
    },
    {
      "cell_type": "code",
      "source": [
        "model_2_result= model_eval(model_2, test_dataloader, loss_fn, accuracy_fn)\n",
        "model_2_result"
      ],
      "metadata": {
        "colab": {
          "base_uri": "https://localhost:8080/"
        },
        "id": "m5WeHkywmHyj",
        "outputId": "4264755c-27c9-40dd-b20b-d92bbc35ccec"
      },
      "execution_count": null,
      "outputs": [
        {
          "output_type": "execute_result",
          "data": {
            "text/plain": [
              "{'model name': 'FashionMNISTModelV2',\n",
              " 'loss': 0.28063002098411227,\n",
              " 'accuracy': 90.0758785942492}"
            ]
          },
          "metadata": {},
          "execution_count": 87
        }
      ]
    },
    {
      "cell_type": "code",
      "source": [
        "model_1_results= model_eval(model_1, test_dataloader, loss_fn, accuracy_fn)\n",
        "model_1_results"
      ],
      "metadata": {
        "colab": {
          "base_uri": "https://localhost:8080/"
        },
        "id": "Q-ueCSrGojAl",
        "outputId": "eb8aafba-58cd-4fd8-b8c7-5a5a58cdbf24"
      },
      "execution_count": null,
      "outputs": [
        {
          "output_type": "execute_result",
          "data": {
            "text/plain": [
              "{'model name': 'FashionMNISTModelV1',\n",
              " 'loss': 0.47961383834243204,\n",
              " 'accuracy': 83.13698083067092}"
            ]
          },
          "metadata": {},
          "execution_count": 88
        }
      ]
    },
    {
      "cell_type": "code",
      "source": [
        "model_0_results= model_eval(model_0, test_dataloader, loss_fn, accuracy_fn, device='cpu')\n",
        "model_0_results"
      ],
      "metadata": {
        "colab": {
          "base_uri": "https://localhost:8080/"
        },
        "id": "GbsU0HWKqCS-",
        "outputId": "29819bd3-5172-46e0-8a81-f2cd393973b5"
      },
      "execution_count": null,
      "outputs": [
        {
          "output_type": "execute_result",
          "data": {
            "text/plain": [
              "{'model name': 'FashionMNISTModelV0',\n",
              " 'loss': 0.4785915443453545,\n",
              " 'accuracy': 83.33666134185303}"
            ]
          },
          "metadata": {},
          "execution_count": 89
        }
      ]
    },
    {
      "cell_type": "markdown",
      "source": [
        "### putting the resluts in a data frame"
      ],
      "metadata": {
        "id": "uzDvI2EL3aTg"
      }
    },
    {
      "cell_type": "code",
      "source": [
        "import pandas as pd\n",
        "\n",
        "df= pd.DataFrame([model_0_results, model_1_results, model_2_result])\n",
        "df['time_taken']= [notice_time1,notice_time2,notice_time3]\n",
        "df"
      ],
      "metadata": {
        "colab": {
          "base_uri": "https://localhost:8080/",
          "height": 143
        },
        "id": "6GnmVy5c3fGz",
        "outputId": "f84045e7-c46f-41e0-b762-5147a0f0085c"
      },
      "execution_count": null,
      "outputs": [
        {
          "output_type": "execute_result",
          "data": {
            "text/plain": [
              "            model name      loss   accuracy  time_taken\n",
              "0  FashionMNISTModelV0  0.478592  83.336661   54.309977\n",
              "1  FashionMNISTModelV1  0.479614  83.136981   43.689411\n",
              "2  FashionMNISTModelV2  0.280630  90.075879   47.120182"
            ],
            "text/html": [
              "\n",
              "  <div id=\"df-8c38f546-c153-4794-89a1-f643a07ad373\" class=\"colab-df-container\">\n",
              "    <div>\n",
              "<style scoped>\n",
              "    .dataframe tbody tr th:only-of-type {\n",
              "        vertical-align: middle;\n",
              "    }\n",
              "\n",
              "    .dataframe tbody tr th {\n",
              "        vertical-align: top;\n",
              "    }\n",
              "\n",
              "    .dataframe thead th {\n",
              "        text-align: right;\n",
              "    }\n",
              "</style>\n",
              "<table border=\"1\" class=\"dataframe\">\n",
              "  <thead>\n",
              "    <tr style=\"text-align: right;\">\n",
              "      <th></th>\n",
              "      <th>model name</th>\n",
              "      <th>loss</th>\n",
              "      <th>accuracy</th>\n",
              "      <th>time_taken</th>\n",
              "    </tr>\n",
              "  </thead>\n",
              "  <tbody>\n",
              "    <tr>\n",
              "      <th>0</th>\n",
              "      <td>FashionMNISTModelV0</td>\n",
              "      <td>0.478592</td>\n",
              "      <td>83.336661</td>\n",
              "      <td>54.309977</td>\n",
              "    </tr>\n",
              "    <tr>\n",
              "      <th>1</th>\n",
              "      <td>FashionMNISTModelV1</td>\n",
              "      <td>0.479614</td>\n",
              "      <td>83.136981</td>\n",
              "      <td>43.689411</td>\n",
              "    </tr>\n",
              "    <tr>\n",
              "      <th>2</th>\n",
              "      <td>FashionMNISTModelV2</td>\n",
              "      <td>0.280630</td>\n",
              "      <td>90.075879</td>\n",
              "      <td>47.120182</td>\n",
              "    </tr>\n",
              "  </tbody>\n",
              "</table>\n",
              "</div>\n",
              "    <div class=\"colab-df-buttons\">\n",
              "\n",
              "  <div class=\"colab-df-container\">\n",
              "    <button class=\"colab-df-convert\" onclick=\"convertToInteractive('df-8c38f546-c153-4794-89a1-f643a07ad373')\"\n",
              "            title=\"Convert this dataframe to an interactive table.\"\n",
              "            style=\"display:none;\">\n",
              "\n",
              "  <svg xmlns=\"http://www.w3.org/2000/svg\" height=\"24px\" viewBox=\"0 -960 960 960\">\n",
              "    <path d=\"M120-120v-720h720v720H120Zm60-500h600v-160H180v160Zm220 220h160v-160H400v160Zm0 220h160v-160H400v160ZM180-400h160v-160H180v160Zm440 0h160v-160H620v160ZM180-180h160v-160H180v160Zm440 0h160v-160H620v160Z\"/>\n",
              "  </svg>\n",
              "    </button>\n",
              "\n",
              "  <style>\n",
              "    .colab-df-container {\n",
              "      display:flex;\n",
              "      gap: 12px;\n",
              "    }\n",
              "\n",
              "    .colab-df-convert {\n",
              "      background-color: #E8F0FE;\n",
              "      border: none;\n",
              "      border-radius: 50%;\n",
              "      cursor: pointer;\n",
              "      display: none;\n",
              "      fill: #1967D2;\n",
              "      height: 32px;\n",
              "      padding: 0 0 0 0;\n",
              "      width: 32px;\n",
              "    }\n",
              "\n",
              "    .colab-df-convert:hover {\n",
              "      background-color: #E2EBFA;\n",
              "      box-shadow: 0px 1px 2px rgba(60, 64, 67, 0.3), 0px 1px 3px 1px rgba(60, 64, 67, 0.15);\n",
              "      fill: #174EA6;\n",
              "    }\n",
              "\n",
              "    .colab-df-buttons div {\n",
              "      margin-bottom: 4px;\n",
              "    }\n",
              "\n",
              "    [theme=dark] .colab-df-convert {\n",
              "      background-color: #3B4455;\n",
              "      fill: #D2E3FC;\n",
              "    }\n",
              "\n",
              "    [theme=dark] .colab-df-convert:hover {\n",
              "      background-color: #434B5C;\n",
              "      box-shadow: 0px 1px 3px 1px rgba(0, 0, 0, 0.15);\n",
              "      filter: drop-shadow(0px 1px 2px rgba(0, 0, 0, 0.3));\n",
              "      fill: #FFFFFF;\n",
              "    }\n",
              "  </style>\n",
              "\n",
              "    <script>\n",
              "      const buttonEl =\n",
              "        document.querySelector('#df-8c38f546-c153-4794-89a1-f643a07ad373 button.colab-df-convert');\n",
              "      buttonEl.style.display =\n",
              "        google.colab.kernel.accessAllowed ? 'block' : 'none';\n",
              "\n",
              "      async function convertToInteractive(key) {\n",
              "        const element = document.querySelector('#df-8c38f546-c153-4794-89a1-f643a07ad373');\n",
              "        const dataTable =\n",
              "          await google.colab.kernel.invokeFunction('convertToInteractive',\n",
              "                                                    [key], {});\n",
              "        if (!dataTable) return;\n",
              "\n",
              "        const docLinkHtml = 'Like what you see? Visit the ' +\n",
              "          '<a target=\"_blank\" href=https://colab.research.google.com/notebooks/data_table.ipynb>data table notebook</a>'\n",
              "          + ' to learn more about interactive tables.';\n",
              "        element.innerHTML = '';\n",
              "        dataTable['output_type'] = 'display_data';\n",
              "        await google.colab.output.renderOutput(dataTable, element);\n",
              "        const docLink = document.createElement('div');\n",
              "        docLink.innerHTML = docLinkHtml;\n",
              "        element.appendChild(docLink);\n",
              "      }\n",
              "    </script>\n",
              "  </div>\n",
              "\n",
              "\n",
              "    <div id=\"df-56b4c778-6384-4cab-a12b-103d30837da2\">\n",
              "      <button class=\"colab-df-quickchart\" onclick=\"quickchart('df-56b4c778-6384-4cab-a12b-103d30837da2')\"\n",
              "                title=\"Suggest charts\"\n",
              "                style=\"display:none;\">\n",
              "\n",
              "<svg xmlns=\"http://www.w3.org/2000/svg\" height=\"24px\"viewBox=\"0 0 24 24\"\n",
              "     width=\"24px\">\n",
              "    <g>\n",
              "        <path d=\"M19 3H5c-1.1 0-2 .9-2 2v14c0 1.1.9 2 2 2h14c1.1 0 2-.9 2-2V5c0-1.1-.9-2-2-2zM9 17H7v-7h2v7zm4 0h-2V7h2v10zm4 0h-2v-4h2v4z\"/>\n",
              "    </g>\n",
              "</svg>\n",
              "      </button>\n",
              "\n",
              "<style>\n",
              "  .colab-df-quickchart {\n",
              "      --bg-color: #E8F0FE;\n",
              "      --fill-color: #1967D2;\n",
              "      --hover-bg-color: #E2EBFA;\n",
              "      --hover-fill-color: #174EA6;\n",
              "      --disabled-fill-color: #AAA;\n",
              "      --disabled-bg-color: #DDD;\n",
              "  }\n",
              "\n",
              "  [theme=dark] .colab-df-quickchart {\n",
              "      --bg-color: #3B4455;\n",
              "      --fill-color: #D2E3FC;\n",
              "      --hover-bg-color: #434B5C;\n",
              "      --hover-fill-color: #FFFFFF;\n",
              "      --disabled-bg-color: #3B4455;\n",
              "      --disabled-fill-color: #666;\n",
              "  }\n",
              "\n",
              "  .colab-df-quickchart {\n",
              "    background-color: var(--bg-color);\n",
              "    border: none;\n",
              "    border-radius: 50%;\n",
              "    cursor: pointer;\n",
              "    display: none;\n",
              "    fill: var(--fill-color);\n",
              "    height: 32px;\n",
              "    padding: 0;\n",
              "    width: 32px;\n",
              "  }\n",
              "\n",
              "  .colab-df-quickchart:hover {\n",
              "    background-color: var(--hover-bg-color);\n",
              "    box-shadow: 0 1px 2px rgba(60, 64, 67, 0.3), 0 1px 3px 1px rgba(60, 64, 67, 0.15);\n",
              "    fill: var(--button-hover-fill-color);\n",
              "  }\n",
              "\n",
              "  .colab-df-quickchart-complete:disabled,\n",
              "  .colab-df-quickchart-complete:disabled:hover {\n",
              "    background-color: var(--disabled-bg-color);\n",
              "    fill: var(--disabled-fill-color);\n",
              "    box-shadow: none;\n",
              "  }\n",
              "\n",
              "  .colab-df-spinner {\n",
              "    border: 2px solid var(--fill-color);\n",
              "    border-color: transparent;\n",
              "    border-bottom-color: var(--fill-color);\n",
              "    animation:\n",
              "      spin 1s steps(1) infinite;\n",
              "  }\n",
              "\n",
              "  @keyframes spin {\n",
              "    0% {\n",
              "      border-color: transparent;\n",
              "      border-bottom-color: var(--fill-color);\n",
              "      border-left-color: var(--fill-color);\n",
              "    }\n",
              "    20% {\n",
              "      border-color: transparent;\n",
              "      border-left-color: var(--fill-color);\n",
              "      border-top-color: var(--fill-color);\n",
              "    }\n",
              "    30% {\n",
              "      border-color: transparent;\n",
              "      border-left-color: var(--fill-color);\n",
              "      border-top-color: var(--fill-color);\n",
              "      border-right-color: var(--fill-color);\n",
              "    }\n",
              "    40% {\n",
              "      border-color: transparent;\n",
              "      border-right-color: var(--fill-color);\n",
              "      border-top-color: var(--fill-color);\n",
              "    }\n",
              "    60% {\n",
              "      border-color: transparent;\n",
              "      border-right-color: var(--fill-color);\n",
              "    }\n",
              "    80% {\n",
              "      border-color: transparent;\n",
              "      border-right-color: var(--fill-color);\n",
              "      border-bottom-color: var(--fill-color);\n",
              "    }\n",
              "    90% {\n",
              "      border-color: transparent;\n",
              "      border-bottom-color: var(--fill-color);\n",
              "    }\n",
              "  }\n",
              "</style>\n",
              "\n",
              "      <script>\n",
              "        async function quickchart(key) {\n",
              "          const quickchartButtonEl =\n",
              "            document.querySelector('#' + key + ' button');\n",
              "          quickchartButtonEl.disabled = true;  // To prevent multiple clicks.\n",
              "          quickchartButtonEl.classList.add('colab-df-spinner');\n",
              "          try {\n",
              "            const charts = await google.colab.kernel.invokeFunction(\n",
              "                'suggestCharts', [key], {});\n",
              "          } catch (error) {\n",
              "            console.error('Error during call to suggestCharts:', error);\n",
              "          }\n",
              "          quickchartButtonEl.classList.remove('colab-df-spinner');\n",
              "          quickchartButtonEl.classList.add('colab-df-quickchart-complete');\n",
              "        }\n",
              "        (() => {\n",
              "          let quickchartButtonEl =\n",
              "            document.querySelector('#df-56b4c778-6384-4cab-a12b-103d30837da2 button');\n",
              "          quickchartButtonEl.style.display =\n",
              "            google.colab.kernel.accessAllowed ? 'block' : 'none';\n",
              "        })();\n",
              "      </script>\n",
              "    </div>\n",
              "\n",
              "  <div id=\"id_4ebcda8b-e4e1-4621-98d5-a48c9cc1ac9c\">\n",
              "    <style>\n",
              "      .colab-df-generate {\n",
              "        background-color: #E8F0FE;\n",
              "        border: none;\n",
              "        border-radius: 50%;\n",
              "        cursor: pointer;\n",
              "        display: none;\n",
              "        fill: #1967D2;\n",
              "        height: 32px;\n",
              "        padding: 0 0 0 0;\n",
              "        width: 32px;\n",
              "      }\n",
              "\n",
              "      .colab-df-generate:hover {\n",
              "        background-color: #E2EBFA;\n",
              "        box-shadow: 0px 1px 2px rgba(60, 64, 67, 0.3), 0px 1px 3px 1px rgba(60, 64, 67, 0.15);\n",
              "        fill: #174EA6;\n",
              "      }\n",
              "\n",
              "      [theme=dark] .colab-df-generate {\n",
              "        background-color: #3B4455;\n",
              "        fill: #D2E3FC;\n",
              "      }\n",
              "\n",
              "      [theme=dark] .colab-df-generate:hover {\n",
              "        background-color: #434B5C;\n",
              "        box-shadow: 0px 1px 3px 1px rgba(0, 0, 0, 0.15);\n",
              "        filter: drop-shadow(0px 1px 2px rgba(0, 0, 0, 0.3));\n",
              "        fill: #FFFFFF;\n",
              "      }\n",
              "    </style>\n",
              "    <button class=\"colab-df-generate\" onclick=\"generateWithVariable('df')\"\n",
              "            title=\"Generate code using this dataframe.\"\n",
              "            style=\"display:none;\">\n",
              "\n",
              "  <svg xmlns=\"http://www.w3.org/2000/svg\" height=\"24px\"viewBox=\"0 0 24 24\"\n",
              "       width=\"24px\">\n",
              "    <path d=\"M7,19H8.4L18.45,9,17,7.55,7,17.6ZM5,21V16.75L18.45,3.32a2,2,0,0,1,2.83,0l1.4,1.43a1.91,1.91,0,0,1,.58,1.4,1.91,1.91,0,0,1-.58,1.4L9.25,21ZM18.45,9,17,7.55Zm-12,3A5.31,5.31,0,0,0,4.9,8.1,5.31,5.31,0,0,0,1,6.5,5.31,5.31,0,0,0,4.9,4.9,5.31,5.31,0,0,0,6.5,1,5.31,5.31,0,0,0,8.1,4.9,5.31,5.31,0,0,0,12,6.5,5.46,5.46,0,0,0,6.5,12Z\"/>\n",
              "  </svg>\n",
              "    </button>\n",
              "    <script>\n",
              "      (() => {\n",
              "      const buttonEl =\n",
              "        document.querySelector('#id_4ebcda8b-e4e1-4621-98d5-a48c9cc1ac9c button.colab-df-generate');\n",
              "      buttonEl.style.display =\n",
              "        google.colab.kernel.accessAllowed ? 'block' : 'none';\n",
              "\n",
              "      buttonEl.onclick = () => {\n",
              "        google.colab.notebook.generateWithVariable('df');\n",
              "      }\n",
              "      })();\n",
              "    </script>\n",
              "  </div>\n",
              "\n",
              "    </div>\n",
              "  </div>\n"
            ],
            "application/vnd.google.colaboratory.intrinsic+json": {
              "type": "dataframe",
              "variable_name": "df",
              "summary": "{\n  \"name\": \"df\",\n  \"rows\": 3,\n  \"fields\": [\n    {\n      \"column\": \"model name\",\n      \"properties\": {\n        \"dtype\": \"string\",\n        \"num_unique_values\": 3,\n        \"samples\": [\n          \"FashionMNISTModelV0\",\n          \"FashionMNISTModelV1\",\n          \"FashionMNISTModelV2\"\n        ],\n        \"semantic_type\": \"\",\n        \"description\": \"\"\n      }\n    },\n    {\n      \"column\": \"loss\",\n      \"properties\": {\n        \"dtype\": \"number\",\n        \"std\": 0.11458938969716267,\n        \"min\": 0.28063002098411227,\n        \"max\": 0.47961383834243204,\n        \"num_unique_values\": 3,\n        \"samples\": [\n          0.4785915443453545,\n          0.47961383834243204,\n          0.28063002098411227\n        ],\n        \"semantic_type\": \"\",\n        \"description\": \"\"\n      }\n    },\n    {\n      \"column\": \"accuracy\",\n      \"properties\": {\n        \"dtype\": \"number\",\n        \"std\": 3.9497937426092657,\n        \"min\": 83.13698083067092,\n        \"max\": 90.0758785942492,\n        \"num_unique_values\": 3,\n        \"samples\": [\n          83.33666134185303,\n          83.13698083067092,\n          90.0758785942492\n        ],\n        \"semantic_type\": \"\",\n        \"description\": \"\"\n      }\n    },\n    {\n      \"column\": \"time_taken\",\n      \"properties\": {\n        \"dtype\": \"number\",\n        \"std\": 5.420020937187337,\n        \"min\": 43.68941099100002,\n        \"max\": 54.309976913000014,\n        \"num_unique_values\": 3,\n        \"samples\": [\n          54.309976913000014,\n          43.68941099100002,\n          47.12018191400011\n        ],\n        \"semantic_type\": \"\",\n        \"description\": \"\"\n      }\n    }\n  ]\n}"
            }
          },
          "metadata": {},
          "execution_count": 90
        }
      ]
    },
    {
      "cell_type": "code",
      "source": [
        "\n",
        "import matplotlib.pyplot as plt\n",
        "\n",
        "plt.barh(df['model name'], df['accuracy'])\n",
        "plt.ylabel('model')\n",
        "plt.xlabel('accuracy')\n",
        "plt.title('model accuracy')\n",
        "plt.show()\n"
      ],
      "metadata": {
        "colab": {
          "base_uri": "https://localhost:8080/",
          "height": 472
        },
        "id": "Xm8JvgT24AkF",
        "outputId": "0250e3d5-ed06-4931-abce-e23e91bc29ff"
      },
      "execution_count": null,
      "outputs": [
        {
          "output_type": "display_data",
          "data": {
            "text/plain": [
              "<Figure size 640x480 with 1 Axes>"
            ],
            "image/png": "[encoded data removed]"
          },
          "metadata": {}
        }
      ]
    },
    {
      "cell_type": "markdown",
      "source": [
        "#Selecting 9 random samples from `test_data` with labels for making predictions"
      ],
      "metadata": {
        "id": "exj8RAX958TO"
      }
    },
    {
      "cell_type": "code",
      "source": [
        "import random\n",
        "\n",
        "# Selecting 9 random samples & labels from \"test_data\" for making predictions\n",
        "# ---> imp ---> random.sample() only works with list, tuple, or str — not dataset objects\n",
        "\n",
        "test_samples=[]\n",
        "test_labels=[]\n",
        "\n",
        "for samples, labels in random.sample(list(Test_data), k=9):  # Test_data is not a list — even though it acts like one (you can index it, but it’s not technically a list).\n",
        "  test_samples.append(samples)\n",
        "  test_labels.append(labels)\n",
        "\n",
        "\n",
        "print('image shape:',test_samples[0].shape), test_labels"
      ],
      "metadata": {
        "colab": {
          "base_uri": "https://localhost:8080/"
        },
        "id": "9DJ2nTuF7y_2",
        "outputId": "de37cb44-0f1d-4f12-da2b-e648c0579b26"
      },
      "execution_count": null,
      "outputs": [
        {
          "output_type": "stream",
          "name": "stdout",
          "text": [
            "image shape: torch.Size([1, 28, 28])\n"
          ]
        },
        {
          "output_type": "execute_result",
          "data": {
            "text/plain": [
              "(None, [5, 2, 2, 2, 2, 6, 6, 7, 9])"
            ]
          },
          "metadata": {},
          "execution_count": 92
        }
      ]
    },
    {
      "cell_type": "code",
      "source": [
        "plt.imshow( test_samples[0].squeeze(), cmap='gray')\n",
        "plt.title(class_names[test_labels[0]])\n"
      ],
      "metadata": {
        "id": "oAPTh-qwJzrM",
        "colab": {
          "base_uri": "https://localhost:8080/",
          "height": 469
        },
        "outputId": "ac8e2d94-f5db-43e6-dd65-a1c3d5d77ef5"
      },
      "execution_count": null,
      "outputs": [
        {
          "output_type": "execute_result",
          "data": {
            "text/plain": [
              "Text(0.5, 1.0, 'Sandal')"
            ]
          },
          "metadata": {},
          "execution_count": 93
        },
        {
          "output_type": "display_data",
          "data": {
            "text/plain": [
              "<Figure size 640x480 with 1 Axes>"
            ],
            "image/png": "[encoded data removed]"
          },
          "metadata": {}
        }
      ]
    },
    {
      "cell_type": "markdown",
      "source": [
        "#Making Predictions with those 9 random samples and compare preds with labels"
      ],
      "metadata": {
        "id": "GBlEXFdkKIZM"
      }
    },
    {
      "cell_type": "code",
      "source": [
        "# making Preds with those 9 random samples ad compare preds with labels\n",
        "\n",
        "preds=[]  # extracting pred(prediction label) to here\n",
        "\n",
        "model_2.eval()\n",
        "with torch.inference_mode():\n",
        "\n",
        "  for samples in test_samples:\n",
        "    samples= samples.to(device).unsqueeze(dim=1)\n",
        "\n",
        "    # forward pass for real pred\n",
        "    pred_logits= model_2(samples)\n",
        "    pred= torch.softmax(pred_logits, dim=1).argmax(dim=1)\n",
        "\n",
        "    # append / extract them\n",
        "    preds.append(pred.cpu().item())\n",
        "\n",
        "print(preds, '\\n',preds == test_labels , '\\n', preds[:4])"
      ],
      "metadata": {
        "colab": {
          "base_uri": "https://localhost:8080/"
        },
        "id": "PR3i-44bKWgG",
        "outputId": "96c8dc94-a88a-48f6-817d-55bc893d2f5f"
      },
      "execution_count": null,
      "outputs": [
        {
          "output_type": "stream",
          "name": "stdout",
          "text": [
            "[5, 2, 2, 6, 2, 0, 4, 7, 9] \n",
            " False \n",
            " [5, 2, 2, 6]\n"
          ]
        }
      ]
    },
    {
      "cell_type": "markdown",
      "source": [
        "#Plotting the  `pred labels` and `true labels` with `test_sample(image)`"
      ],
      "metadata": {
        "id": "EOFeP28a9H87"
      }
    },
    {
      "cell_type": "code",
      "source": [
        "\n",
        "# using test_samples(ing) ,test_labels(true label) and comparing with pred(pred label) of our trained model.\n",
        "\n",
        "# plotting\n",
        "plt.imshow(test_samples[0].squeeze(), cmap='gray')\n",
        "plt.title(f'pred:{ class_names[preds[0]] } | label:{ class_names[test_labels[0]] }')\n",
        "\n",
        "# img shape and check pred label and true label\n",
        "print(test_samples[0].shape)\n",
        "print(preds[0], test_labels[0], preds[0]==test_labels[0] ) #prediction is correct of test sample img\n"
      ],
      "metadata": {
        "colab": {
          "base_uri": "https://localhost:8080/",
          "height": 487
        },
        "id": "R7bDG-ZdXyuU",
        "outputId": "366cd465-528a-4caa-9962-16519b24b181"
      },
      "execution_count": null,
      "outputs": [
        {
          "output_type": "stream",
          "name": "stdout",
          "text": [
            "torch.Size([1, 28, 28])\n",
            "5 5 True\n"
          ]
        },
        {
          "output_type": "display_data",
          "data": {
            "text/plain": [
              "<Figure size 640x480 with 1 Axes>"
            ],
            "image/png": "[encoded data removed]"
          },
          "metadata": {}
        }
      ]
    },
    {
      "cell_type": "markdown",
      "source": [
        "#Plotting the random 9 images, pred labels and true labels"
      ],
      "metadata": {
        "id": "QftigWWv88ig"
      }
    },
    {
      "cell_type": "code",
      "source": [
        "print(len(test_samples))\n",
        "\n",
        "plt.figure(figsize=(9,9))\n",
        "\n",
        "for i , sample in enumerate(test_samples):\n",
        "\n",
        "  plt.subplot(3,3, i+1)\n",
        "  plt.imshow(sample.squeeze(), cmap='grey')\n",
        "\n",
        "  if preds[i] is not test_labels[i]: # Accessing the correct predicted label from the list\n",
        "    plt.title(f'pred:{ class_names[preds[i]] } | true:{ class_names[test_labels[i]] }', c='red', fontsize=9)\n",
        "  else:\n",
        "    plt.title(f'pred:{ class_names[preds[i]] } | true:{class_names[test_labels[i]] }', c='green', fontsize=9)\n",
        "\n",
        "\n",
        "  plt.axis(False)"
      ],
      "metadata": {
        "colab": {
          "base_uri": "https://localhost:8080/",
          "height": 765
        },
        "id": "p4OPyOlH9YiQ",
        "outputId": "bf7c1a74-6309-4678-f4c9-e2d07dc49629"
      },
      "execution_count": null,
      "outputs": [
        {
          "output_type": "stream",
          "name": "stdout",
          "text": [
            "9\n"
          ]
        },
        {
          "output_type": "display_data",
          "data": {
            "text/plain": [
              "<Figure size 900x900 with 9 Axes>"
            ],
            "image/png": "[encoded data removed]"
          },
          "metadata": {}
        }
      ]
    },
    {
      "cell_type": "markdown",
      "source": [
        "#***Making Predictions with Test data***"
      ],
      "metadata": {
        "id": "lEU6ZphVo3UB"
      }
    },
    {
      "cell_type": "code",
      "source": [
        "  # 1. Make predictions with trained model\n",
        "\n",
        "pred_labels= []\n",
        "\n",
        "model_2.eval()\n",
        "with torch.inference_mode():\n",
        "   for x,y in tqdm(test_dataloader, desc='it is loading'):\n",
        "    x, y=x.to(device), y.to(device)\n",
        "\n",
        "    # forward pass\n",
        "    pred_logits= model_2(x)\n",
        "    y_pred= torch.softmax(pred_logits, dim=1).argmax(dim=1)\n",
        "\n",
        "    pred_labels.append(y_pred.cpu())\n",
        "\n",
        "# pred_labels will be in batches of 32\n",
        "pred_label_tenor= torch.cat(pred_labels) # This(torch.cat) combines all batch predictions into one long tensor, so you can: Compare with all test labels.\n",
        "\n",
        "pred_label_tenor   # <<<<------------------------------------------------------- OUR PREDICTIONS <------- IMP\n"
      ],
      "metadata": {
        "colab": {
          "base_uri": "https://localhost:8080/",
          "height": 66,
          "referenced_widgets": [
            "bcbe4b699e5440d784bea1720565af9b",
            "8d5a34e8bcad4bc9b9247743ad624781",
            "d00cb285889349b6ba6604c26b0d13b1",
            "fc6a6aa88f9a4a42b28805c6cf2e58de",
            "b3733e08c62346979211196a23cd29f3",
            "782f563cd1ba455d9e77748fe411f00e",
            "a924049bcf9e478881a3312d2fdb2299",
            "fdc0f3273d9b4edd81039e5614706a39",
            "e8ded44270664ad78d550648a5c780ab",
            "46562354450a4e168e27ded574295fc5",
            "c8cb7828bcaf4bee959ee281dbaa18af"
          ]
        },
        "id": "QxP0nztipB2b",
        "outputId": "4956d593-c209-4de3-d37e-a1d730cb2274"
      },
      "execution_count": null,
      "outputs": [
        {
          "output_type": "display_data",
          "data": {
            "text/plain": [
              "it is loading:   0%|          | 0/313 [00:00<?, ?it/s]"
            ],
            "application/vnd.jupyter.widget-view+json": {
              "version_major": 2,
              "version_minor": 0,
              "model_id": "bcbe4b699e5440d784bea1720565af9b"
            }
          },
          "metadata": {}
        },
        {
          "output_type": "execute_result",
          "data": {
            "text/plain": [
              "tensor([9, 2, 1,  ..., 8, 1, 5])"
            ]
          },
          "metadata": {},
          "execution_count": 97
        }
      ]
    },
    {
      "cell_type": "code",
      "source": [
        "len(pred_label_tenor) , len(Test_data.targets), pred_label_tenor[:10], Test_data.targets[:10]"
      ],
      "metadata": {
        "colab": {
          "base_uri": "https://localhost:8080/"
        },
        "id": "OvBi-PdYw2K5",
        "outputId": "473bffad-766d-423e-e85e-8a0a5063a7ed"
      },
      "execution_count": null,
      "outputs": [
        {
          "output_type": "execute_result",
          "data": {
            "text/plain": [
              "(10000,\n",
              " 10000,\n",
              " tensor([9, 2, 1, 1, 6, 1, 4, 6, 5, 7]),\n",
              " tensor([9, 2, 1, 1, 6, 1, 4, 6, 5, 7]))"
            ]
          },
          "metadata": {},
          "execution_count": 98
        }
      ]
    },
    {
      "cell_type": "markdown",
      "source": [
        "#plotting confusion metric for better visualization"
      ],
      "metadata": {
        "id": "fCVOeDMyznSB"
      }
    },
    {
      "cell_type": "code",
      "source": [
        "from sklearn.metrics import confusion_matrix, ConfusionMatrixDisplay\n",
        "import matplotlib.pyplot as plt\n",
        "\n",
        "confmat_tensor= confusion_matrix(Test_data.targets, pred_label_tenor)\n",
        "confmat_tensor\n",
        "# Optional: visualize\n",
        "\n",
        "display= ConfusionMatrixDisplay(confusion_matrix= confmat_tensor, display_labels=class_names)\n",
        "display.plot(cmap='Blues', xticks_rotation=45)\n",
        "plt.title('confusion matrix')\n",
        "plt.show()\n",
        "\n"
      ],
      "metadata": {
        "colab": {
          "base_uri": "https://localhost:8080/",
          "height": 520
        },
        "id": "phmOBvtczsOw",
        "outputId": "711dec08-96de-48db-dad4-a5025ca0a653"
      },
      "execution_count": null,
      "outputs": [
        {
          "output_type": "display_data",
          "data": {
            "text/plain": [
              "<Figure size 640x480 with 2 Axes>"
            ],
            "image/png": "[encoded data removed]"
          },
          "metadata": {}
        }
      ]
    },
    {
      "cell_type": "markdown",
      "source": [
        "#***Saving `torch.save()`*** the model parameters"
      ],
      "metadata": {
        "id": "zSjLWvRf6akl"
      }
    },
    {
      "cell_type": "code",
      "source": [
        "from pathlib import Path\n",
        "\n",
        "Model_weights = Path('Model_weights')\n",
        "Model_weights.mkdir(parents=True, exist_ok=True)\n",
        "\n",
        "torch.save(model_2.state_dict(), Model_weights/'weights.pth')"
      ],
      "metadata": {
        "id": "Pd2UHAG820vV"
      },
      "execution_count": null,
      "outputs": []
    },
    {
      "cell_type": "markdown",
      "source": [
        "#***Loading `torch.load()`*** the saved model parameters"
      ],
      "metadata": {
        "id": "UJxm4L_d6rOL"
      }
    },
    {
      "cell_type": "code",
      "source": [
        "# to load the saved model you have to first instantiate the model\n",
        "\n",
        "loaded_model_2= FashionMNISTModelV2(input_shape=1, hidden_units=10, output_shape= len(class_names)).to(device)\n",
        "loaded_model_2.load_state_dict(torch.load( Model_weights/'weights.pth' ))\n",
        "\n",
        "loaded_model_2"
      ],
      "metadata": {
        "colab": {
          "base_uri": "https://localhost:8080/"
        },
        "id": "vbcWkWpL6pRv",
        "outputId": "21e4f6b2-517c-44c3-8185-3d8f7bba5be9"
      },
      "execution_count": null,
      "outputs": [
        {
          "output_type": "execute_result",
          "data": {
            "text/plain": [
              "FashionMNISTModelV2(\n",
              "  (conv_layer_block1): Sequential(\n",
              "    (0): Conv2d(1, 10, kernel_size=(3, 3), stride=(1, 1), padding=(1, 1))\n",
              "    (1): BatchNorm2d(10, eps=1e-05, momentum=0.1, affine=True, track_running_stats=True)\n",
              "    (2): ReLU()\n",
              "    (3): Conv2d(10, 10, kernel_size=(3, 3), stride=(1, 1), padding=(1, 1))\n",
              "    (4): BatchNorm2d(10, eps=1e-05, momentum=0.1, affine=True, track_running_stats=True)\n",
              "    (5): ReLU()\n",
              "    (6): MaxPool2d(kernel_size=2, stride=2, padding=0, dilation=1, ceil_mode=False)\n",
              "  )\n",
              "  (conv_layer_block2): Sequential(\n",
              "    (0): Conv2d(10, 10, kernel_size=(3, 3), stride=(1, 1), padding=(1, 1))\n",
              "    (1): BatchNorm2d(10, eps=1e-05, momentum=0.1, affine=True, track_running_stats=True)\n",
              "    (2): ReLU()\n",
              "    (3): Conv2d(10, 10, kernel_size=(3, 3), stride=(1, 1), padding=(1, 1))\n",
              "    (4): BatchNorm2d(10, eps=1e-05, momentum=0.1, affine=True, track_running_stats=True)\n",
              "    (5): ReLU()\n",
              "    (6): MaxPool2d(kernel_size=2, stride=2, padding=0, dilation=1, ceil_mode=False)\n",
              "  )\n",
              "  (classifier_layer): Sequential(\n",
              "    (0): Flatten(start_dim=1, end_dim=-1)\n",
              "    (1): Linear(in_features=490, out_features=10, bias=True)\n",
              "  )\n",
              ")"
            ]
          },
          "metadata": {},
          "execution_count": 101
        }
      ]
    },
    {
      "cell_type": "markdown",
      "source": [
        "###matching the loaded model results with model_2"
      ],
      "metadata": {
        "id": "mL5oCsYY7moE"
      }
    },
    {
      "cell_type": "code",
      "source": [
        "loaded_model_2_results= model_eval(loaded_model_2, test_dataloader, loss_fn, accuracy_fn)\n",
        "\n",
        "print(loaded_model_2_results,'\\n\\n',model_2_result)"
      ],
      "metadata": {
        "colab": {
          "base_uri": "https://localhost:8080/"
        },
        "id": "XMHR8Akc7tl9",
        "outputId": "85790388-22f7-42bb-84cb-15a7bcec6711"
      },
      "execution_count": null,
      "outputs": [
        {
          "output_type": "stream",
          "name": "stdout",
          "text": [
            "{'model name': 'FashionMNISTModelV2', 'loss': 0.28063002098411227, 'accuracy': 90.0758785942492} \n",
            "\n",
            " {'model name': 'FashionMNISTModelV2', 'loss': 0.28063002098411227, 'accuracy': 90.0758785942492}\n"
          ]
        }
      ]
    },
    {
      "cell_type": "code",
      "source": [
        "torch.isclose(torch.tensor(model_2_result['loss']),\n",
        "              torch.tensor(loaded_model_2_results['loss']),\n",
        "              atol=0.001)"
      ],
      "metadata": {
        "colab": {
          "base_uri": "https://localhost:8080/"
        },
        "id": "Nkc67nfm9Vao",
        "outputId": "7d1502dd-8c32-4074-b845-01db602df099"
      },
      "execution_count": null,
      "outputs": [
        {
          "output_type": "execute_result",
          "data": {
            "text/plain": [
              "tensor(True)"
            ]
          },
          "metadata": {},
          "execution_count": 103
        }
      ]
    }
  ]
}