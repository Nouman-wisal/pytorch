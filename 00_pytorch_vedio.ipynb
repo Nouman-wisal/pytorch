{
  "nbformat": 4,
  "nbformat_minor": 0,
  "metadata": {
    "colab": {
      "provenance": [],
      "gpuType": "T4",
      "include_colab_link": true
    },
    "kernelspec": {
      "name": "python3",
      "display_name": "Python 3"
    },
    "language_info": {
      "name": "python"
    },
    "accelerator": "GPU"
  },
  "cells": [
    {
      "cell_type": "markdown",
      "metadata": {
        "id": "view-in-github",
        "colab_type": "text"
      },
      "source": [
        "<a href=\"https://colab.research.google.com/github/Nouman-wisal/pytorch/blob/main/00_pytorch_vedio.ipynb\" target=\"_parent\"><img src=\"https://colab.research.google.com/assets/colab-badge.svg\" alt=\"Open In Colab\"/></a>"
      ]
    },
    {
      "cell_type": "code",
      "source": [
        "print(\"hello i'm starting to learn pytorch today 17-may-2025\")"
      ],
      "metadata": {
        "id": "4BL8Y6KfEN5E",
        "colab": {
          "base_uri": "https://localhost:8080/"
        },
        "outputId": "3c474328-3d80-4413-e6da-c8410a63a89a"
      },
      "execution_count": null,
      "outputs": [
        {
          "output_type": "stream",
          "name": "stdout",
          "text": [
            "hello i'm starting to learn pytorch today 17-may-2025\n"
          ]
        }
      ]
    },
    {
      "cell_type": "code",
      "source": [
        "import torch\n",
        "import numpy as np\n",
        "import pandas as pd\n",
        "import matplotlib.pyplot as plt\n",
        "print(torch.__version__)"
      ],
      "metadata": {
        "colab": {
          "base_uri": "https://localhost:8080/"
        },
        "id": "NEwQkQWYG1EN",
        "outputId": "f7157659-f66f-41fd-9331-a9774a300f7b"
      },
      "execution_count": null,
      "outputs": [
        {
          "output_type": "stream",
          "name": "stdout",
          "text": [
            "2.6.0+cu124\n"
          ]
        }
      ]
    },
    {
      "cell_type": "code",
      "source": [
        "#scalar\n",
        "scalar=torch.tensor(5)\n",
        "scalar\n",
        "# scalar.ndim\n",
        "# scalar.shape\n",
        "# scalar.item() #to convert the tensor/scalar back to python int\n"
      ],
      "metadata": {
        "colab": {
          "base_uri": "https://localhost:8080/"
        },
        "id": "71tBtb9jPtxm",
        "outputId": "b588f8da-65e6-4248-f381-4061942b3762"
      },
      "execution_count": null,
      "outputs": [
        {
          "output_type": "execute_result",
          "data": {
            "text/plain": [
              "tensor(5)"
            ]
          },
          "metadata": {},
          "execution_count": 3
        }
      ]
    },
    {
      "cell_type": "code",
      "source": [
        "# Vector\n",
        "\n",
        "vector=torch.tensor([1,2,3],dtype=None, device=None,requires_grad=False)\n",
        "vector\n",
        "vector.ndim\n",
        "# vector.shape"
      ],
      "metadata": {
        "colab": {
          "base_uri": "https://localhost:8080/"
        },
        "id": "4967xaetS41Q",
        "outputId": "2c53d8b2-3868-41de-be00-a99b9d4c064b"
      },
      "execution_count": null,
      "outputs": [
        {
          "output_type": "execute_result",
          "data": {
            "text/plain": [
              "1"
            ]
          },
          "metadata": {},
          "execution_count": 4
        }
      ]
    },
    {
      "cell_type": "code",
      "source": [
        "# MATRIX\n",
        "\n",
        "MATRIX=torch.tensor([[1,2,3],\n",
        "                    [4,5,6]])\n",
        "MATRIX\n",
        "MATRIX.ndim\n",
        "MATRIX.shape"
      ],
      "metadata": {
        "colab": {
          "base_uri": "https://localhost:8080/"
        },
        "id": "CIda_wVDTWez",
        "outputId": "eb227b0f-b2fb-4da1-963f-5462480ae62c"
      },
      "execution_count": null,
      "outputs": [
        {
          "output_type": "execute_result",
          "data": {
            "text/plain": [
              "torch.Size([2, 3])"
            ]
          },
          "metadata": {},
          "execution_count": 5
        }
      ]
    },
    {
      "cell_type": "code",
      "source": [
        "#TENSOR1\n",
        "\n",
        "TENSOR=torch.tensor([\n",
        "    [[1,2,3],\n",
        "    [4,5,6]],\n",
        "\n",
        "    [[11,12,13],\n",
        "     [14,15,16]]\n",
        "])\n",
        "\n",
        "TENSOR\n",
        "TENSOR.ndim\n",
        "TENSOR.shape\n",
        "TENSOR[1]"
      ],
      "metadata": {
        "colab": {
          "base_uri": "https://localhost:8080/"
        },
        "id": "pdgpW7hCU7pE",
        "outputId": "680e98d8-7678-4467-a2a7-49c74f58c658"
      },
      "execution_count": null,
      "outputs": [
        {
          "output_type": "execute_result",
          "data": {
            "text/plain": [
              "tensor([[11, 12, 13],\n",
              "        [14, 15, 16]])"
            ]
          },
          "metadata": {},
          "execution_count": 6
        }
      ]
    },
    {
      "cell_type": "code",
      "source": [
        "#TENSOR2\n",
        "TENSOR2=torch.tensor([[[78,34,56],\n",
        "                       [32,54,13],\n",
        "                        [98,63,21]]])\n",
        "TENSOR2\n",
        "TENSOR2.ndim\n",
        "TENSOR2.shape\n",
        "TENSOR2[0]"
      ],
      "metadata": {
        "colab": {
          "base_uri": "https://localhost:8080/"
        },
        "id": "fwwKG2EtWJhQ",
        "outputId": "f2814708-1066-4cc7-ad55-b2577501b42f"
      },
      "execution_count": null,
      "outputs": [
        {
          "output_type": "execute_result",
          "data": {
            "text/plain": [
              "tensor([[78, 34, 56],\n",
              "        [32, 54, 13],\n",
              "        [98, 63, 21]])"
            ]
          },
          "metadata": {},
          "execution_count": 7
        }
      ]
    },
    {
      "cell_type": "markdown",
      "source": [
        "##RANDOM TENSORS\n",
        "why random tensors?\n",
        "\n",
        "the way many neural networks learns is that they start with tensors full of random numbers and then adjust those random numbers to better represent the data\n",
        "\n",
        "`start with random numbers --> look at data --> update random numbers --> look at data --> update random numbers `"
      ],
      "metadata": {
        "id": "uM5_GZ5KWhS_"
      }
    },
    {
      "cell_type": "code",
      "source": [
        "# CREATING RNDOM TENSOR\n",
        "random_tensor=torch.rand(4,4)\n",
        "random_tensor"
      ],
      "metadata": {
        "colab": {
          "base_uri": "https://localhost:8080/"
        },
        "id": "yMZL3ChAfnv6",
        "outputId": "ad358b6b-9af3-478d-f824-6afa74de62d0"
      },
      "execution_count": null,
      "outputs": [
        {
          "output_type": "execute_result",
          "data": {
            "text/plain": [
              "tensor([[0.6106, 0.1672, 0.0610, 0.6367],\n",
              "        [0.7771, 0.2566, 0.2881, 0.7514],\n",
              "        [0.0696, 0.0523, 0.8274, 0.9029],\n",
              "        [0.6399, 0.9386, 0.7236, 0.6443]])"
            ]
          },
          "metadata": {},
          "execution_count": 8
        }
      ]
    },
    {
      "cell_type": "code",
      "source": [
        "random_tensor1= torch.rand(3,3,4)\n",
        "random_tensor1\n",
        "random_tensor1.ndim,random_tensor1.shape\n"
      ],
      "metadata": {
        "colab": {
          "base_uri": "https://localhost:8080/"
        },
        "id": "Jyc_wzbpjjAf",
        "outputId": "37ed1c81-fb16-4c3e-852f-fa42712bd927"
      },
      "execution_count": null,
      "outputs": [
        {
          "output_type": "execute_result",
          "data": {
            "text/plain": [
              "(3, torch.Size([3, 3, 4]))"
            ]
          },
          "metadata": {},
          "execution_count": 9
        }
      ]
    },
    {
      "cell_type": "markdown",
      "source": [
        "#Creating a random tensor in shape of an image tensor"
      ],
      "metadata": {
        "id": "M9h357QflGbo"
      }
    },
    {
      "cell_type": "code",
      "source": [
        "# random image size tensor\n",
        "\n",
        "rand_image_size_tensor = torch.rand(size=(3,224,224))\n",
        "\n",
        "rand_image_size_tensor.shape,rand_image_size_tensor.ndim\n"
      ],
      "metadata": {
        "colab": {
          "base_uri": "https://localhost:8080/"
        },
        "id": "PXGmAQrnlOxX",
        "outputId": "129bb9e9-f615-4a7d-be52-38b01bf1c07f"
      },
      "execution_count": null,
      "outputs": [
        {
          "output_type": "execute_result",
          "data": {
            "text/plain": [
              "(torch.Size([3, 224, 224]), 3)"
            ]
          },
          "metadata": {},
          "execution_count": 10
        }
      ]
    },
    {
      "cell_type": "code",
      "source": [
        "# creating tensor with zeros\n",
        "zeros_tensor= torch.zeros(4,4)\n",
        "\n",
        "zeros_tensor.dtype,zeros_tensor\n",
        "\n",
        "zeros_tensor * random_tensor\n"
      ],
      "metadata": {
        "colab": {
          "base_uri": "https://localhost:8080/"
        },
        "id": "jqiFWYYB40zv",
        "outputId": "76125be3-e847-4275-e031-4f246295f24d"
      },
      "execution_count": null,
      "outputs": [
        {
          "output_type": "execute_result",
          "data": {
            "text/plain": [
              "tensor([[0., 0., 0., 0.],\n",
              "        [0., 0., 0., 0.],\n",
              "        [0., 0., 0., 0.],\n",
              "        [0., 0., 0., 0.]])"
            ]
          },
          "metadata": {},
          "execution_count": 11
        }
      ]
    },
    {
      "cell_type": "code",
      "source": [
        "# creating tensors with ones\n",
        "ones_tensor=torch.ones(2,2)\n",
        "\n",
        "ones_tensor, ones_tensor.dtype"
      ],
      "metadata": {
        "colab": {
          "base_uri": "https://localhost:8080/"
        },
        "id": "Ruj8Wi1mb5lu",
        "outputId": "1e0288b8-bd38-45ec-a217-9fb29824ac3e"
      },
      "execution_count": null,
      "outputs": [
        {
          "output_type": "execute_result",
          "data": {
            "text/plain": [
              "(tensor([[1., 1.],\n",
              "         [1., 1.]]),\n",
              " torch.float32)"
            ]
          },
          "metadata": {},
          "execution_count": 12
        }
      ]
    },
    {
      "cell_type": "markdown",
      "source": [
        "#Creating arange tensor"
      ],
      "metadata": {
        "id": "0ZfDeJp6cNKl"
      }
    },
    {
      "cell_type": "code",
      "source": [
        "arange_tensor= torch.arange(0,10,2)\n",
        "\n",
        "arange_tensor , arange_tensor.dtype,arange_tensor.ndim\n"
      ],
      "metadata": {
        "colab": {
          "base_uri": "https://localhost:8080/"
        },
        "id": "O_KK0385dW_E",
        "outputId": "be9ff2de-0c9d-4e69-816c-f518b8c9db3f"
      },
      "execution_count": null,
      "outputs": [
        {
          "output_type": "execute_result",
          "data": {
            "text/plain": [
              "(tensor([0, 2, 4, 6, 8]), torch.int64, 1)"
            ]
          },
          "metadata": {},
          "execution_count": 13
        }
      ]
    },
    {
      "cell_type": "code",
      "source": [
        "# creating tensors like. meaning in the shape of any tensor given as input\n",
        "\n",
        "zeros_like= torch.zeros_like(input= arange_tensor) #imp\n",
        "zeros_like\n",
        "\n",
        "# ones_like=torch.ones_like(input=arange_tensor)\n",
        "# ones_like\n",
        "\n",
        "# random_like=torch.rand_like(input=arange_tensor , dtype=torch.float32)\n",
        "# random_like"
      ],
      "metadata": {
        "colab": {
          "base_uri": "https://localhost:8080/"
        },
        "id": "LYJQ7P9vgZUN",
        "outputId": "3e840796-8e79-4837-e28c-b9ea98c0f7e9"
      },
      "execution_count": null,
      "outputs": [
        {
          "output_type": "execute_result",
          "data": {
            "text/plain": [
              "tensor([0, 0, 0, 0, 0])"
            ]
          },
          "metadata": {},
          "execution_count": 14
        }
      ]
    },
    {
      "cell_type": "markdown",
      "source": [
        "#Tensors data types\n",
        "tensor datatypes is one of the 3 big errors you will run into in macine learning and deep learning\n",
        "1. Tensor not right datatype\n",
        "2. Tensor not right shape\n",
        "3.Tensor not right device\n"
      ],
      "metadata": {
        "id": "zjJbWzHfjnQj"
      }
    },
    {
      "cell_type": "code",
      "source": [
        "float32_tensor= torch.tensor([3.0,6.0,9.0], dtype=None,                        # what is the datatype of your tensor \"float16\" or \"float32\"\n",
        "                                               device=None,                             # what device is your tensor on \"cpu\" or \"GPU\"\n",
        "                                               requires_grad=False)                     # whether or not to trace gradient with tensors operations\n",
        "float32_tensor.dtype"
      ],
      "metadata": {
        "colab": {
          "base_uri": "https://localhost:8080/"
        },
        "id": "V5aEdqkrl0pc",
        "outputId": "f08ecfdb-a797-483e-93a6-1665fc4618c8"
      },
      "execution_count": null,
      "outputs": [
        {
          "output_type": "execute_result",
          "data": {
            "text/plain": [
              "torch.float32"
            ]
          },
          "metadata": {},
          "execution_count": 15
        }
      ]
    },
    {
      "cell_type": "code",
      "source": [
        "# converting data type of tensors\n",
        "# from float32 (default/single precision) to torch.float16 /half precision\n",
        "\n",
        "float16_tensor= float32_tensor.type(torch.float16) #imp\n",
        "float16_tensor"
      ],
      "metadata": {
        "colab": {
          "base_uri": "https://localhost:8080/"
        },
        "id": "1BbRC3QgpE7w",
        "outputId": "4f7637cc-b2d0-483d-9fc6-b1cfdeaba9f9"
      },
      "execution_count": null,
      "outputs": [
        {
          "output_type": "execute_result",
          "data": {
            "text/plain": [
              "tensor([3., 6., 9.], dtype=torch.float16)"
            ]
          },
          "metadata": {},
          "execution_count": 16
        }
      ]
    },
    {
      "cell_type": "code",
      "source": [
        "check=float32_tensor * float16_tensor\n",
        "\n",
        "check , check.dtype"
      ],
      "metadata": {
        "colab": {
          "base_uri": "https://localhost:8080/"
        },
        "id": "rhJE4cN_qK65",
        "outputId": "52c27021-1607-4a05-c568-d658047ccebd"
      },
      "execution_count": null,
      "outputs": [
        {
          "output_type": "execute_result",
          "data": {
            "text/plain": [
              "(tensor([ 9., 36., 81.]), torch.float32)"
            ]
          },
          "metadata": {},
          "execution_count": 17
        }
      ]
    },
    {
      "cell_type": "code",
      "source": [
        "int32_tensor= torch.tensor([2,4,6],dtype=torch.int64)\n",
        "\n",
        "check1 = float32_tensor * int32_tensor\n",
        "check1 , check1.dtype"
      ],
      "metadata": {
        "colab": {
          "base_uri": "https://localhost:8080/"
        },
        "id": "VCVLvu2xC5vq",
        "outputId": "20848342-be51-4df5-c969-69b73a9e17ad"
      },
      "execution_count": null,
      "outputs": [
        {
          "output_type": "execute_result",
          "data": {
            "text/plain": [
              "(tensor([ 6., 24., 54.]), torch.float32)"
            ]
          },
          "metadata": {},
          "execution_count": 18
        }
      ]
    },
    {
      "cell_type": "markdown",
      "source": [
        "###Getting information from tensor (Tensor Attribute)\n",
        "\n",
        "\n",
        "1.   Tensor not right data type , to get datatype of tensor `torch.dtype`\n",
        "2.   Tensor not right shape , to get shape of tensor `torch.shape` or `torch.size()`  \n",
        "\n",
        "1.   Tensor not on right device , to get device of tensor `torch.device`\n",
        "\n",
        "\n",
        "\n",
        "\n",
        "\n"
      ],
      "metadata": {
        "id": "1w15XSBJEqNW"
      }
    },
    {
      "cell_type": "code",
      "source": [
        "# creating random tensor with all attributes\n",
        "\n",
        "Tensor_attributes= torch.rand(4,5,dtype=torch.float16, device=torch.device(\"cpu\"), requires_grad=False)\n",
        "\n",
        "print(Tensor_attributes)\n",
        "print(f\"\\nThe shape of the tensor is    '{Tensor_attributes.shape}'\")\n",
        "print(f\"The datatype of thetensor is    '{Tensor_attributes.dtype}'\")\n",
        "print(f\"The device on which tensor is   '{Tensor_attributes.device}'\")"
      ],
      "metadata": {
        "colab": {
          "base_uri": "https://localhost:8080/"
        },
        "id": "Wvb1hphZGbAN",
        "outputId": "2ebc790b-71b4-4a04-ddb8-14e993714c6b"
      },
      "execution_count": null,
      "outputs": [
        {
          "output_type": "stream",
          "name": "stdout",
          "text": [
            "tensor([[0.0547, 0.8560, 0.6294, 0.9727, 0.2393],\n",
            "        [0.3467, 0.5801, 0.2290, 0.5571, 0.1606],\n",
            "        [0.7212, 0.9004, 0.2935, 0.1792, 0.4419],\n",
            "        [0.2373, 0.5645, 0.3940, 0.5400, 0.9937]], dtype=torch.float16)\n",
            "\n",
            "The shape of the tensor is    'torch.Size([4, 5])'\n",
            "The datatype of thetensor is    'torch.float16'\n",
            "The device on which tensor is   'cpu'\n"
          ]
        }
      ]
    },
    {
      "cell_type": "markdown",
      "source": [
        "##Matrix operations (+ , - , / , multiply but it has two different types)"
      ],
      "metadata": {
        "id": "Ce183okeo7eC"
      }
    },
    {
      "cell_type": "code",
      "source": [
        "tensor= torch.tensor([1,2,3])\n",
        "\n",
        "# addition in tensors\n",
        "tensor + 10 , tensor + tensor\n",
        "# or\n",
        "torch.add(tensor,10)"
      ],
      "metadata": {
        "colab": {
          "base_uri": "https://localhost:8080/"
        },
        "id": "wLu4BxGYpUcx",
        "outputId": "38825281-ee39-4a64-c44a-c8b0a9cded08"
      },
      "execution_count": null,
      "outputs": [
        {
          "output_type": "execute_result",
          "data": {
            "text/plain": [
              "tensor([11, 12, 13])"
            ]
          },
          "metadata": {},
          "execution_count": 20
        }
      ]
    },
    {
      "cell_type": "code",
      "source": [
        "# subtraction in tensors\n",
        "\n",
        "tensor - 10 , tensor - tensor\n",
        "# or\n",
        "torch.subtract(tensor,10)"
      ],
      "metadata": {
        "colab": {
          "base_uri": "https://localhost:8080/"
        },
        "id": "4EOnFBgup2e5",
        "outputId": "e880e2fe-c2e7-40ca-a8c4-8d544abce8eb"
      },
      "execution_count": null,
      "outputs": [
        {
          "output_type": "execute_result",
          "data": {
            "text/plain": [
              "tensor([-9, -8, -7])"
            ]
          },
          "metadata": {},
          "execution_count": 21
        }
      ]
    },
    {
      "cell_type": "code",
      "source": [
        "# division in tensor\n",
        "\n",
        "tensor / 2\n",
        "# or\n",
        "torch.div(tensor,2)"
      ],
      "metadata": {
        "colab": {
          "base_uri": "https://localhost:8080/"
        },
        "id": "GQhqZwVWqJD_",
        "outputId": "9bf2596f-c4d1-4715-eb56-536b0df9eda8"
      },
      "execution_count": null,
      "outputs": [
        {
          "output_type": "execute_result",
          "data": {
            "text/plain": [
              "tensor([0.5000, 1.0000, 1.5000])"
            ]
          },
          "metadata": {},
          "execution_count": 22
        }
      ]
    },
    {
      "cell_type": "markdown",
      "source": [
        "# The two two types of multiplication are :\n",
        "\n",
        "\n",
        "1.   Element wise Multiplication\n",
        "2.   Matrix Multiplication or aka Dot Product\n",
        "\n"
      ],
      "metadata": {
        "id": "M9XFBACXqbmR"
      }
    },
    {
      "cell_type": "code",
      "source": [
        "# element wise multiplication\n",
        "# it'll multiply the scalar int with all every number in matrix/vector\n",
        "\n",
        "element_wise= tensor * 3\n",
        "element_wise\n",
        "# or\n",
        "torch.mul(tensor,3) #imp"
      ],
      "metadata": {
        "colab": {
          "base_uri": "https://localhost:8080/"
        },
        "id": "uXzpZFLxqzaJ",
        "outputId": "5a299ef6-26f1-4cb5-e478-4f694d58e1f5"
      },
      "execution_count": null,
      "outputs": [
        {
          "output_type": "execute_result",
          "data": {
            "text/plain": [
              "tensor([3, 6, 9])"
            ]
          },
          "metadata": {},
          "execution_count": 23
        }
      ]
    },
    {
      "cell_type": "code",
      "source": [
        "# matrix multiplication\n",
        "\n",
        "dot_matrix= torch.matmul(tensor,tensor)\n",
        "dot_matrix\n"
      ],
      "metadata": {
        "colab": {
          "base_uri": "https://localhost:8080/"
        },
        "id": "zwrcbHdgrO7B",
        "outputId": "07140866-fb31-4ce9-ef70-cfdf3ac2d7a5"
      },
      "execution_count": null,
      "outputs": [
        {
          "output_type": "execute_result",
          "data": {
            "text/plain": [
              "tensor(14)"
            ]
          },
          "metadata": {},
          "execution_count": 24
        }
      ]
    },
    {
      "cell_type": "markdown",
      "source": [
        "## Matrix multiplication has two rules:\n",
        "\n",
        "\n",
        "1.   inner dimension must match i.e (2,3) @ (3,4) not (2,3) @ (4,2)\n",
        "2.   the resulting matrix will have the shape of outer dimension i.e upper shape will be ==> size([4,4])\n",
        "\n"
      ],
      "metadata": {
        "id": "pRKcitDMsqJG"
      }
    },
    {
      "cell_type": "code",
      "source": [
        "# matmul\n",
        "\n",
        "matmult= torch.matmul(torch.rand(4,3) , torch.rand(3,5))\n",
        "\n",
        "matmult , matmult.shape"
      ],
      "metadata": {
        "colab": {
          "base_uri": "https://localhost:8080/"
        },
        "id": "DDtTkPnstdOF",
        "outputId": "5c1dc945-0a43-4d16-e85d-ad91c70d3f45"
      },
      "execution_count": null,
      "outputs": [
        {
          "output_type": "execute_result",
          "data": {
            "text/plain": [
              "(tensor([[1.0406, 1.0503, 0.8748, 1.0262, 1.6153],\n",
              "         [1.5266, 1.3151, 1.0453, 1.0825, 1.6210],\n",
              "         [0.9533, 0.9615, 0.6845, 0.7615, 1.0804],\n",
              "         [0.8348, 0.6303, 0.5103, 0.4749, 0.7024]]),\n",
              " torch.Size([4, 5]))"
            ]
          },
          "metadata": {},
          "execution_count": 25
        }
      ]
    },
    {
      "cell_type": "markdown",
      "source": [],
      "metadata": {
        "id": "nmIzRrCigmZp"
      }
    },
    {
      "cell_type": "code",
      "source": [
        "                                                            # TRANSPOSE\n",
        "# FIXING THE INNER DIMENSION OF TENSOR IF NOT RIGHT WITH TRANSPOSE\n",
        "\n",
        "tensor_A = torch.tensor([[1,2,3],\n",
        "                         [4,5,6],\n",
        "                         [7,8,9]])\n",
        "\n",
        "tensor_B= torch.tensor([[10,11,12],\n",
        "                        [13,14,15]])\n",
        "\n",
        "tensor_A.shape , tensor_B.shape # inner dimensions doesnt match (3,3),(2,3) it should be (3,3)\n",
        "\n",
        "print(\"shape of tensor B after transpose \\n\\n\",tensor_B.T.shape)  # transpose of B\n",
        "print(tensor_B.T)\n",
        "\n",
        "torch.matmul( tensor_A , tensor_B.T )\n"
      ],
      "metadata": {
        "colab": {
          "base_uri": "https://localhost:8080/"
        },
        "id": "oIqUkQ89v52b",
        "outputId": "b362e04f-0c84-467d-cffd-77fe2f3d5775"
      },
      "execution_count": null,
      "outputs": [
        {
          "output_type": "stream",
          "name": "stdout",
          "text": [
            "shape of tensor B after transpose \n",
            "\n",
            " torch.Size([3, 2])\n",
            "tensor([[10, 13],\n",
            "        [11, 14],\n",
            "        [12, 15]])\n"
          ]
        },
        {
          "output_type": "execute_result",
          "data": {
            "text/plain": [
              "tensor([[ 68,  86],\n",
              "        [167, 212],\n",
              "        [266, 338]])"
            ]
          },
          "metadata": {},
          "execution_count": 26
        }
      ]
    },
    {
      "cell_type": "markdown",
      "source": [
        "##Aggregating tensors `( min ,max, mean , sum, argmin, argmax)`"
      ],
      "metadata": {
        "id": "1oTeh9G1cGYl"
      }
    },
    {
      "cell_type": "code",
      "source": [
        "# min ,max , sum\n",
        "\n",
        "tensor_x= torch.arange(10,100,10)\n",
        "tensor_x\n",
        "\n",
        "# min ,max , sum\n",
        "torch.min(tensor_x) , torch.max(tensor_x) , torch.sum(tensor_x) # prefered\n",
        "# or\n",
        "tensor_x.min() , tensor_x.max() , tensor_x.sum()"
      ],
      "metadata": {
        "colab": {
          "base_uri": "https://localhost:8080/"
        },
        "id": "UqXbNE3ehJrD",
        "outputId": "1f2c3807-1706-443f-cd02-68e404ddbea2"
      },
      "execution_count": null,
      "outputs": [
        {
          "output_type": "execute_result",
          "data": {
            "text/plain": [
              "(tensor(10), tensor(90), tensor(450))"
            ]
          },
          "metadata": {},
          "execution_count": 27
        }
      ]
    },
    {
      "cell_type": "code",
      "source": [
        "# argmin, argmax()\n",
        "\n",
        "torch.argmin(tensor_x) , torch.argmax(tensor_x), tensor_x[0] , tensor_x[8]"
      ],
      "metadata": {
        "colab": {
          "base_uri": "https://localhost:8080/"
        },
        "id": "l1X5eZV3jkB7",
        "outputId": "a3c18d19-f460-4838-af6f-981ae0a097df"
      },
      "execution_count": null,
      "outputs": [
        {
          "output_type": "execute_result",
          "data": {
            "text/plain": [
              "(tensor(0), tensor(8), tensor(10), tensor(90))"
            ]
          },
          "metadata": {},
          "execution_count": 28
        }
      ]
    },
    {
      "cell_type": "code",
      "source": [
        "# argmin, argmax()\n",
        "\n",
        "matrix_x = torch.tensor([[1, 7],\n",
        "                         [4, 3]])\n",
        "\n",
        "print(\"Argmax:\", torch.argmax(matrix_x))  # Flattened: [1, 7, 4, 3] → max is 7 at index 1\n",
        "print(\"Argmin:\", torch.argmin(matrix_x))  # min is 1 at index 0\n",
        "\n",
        "# print(\"\\nfinding argmin and arg max column_row_wise\\n\")\n",
        "\n",
        "# print(\"Argmax (dim=0):\", torch.argmax(matrix_x, dim=0))  # Compare column-wise\n",
        "# print(\"Argmax (dim=1):\", torch.argmax(matrix_x, dim=1))  # Compare row-wise\n"
      ],
      "metadata": {
        "colab": {
          "base_uri": "https://localhost:8080/"
        },
        "id": "MvqcQF2tlH3h",
        "outputId": "60599ea8-3d74-4872-99e7-80975f04e63e"
      },
      "execution_count": null,
      "outputs": [
        {
          "output_type": "stream",
          "name": "stdout",
          "text": [
            "Argmax: tensor(1)\n",
            "Argmin: tensor(0)\n"
          ]
        }
      ]
    },
    {
      "cell_type": "code",
      "source": [
        "# mean\n",
        "# for mean datatype must be chnage to float32 or complexdtype\n",
        "\n",
        "torch.mean( tensor_x.type(torch.float32) ) #prefered\n",
        "# or\n",
        "tensor_x.type(torch.float32).mean()"
      ],
      "metadata": {
        "colab": {
          "base_uri": "https://localhost:8080/"
        },
        "id": "Czlv-LjZhiAb",
        "outputId": "82519eeb-8ead-4dfe-e781-8c784cc9d08f"
      },
      "execution_count": null,
      "outputs": [
        {
          "output_type": "execute_result",
          "data": {
            "text/plain": [
              "tensor(50.)"
            ]
          },
          "metadata": {},
          "execution_count": 30
        }
      ]
    },
    {
      "cell_type": "markdown",
      "source": [
        "##`Reshape` : reshapes the input tensor to a defined shape. adds a dimension `[]` too\n",
        "##`View` : does the same thing`syntax is bit different` as \"reshaping\" but to the original tensor bcz it shares the same memory\n",
        "##`Stacking` : combines multiple tensors on top of eachother, `vstack` or sideby side `hstack`\n",
        "##`Squeeze` : remove all 1 dimension from tensor\n",
        "##`Unsqueeze` : add 1 dimension to the target tensor\n",
        "##`Permute` : returns a view of input with dimension permuted(swapped) in a certain way."
      ],
      "metadata": {
        "id": "A0VNhCqSllmk"
      }
    },
    {
      "cell_type": "code",
      "source": [
        "# reshapiing the tensor\n",
        "\n",
        "tensor_n= torch.arange(1.,10.)\n",
        "print( tensor_n , tensor_n.shape , \"\\n\" )\n",
        "\n",
        "reshape_n = torch.reshape (tensor_n, (1,9))    # bcz resultig matrix will have the shape(no of cols) of outer dimension aka 9 (col) asmentioned\n",
        "#or reshape_n = tensor_n.reshape (1,9)\n",
        "print(reshape_n,\"\\n\")\n",
        "\n",
        "reshape_n1= torch.reshape(tensor_n, (9,1)) # not printing bcz it's long\n",
        "#or reshape_n1 = tensor_n.reshape (9,1)\n",
        "# print(reshape_n1,\"\\n\")    # bcz resultig matrix will have the shape(no of cols) of outer dimension aka 1 (col) asmentioned\n",
        "\n",
        "reshape_n2 = torch.reshape(tensor_n , (3,3))\n",
        "#or reshape_n2 = tensor_n.reshape (3,3)\n",
        "reshape_n2"
      ],
      "metadata": {
        "colab": {
          "base_uri": "https://localhost:8080/"
        },
        "id": "X7qd645JPAXn",
        "outputId": "468dec85-20ac-46aa-93db-34203af6368f"
      },
      "execution_count": null,
      "outputs": [
        {
          "output_type": "stream",
          "name": "stdout",
          "text": [
            "tensor([1., 2., 3., 4., 5., 6., 7., 8., 9.]) torch.Size([9]) \n",
            "\n",
            "tensor([[1., 2., 3., 4., 5., 6., 7., 8., 9.]]) \n",
            "\n"
          ]
        },
        {
          "output_type": "execute_result",
          "data": {
            "text/plain": [
              "tensor([[1., 2., 3.],\n",
              "        [4., 5., 6.],\n",
              "        [7., 8., 9.]])"
            ]
          },
          "metadata": {},
          "execution_count": 31
        }
      ]
    },
    {
      "cell_type": "code",
      "source": [
        "# view(change in the original tensor bcz it shares same memory) the tensor\n",
        "# torch.view wont work, have to used org var name like tensor_k\n",
        "\n",
        "tensor_k= torch.arange(1,30,2)\n",
        "print( tensor_k.shape , tensor_k , \"\\n\" )\n",
        "\n",
        "view_k= tensor_k.view(5,3)\n",
        "view_k\n",
        "# view_k[:,0]=5 just fyi it means all slect all rows of first col and change them to 5\n",
        "\n"
      ],
      "metadata": {
        "colab": {
          "base_uri": "https://localhost:8080/"
        },
        "id": "9ZXC9iABSg-Z",
        "outputId": "8fa5f85d-052f-4e71-ac25-d41488138966"
      },
      "execution_count": null,
      "outputs": [
        {
          "output_type": "stream",
          "name": "stdout",
          "text": [
            "torch.Size([15]) tensor([ 1,  3,  5,  7,  9, 11, 13, 15, 17, 19, 21, 23, 25, 27, 29]) \n",
            "\n"
          ]
        },
        {
          "output_type": "execute_result",
          "data": {
            "text/plain": [
              "tensor([[ 1,  3,  5],\n",
              "        [ 7,  9, 11],\n",
              "        [13, 15, 17],\n",
              "        [19, 21, 23],\n",
              "        [25, 27, 29]])"
            ]
          },
          "metadata": {},
          "execution_count": 32
        }
      ]
    },
    {
      "cell_type": "markdown",
      "source": [
        "##combining matrices and vectors\n",
        "###torch.stack , torch.vstack , torch.hstack\n"
      ],
      "metadata": {
        "id": "dnSlW_4nw1wm"
      }
    },
    {
      "cell_type": "code",
      "source": [
        "tensr_1= torch.tensor([[1,2,3],\n",
        "                     [4,5,6]])\n",
        "\n",
        "tensr_2= torch.tensor([[7,8,9],\n",
        "                      [10,11,12]])\n",
        "\n",
        "stack_0 = torch.stack((tensr_1 , tensr_2 ),dim=0) # it'll combine two matrixs row wise and in 3dim unlike v&hatack\n",
        "stack_1 =torch.stack((tensr_1 , tensr_2),dim=1) # it'll also combine but first rows of both tensors first in first matrix and second rows in second matrix\n",
        "\n",
        "print(\"stack with dim=0\\n\",stack_0 , stack_0.shape ,\"\\n\")\n",
        "print(\"stack with dim=1\\n\",stack_1 , stack_1.shape ,\"\\n\")"
      ],
      "metadata": {
        "colab": {
          "base_uri": "https://localhost:8080/"
        },
        "id": "A0cXlmfDxGkh",
        "outputId": "2cfdf838-ac95-4f0e-df1e-3cda6bc4a02a"
      },
      "execution_count": null,
      "outputs": [
        {
          "output_type": "stream",
          "name": "stdout",
          "text": [
            "stack with dim=0\n",
            " tensor([[[ 1,  2,  3],\n",
            "         [ 4,  5,  6]],\n",
            "\n",
            "        [[ 7,  8,  9],\n",
            "         [10, 11, 12]]]) torch.Size([2, 2, 3]) \n",
            "\n",
            "stack with dim=1\n",
            " tensor([[[ 1,  2,  3],\n",
            "         [ 7,  8,  9]],\n",
            "\n",
            "        [[ 4,  5,  6],\n",
            "         [10, 11, 12]]]) torch.Size([2, 2, 3]) \n",
            "\n"
          ]
        }
      ]
    },
    {
      "cell_type": "code",
      "source": [
        "A= torch.tensor([1,2,3])\n",
        "B= torch.tensor([4,5,6])\n",
        "\n",
        "torch.stack((A,B),dim=0) , torch.stack((A,B),dim=1)\n"
      ],
      "metadata": {
        "colab": {
          "base_uri": "https://localhost:8080/"
        },
        "id": "DnQeMqVQ0YHo",
        "outputId": "b1d557a0-593d-4443-b852-d2ea640098c2"
      },
      "execution_count": null,
      "outputs": [
        {
          "output_type": "execute_result",
          "data": {
            "text/plain": [
              "(tensor([[1, 2, 3],\n",
              "         [4, 5, 6]]),\n",
              " tensor([[1, 4],\n",
              "         [2, 5],\n",
              "         [3, 6]]))"
            ]
          },
          "metadata": {},
          "execution_count": 34
        }
      ]
    },
    {
      "cell_type": "code",
      "source": [
        "# vstack hstack with vectors\n",
        "print( A , B ,\"\\n\")\n",
        "\n",
        "vstack = torch.vstack((A,B,A))\n",
        "hstack = torch.hstack((A,B,A))\n",
        "\n",
        "print(vstack , \"\\n\")\n",
        "print(hstack)\n"
      ],
      "metadata": {
        "colab": {
          "base_uri": "https://localhost:8080/"
        },
        "id": "eqS3o6OL3C0U",
        "outputId": "af8536a8-d91b-4549-bf07-b82018fd893d"
      },
      "execution_count": null,
      "outputs": [
        {
          "output_type": "stream",
          "name": "stdout",
          "text": [
            "tensor([1, 2, 3]) tensor([4, 5, 6]) \n",
            "\n",
            "tensor([[1, 2, 3],\n",
            "        [4, 5, 6],\n",
            "        [1, 2, 3]]) \n",
            "\n",
            "tensor([1, 2, 3, 4, 5, 6, 1, 2, 3])\n"
          ]
        }
      ]
    },
    {
      "cell_type": "code",
      "source": [
        "# vstack hstack with matrix , they wont create 3rd dim unlike stack with dim=0or1 instead it'll make it one matrix\n",
        "print(tensr_1 , \"\\n\")\n",
        "print(tensr_2, \"\\n\")\n",
        "\n",
        "vstack1 = torch.vstack((tensr_1 , tensr_2))\n",
        "hstack1= torch.hstack((tensr_1 , tensr_2))\n",
        "\n",
        "print(vstack1 , \"\\n\")\n",
        "print(hstack1)"
      ],
      "metadata": {
        "colab": {
          "base_uri": "https://localhost:8080/"
        },
        "id": "VUW_i1rw5EjM",
        "outputId": "531ca88d-759a-49ef-a4d3-fc6ad4d09ac7"
      },
      "execution_count": null,
      "outputs": [
        {
          "output_type": "stream",
          "name": "stdout",
          "text": [
            "tensor([[1, 2, 3],\n",
            "        [4, 5, 6]]) \n",
            "\n",
            "tensor([[ 7,  8,  9],\n",
            "        [10, 11, 12]]) \n",
            "\n",
            "tensor([[ 1,  2,  3],\n",
            "        [ 4,  5,  6],\n",
            "        [ 7,  8,  9],\n",
            "        [10, 11, 12]]) \n",
            "\n",
            "tensor([[ 1,  2,  3,  7,  8,  9],\n",
            "        [ 4,  5,  6, 10, 11, 12]])\n"
          ]
        }
      ]
    },
    {
      "cell_type": "markdown",
      "source": [
        "##Squeeze & Unsqueeze"
      ],
      "metadata": {
        "id": "6LE0Jhs6z-G_"
      }
    },
    {
      "cell_type": "code",
      "source": [
        "# SQUEEZE removes all dimensions of 1 from tensor\n",
        "\n",
        "before_tens = torch.zeros(2,3,1,3,1)\n",
        "print(\"shape before squeezing \\n\",before_tens.shape,\"\\n\")\n",
        "\n",
        "after_tens= torch.squeeze(before_tens)\n",
        "print(\"shape after squeezing \\n\",after_tens.shape,\"\\n\") # removes all dimensions of 1\n",
        "\n",
        "x = torch.tensor([[[2,2,1,4,1]]])\n",
        "print(\"shape before squeezing \\n\", x.shape,\"\\n\")\n",
        "\n",
        "y = torch.squeeze(x)\n",
        "print(\"shape after squeezing \\n\",y.shape,\"\\n\")\n",
        "\n",
        "\n"
      ],
      "metadata": {
        "colab": {
          "base_uri": "https://localhost:8080/"
        },
        "id": "-0jDxtSS0Jp4",
        "outputId": "99b657ae-9ba6-425d-ab72-a54dd0fbf918"
      },
      "execution_count": null,
      "outputs": [
        {
          "output_type": "stream",
          "name": "stdout",
          "text": [
            "shape before squeezing \n",
            " torch.Size([2, 3, 1, 3, 1]) \n",
            "\n",
            "shape after squeezing \n",
            " torch.Size([2, 3, 3]) \n",
            "\n",
            "shape before squeezing \n",
            " torch.Size([1, 1, 5]) \n",
            "\n",
            "shape after squeezing \n",
            " torch.Size([5]) \n",
            "\n"
          ]
        }
      ]
    },
    {
      "cell_type": "code",
      "source": [
        "# UNSQUEEZE add dimension to target tensor\n",
        "\n",
        "a = torch.tensor([3,4,5])\n",
        "\n",
        "print(\"tensor a \\n\", a, \"\\n\")\n",
        "print(\"shape before unsqueeze \\n\", a.shape,\"\\n\")\n",
        "\n",
        "b = torch.unsqueeze(a , dim=0)\n",
        "\n",
        "print(\"shape after unsqueeze \\n\",b.shape,\"\\n\")\n",
        "print(\"tenosr b\\n\",b , \"\\n\")\n",
        "\n",
        "c= torch.unsqueeze(a, dim=1)\n",
        "\n",
        "print(\"shape after unsqueeze \\n\",c.shape,\"\\n\")\n",
        "print(\"tenosr b\\n\",c , \"\\n\")\n",
        "\n"
      ],
      "metadata": {
        "colab": {
          "base_uri": "https://localhost:8080/"
        },
        "id": "kZEutAud040D",
        "outputId": "469da90b-5bba-4595-bf16-ca2477bc2af6"
      },
      "execution_count": null,
      "outputs": [
        {
          "output_type": "stream",
          "name": "stdout",
          "text": [
            "tensor a \n",
            " tensor([3, 4, 5]) \n",
            "\n",
            "shape before unsqueeze \n",
            " torch.Size([3]) \n",
            "\n",
            "shape after unsqueeze \n",
            " torch.Size([1, 3]) \n",
            "\n",
            "tenosr b\n",
            " tensor([[3, 4, 5]]) \n",
            "\n",
            "shape after unsqueeze \n",
            " torch.Size([3, 1]) \n",
            "\n",
            "tenosr b\n",
            " tensor([[3],\n",
            "        [4],\n",
            "        [5]]) \n",
            "\n"
          ]
        }
      ]
    },
    {
      "cell_type": "markdown",
      "source": [
        "##Permute\n",
        "torch.permute(input, dims) → Tensor\n",
        "Returns a view of the original tensor input with its dimensions permuted(altered)."
      ],
      "metadata": {
        "id": "2R81H6rJ4_7c"
      }
    },
    {
      "cell_type": "code",
      "source": [
        "# permuting tensor\n",
        "input_tensor = torch.randn(2,3,4)\n",
        "print(\"input_tensor :\\n\",input_tensor)\n",
        "print(\"\\ninput_tensor shape:\\n\",input_tensor.shape)\n",
        "\n",
        "permutated_tensor= torch.permute(input_tensor,(1,2,0))\n",
        "print(\"\\npermutated tensor with changed dims\\n\", permutated_tensor)\n",
        "print(\"\\npermutated_tensor shape:\\n\",permutated_tensor.shape)\n",
        "\n"
      ],
      "metadata": {
        "colab": {
          "base_uri": "https://localhost:8080/"
        },
        "id": "UiSwjgtT6BKd",
        "outputId": "f77d7d63-3f65-4969-9d7b-f135e99bdf59"
      },
      "execution_count": null,
      "outputs": [
        {
          "output_type": "stream",
          "name": "stdout",
          "text": [
            "input_tensor :\n",
            " tensor([[[-0.5727, -0.3905,  0.8774,  0.5059],\n",
            "         [ 0.4453, -0.9207, -0.4036,  0.6991],\n",
            "         [-0.0132,  0.9788,  1.4507, -0.8840]],\n",
            "\n",
            "        [[-0.6948, -0.1719, -1.1319, -1.1515],\n",
            "         [-1.0636, -0.7986,  0.9793,  0.5798],\n",
            "         [-0.2138, -0.6924, -0.0848,  0.7558]]])\n",
            "\n",
            "input_tensor shape:\n",
            " torch.Size([2, 3, 4])\n",
            "\n",
            "permutated tensor with changed dims\n",
            " tensor([[[-0.5727, -0.6948],\n",
            "         [-0.3905, -0.1719],\n",
            "         [ 0.8774, -1.1319],\n",
            "         [ 0.5059, -1.1515]],\n",
            "\n",
            "        [[ 0.4453, -1.0636],\n",
            "         [-0.9207, -0.7986],\n",
            "         [-0.4036,  0.9793],\n",
            "         [ 0.6991,  0.5798]],\n",
            "\n",
            "        [[-0.0132, -0.2138],\n",
            "         [ 0.9788, -0.6924],\n",
            "         [ 1.4507, -0.0848],\n",
            "         [-0.8840,  0.7558]]])\n",
            "\n",
            "permutated_tensor shape:\n",
            " torch.Size([3, 4, 2])\n"
          ]
        }
      ]
    },
    {
      "cell_type": "code",
      "source": [
        "# permute image tensor, permute also share same memory with org tensor like org_img\n",
        "\n",
        "org_img = torch.rand(size=(224,224,3)) # height , width , color_channel\n",
        "\n",
        "print(\"\\nshape of org img before permute:\\n\", org_img.shape, \"\\n\")\n",
        "\n",
        "edit_img= torch.permute(org_img, (2,1,0))\n",
        "\n",
        "print(\"shape of org img after permute:\\n\", edit_img.shape, \"\\n\")"
      ],
      "metadata": {
        "colab": {
          "base_uri": "https://localhost:8080/"
        },
        "id": "SpeKZ2rP7_CD",
        "outputId": "eb760aa5-aceb-44fd-9519-99dc845a9024"
      },
      "execution_count": null,
      "outputs": [
        {
          "output_type": "stream",
          "name": "stdout",
          "text": [
            "\n",
            "shape of org img before permute:\n",
            " torch.Size([224, 224, 3]) \n",
            "\n",
            "shape of org img after permute:\n",
            " torch.Size([3, 224, 224]) \n",
            "\n"
          ]
        }
      ]
    },
    {
      "cell_type": "markdown",
      "source": [
        "##Indexing"
      ],
      "metadata": {
        "id": "74dPWPuZbnxw"
      }
    },
    {
      "cell_type": "code",
      "source": [
        "tensr_indexing= torch.arange(1,21).reshape(1,5,4)\n",
        "\n",
        "print(tensr_indexing,\"\\n\")\n",
        "# print(\"\\n\", tensr_indexing.shape)\n",
        "\n",
        "print(tensr_indexing[0])      # it'll give the whole matrix bcz it's inside the tensor at position 0\n",
        "print(tensr_indexing[0,0])    #it'll give the first row only\n",
        "print(tensr_indexing[0,0,0] )  #it'll give the first value only\n",
        "\n",
        "tensr_indexing[0,0,0] = 100\n",
        "print(tensr_indexing[0,0,0] )  # changing a specific value in matrix\n"
      ],
      "metadata": {
        "colab": {
          "base_uri": "https://localhost:8080/"
        },
        "id": "XNqOi30gsrq3",
        "outputId": "98f6cfa4-c845-4151-e396-4eebb59a0073"
      },
      "execution_count": null,
      "outputs": [
        {
          "output_type": "stream",
          "name": "stdout",
          "text": [
            "tensor([[[ 1,  2,  3,  4],\n",
            "         [ 5,  6,  7,  8],\n",
            "         [ 9, 10, 11, 12],\n",
            "         [13, 14, 15, 16],\n",
            "         [17, 18, 19, 20]]]) \n",
            "\n",
            "tensor([[ 1,  2,  3,  4],\n",
            "        [ 5,  6,  7,  8],\n",
            "        [ 9, 10, 11, 12],\n",
            "        [13, 14, 15, 16],\n",
            "        [17, 18, 19, 20]])\n",
            "tensor([1, 2, 3, 4])\n",
            "tensor(1)\n",
            "tensor(100)\n"
          ]
        }
      ]
    },
    {
      "cell_type": "code",
      "source": [
        "print(tensr_indexing,\"\\n\")\n",
        "\n",
        "print(\"indexing only first 2 cols but all rows\\n\", tensr_indexing[:, :, 0:2])\n",
        "\n",
        "print(\"\\nindexing only first 2 cols & 3 rows\\n\", tensr_indexing[0, 0:3, 0:2])\n",
        "\n",
        "print(\"\\nindexing the third column only\\n\", tensr_indexing[:, : , 2])\n",
        "\n",
        "print(\"\\nindexing the first row only\\n\", tensr_indexing[0, 0, :])"
      ],
      "metadata": {
        "colab": {
          "base_uri": "https://localhost:8080/"
        },
        "id": "T57Q01t-5Cdm",
        "outputId": "1064a0ac-321a-4b7f-9bac-c3780a15b3db"
      },
      "execution_count": null,
      "outputs": [
        {
          "output_type": "stream",
          "name": "stdout",
          "text": [
            "tensor([[[100,   2,   3,   4],\n",
            "         [  5,   6,   7,   8],\n",
            "         [  9,  10,  11,  12],\n",
            "         [ 13,  14,  15,  16],\n",
            "         [ 17,  18,  19,  20]]]) \n",
            "\n",
            "indexing only first 2 cols but all rows\n",
            " tensor([[[100,   2],\n",
            "         [  5,   6],\n",
            "         [  9,  10],\n",
            "         [ 13,  14],\n",
            "         [ 17,  18]]])\n",
            "\n",
            "indexing only first 2 cols & 3 rows\n",
            " tensor([[100,   2],\n",
            "        [  5,   6],\n",
            "        [  9,  10]])\n",
            "\n",
            "indexing the third column only\n",
            " tensor([[ 3,  7, 11, 15, 19]])\n",
            "\n",
            "indexing the first row only\n",
            " tensor([100,   2,   3,   4])\n"
          ]
        }
      ]
    },
    {
      "cell_type": "markdown",
      "source": [
        "##Numpy to Pytorch & viceversa"
      ],
      "metadata": {
        "id": "LBTPrXJi1i3Y"
      }
    },
    {
      "cell_type": "code",
      "source": [
        "# np --> pytorch\n",
        "#imp --> dafault dtype in tensor is float but in array is float64\n",
        "\n",
        "array= np.arange(1.,10.).reshape(3,3)\n",
        "print(\"np array and default it's data type\\n\",array,\"\\n\",array.dtype)\n",
        "\n",
        "tensar=torch.from_numpy(array)\n",
        "print(\"\\n converted to tensor & default dtype right after conversion\\n\",tensar)\n",
        "\n",
        "tensar= tensar.type(torch.float32)\n",
        "print( \"\\n\",tensar +1 )\n",
        "\n",
        "tensar.dtype , array.dtype          # chnging the dtype of tensar wont effect the default dtype of array\n",
        "\n"
      ],
      "metadata": {
        "colab": {
          "base_uri": "https://localhost:8080/"
        },
        "id": "Iz6P438G1qu1",
        "outputId": "d30ff7d0-2013-486e-dcd7-c11308d8cc69"
      },
      "execution_count": null,
      "outputs": [
        {
          "output_type": "stream",
          "name": "stdout",
          "text": [
            "np array and default it's data type\n",
            " [[1. 2. 3.]\n",
            " [4. 5. 6.]\n",
            " [7. 8. 9.]] \n",
            " float64\n",
            "\n",
            " converted to tensor & default dtype right after conversion\n",
            " tensor([[1., 2., 3.],\n",
            "        [4., 5., 6.],\n",
            "        [7., 8., 9.]], dtype=torch.float64)\n",
            "\n",
            " tensor([[ 2.,  3.,  4.],\n",
            "        [ 5.,  6.,  7.],\n",
            "        [ 8.,  9., 10.]])\n"
          ]
        },
        {
          "output_type": "execute_result",
          "data": {
            "text/plain": [
              "(torch.float32, dtype('float64'))"
            ]
          },
          "metadata": {},
          "execution_count": 43
        }
      ]
    },
    {
      "cell_type": "code",
      "source": [
        "# Pytorch --> numpy\n",
        "\n",
        "# tensaar= torch.ones(10).reshape(2,5) or\n",
        "tensaar= torch.ones(2,5)\n",
        "print(tensaar,tensaar.dtype, \"\\n\")\n",
        "\n",
        "to_numpy= tensaar.numpy()\n",
        "print(to_numpy , to_numpy.dtype ,\"\\n\" )\n",
        "\n",
        "to_numpy +1,tensaar                     #same rule as above applies regarding dtypes and chnages later on(which won't effect org)"
      ],
      "metadata": {
        "colab": {
          "base_uri": "https://localhost:8080/"
        },
        "id": "v5GCGJuw5DQO",
        "outputId": "170fbacb-80f6-43bc-81f1-ffc7945540e9"
      },
      "execution_count": null,
      "outputs": [
        {
          "output_type": "stream",
          "name": "stdout",
          "text": [
            "tensor([[1., 1., 1., 1., 1.],\n",
            "        [1., 1., 1., 1., 1.]]) torch.float32 \n",
            "\n",
            "[[1. 1. 1. 1. 1.]\n",
            " [1. 1. 1. 1. 1.]] float32 \n",
            "\n"
          ]
        },
        {
          "output_type": "execute_result",
          "data": {
            "text/plain": [
              "(array([[2., 2., 2., 2., 2.],\n",
              "        [2., 2., 2., 2., 2.]], dtype=float32),\n",
              " tensor([[1., 1., 1., 1., 1.],\n",
              "         [1., 1., 1., 1., 1.]]))"
            ]
          },
          "metadata": {},
          "execution_count": 44
        }
      ]
    },
    {
      "cell_type": "markdown",
      "source": [
        "##Reproducibility(taking the random out of randomness)\n"
      ],
      "metadata": {
        "id": "S41ZTRrp70kO"
      }
    },
    {
      "cell_type": "code",
      "source": [
        "# before addinf seed\n",
        "random_tensor_A= torch.rand(2,3)\n",
        "random_tensor_B= torch.rand(2,3)\n",
        "\n",
        "print(random_tensor_A, \"\\n\",random_tensor_B,\"\\n\")\n",
        "\n",
        "random_tensor_A == random_tensor_B"
      ],
      "metadata": {
        "colab": {
          "base_uri": "https://localhost:8080/"
        },
        "id": "g_sWZZwq8518",
        "outputId": "05ef4768-2f0c-477f-bf1e-3a0b643ce7dc"
      },
      "execution_count": null,
      "outputs": [
        {
          "output_type": "stream",
          "name": "stdout",
          "text": [
            "tensor([[0.9039, 0.0727, 0.9203],\n",
            "        [0.2692, 0.3601, 0.7351]]) \n",
            " tensor([[0.5521, 0.8712, 0.6050],\n",
            "        [0.0417, 0.8151, 0.7836]]) \n",
            "\n"
          ]
        },
        {
          "output_type": "execute_result",
          "data": {
            "text/plain": [
              "tensor([[False, False, False],\n",
              "        [False, False, False]])"
            ]
          },
          "metadata": {},
          "execution_count": 45
        }
      ]
    },
    {
      "cell_type": "code",
      "source": [
        "# now adding seed\n",
        "random_seed=5\n",
        "\n",
        "torch.manual_seed(random_seed)\n",
        "random_tensor_C = torch.rand(2,3)\n",
        "\n",
        "\n",
        "torch.manual_seed(random_seed)\n",
        "random_tensor_D= torch.rand(2,3)\n",
        "\n",
        "\n",
        "print(random_tensor_C, \"\\n\",random_tensor_D,\"\\n\")\n",
        "\n",
        "random_tensor_C == random_tensor_D"
      ],
      "metadata": {
        "colab": {
          "base_uri": "https://localhost:8080/"
        },
        "id": "qeHPPi3J-n17",
        "outputId": "c72bb937-0d34-4e06-80f9-b2b170c05a0f"
      },
      "execution_count": null,
      "outputs": [
        {
          "output_type": "stream",
          "name": "stdout",
          "text": [
            "tensor([[0.8303, 0.1261, 0.9075],\n",
            "        [0.8199, 0.9201, 0.1166]]) \n",
            " tensor([[0.8303, 0.1261, 0.9075],\n",
            "        [0.8199, 0.9201, 0.1166]]) \n",
            "\n"
          ]
        },
        {
          "output_type": "execute_result",
          "data": {
            "text/plain": [
              "tensor([[True, True, True],\n",
              "        [True, True, True]])"
            ]
          },
          "metadata": {},
          "execution_count": 46
        }
      ]
    },
    {
      "cell_type": "markdown",
      "source": [
        "###checking GPU wit pytorch"
      ],
      "metadata": {
        "id": "lcufXnK7DYT6"
      }
    },
    {
      "cell_type": "code",
      "source": [
        "# checking if using gpu\n",
        "torch.cuda.is_available()\n",
        "\n",
        "# checking how many gpu available\n",
        "torch.cuda.device_count()"
      ],
      "metadata": {
        "colab": {
          "base_uri": "https://localhost:8080/"
        },
        "id": "VVopzYu1DeGF",
        "outputId": "892f5416-659d-4b71-aa57-8e9e182888c6"
      },
      "execution_count": null,
      "outputs": [
        {
          "output_type": "execute_result",
          "data": {
            "text/plain": [
              "1"
            ]
          },
          "metadata": {},
          "execution_count": 47
        }
      ]
    },
    {
      "cell_type": "code",
      "source": [
        "# setting up device agnostic code\n",
        "\n",
        "device= \"cuda\" if torch.cuda.is_available() else \"cpu\""
      ],
      "metadata": {
        "id": "Hcf3K4YPDtpX"
      },
      "execution_count": null,
      "outputs": []
    },
    {
      "cell_type": "code",
      "source": [
        "# creating tensor with default device and then setting it up to gpu\n",
        "device= 'cuda' if torch.cuda.is_available() else 'cpu'\n",
        "\n",
        "tensoR= torch.tensor([1,2,3,4,5])\n",
        "print(tensoR.device,\"\\n\")\n",
        "\n",
        "tensor_on_gpu= tensoR.to(device)\n",
        "print(tensor_on_gpu)"
      ],
      "metadata": {
        "colab": {
          "base_uri": "https://localhost:8080/"
        },
        "id": "KcE9nABxGteg",
        "outputId": "7a330e5f-7a2c-43cb-f7c0-d5a9c1819de8"
      },
      "execution_count": null,
      "outputs": [
        {
          "output_type": "stream",
          "name": "stdout",
          "text": [
            "cpu \n",
            "\n",
            "tensor([1, 2, 3, 4, 5], device='cuda:0')\n"
          ]
        }
      ]
    },
    {
      "cell_type": "code",
      "source": [
        "# converting the tensor to numpy but numpy only uses cpu.so convert to cpu then numpy\n",
        "\n",
        "tensor_on_cpu= tensor_on_gpu.cpu().numpy()\n",
        "tensor_on_cpu\n"
      ],
      "metadata": {
        "colab": {
          "base_uri": "https://localhost:8080/"
        },
        "id": "dB1lSJSMG36X",
        "outputId": "144c314f-3b7e-4a02-bd8e-e24ee527b1b0"
      },
      "execution_count": null,
      "outputs": [
        {
          "output_type": "execute_result",
          "data": {
            "text/plain": [
              "array([1, 2, 3, 4, 5])"
            ]
          },
          "metadata": {},
          "execution_count": 50
        }
      ]
    },
    {
      "cell_type": "code",
      "source": [],
      "metadata": {
        "id": "iZmp66Fci8E7"
      },
      "execution_count": null,
      "outputs": []
    }
  ]
}