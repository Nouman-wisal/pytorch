{
  "nbformat": 4,
  "nbformat_minor": 0,
  "metadata": {
    "colab": {
      "provenance": [],
      "include_colab_link": true
    },
    "kernelspec": {
      "name": "python3",
      "display_name": "Python 3"
    },
    "language_info": {
      "name": "python"
    }
  },
  "cells": [
    {
      "cell_type": "markdown",
      "metadata": {
        "id": "view-in-github",
        "colab_type": "text"
      },
      "source": [
        "<a href=\"https://colab.research.google.com/github/Nouman-wisal/pytorch/blob/main/00_pytorch_vedio.ipynb\" target=\"_parent\"><img src=\"https://colab.research.google.com/assets/colab-badge.svg\" alt=\"Open In Colab\"/></a>"
      ]
    },
    {
      "cell_type": "code",
      "source": [
        "print(\"hello i'm starting to learn pytorch today 17-may-2025\")"
      ],
      "metadata": {
        "id": "4BL8Y6KfEN5E",
        "colab": {
          "base_uri": "https://localhost:8080/"
        },
        "outputId": "2c4feef6-e714-4ce4-f693-e7d36d8112ef"
      },
      "execution_count": null,
      "outputs": [
        {
          "output_type": "stream",
          "name": "stdout",
          "text": [
            "hello i'm starting to learn pytorch today 17-may-2025\n"
          ]
        }
      ]
    },
    {
      "cell_type": "code",
      "source": [
        "import torch\n",
        "import numpy as np\n",
        "import pandas as pd\n",
        "import matplotlib.pyplot as plt\n",
        "print(torch.__version__)"
      ],
      "metadata": {
        "colab": {
          "base_uri": "https://localhost:8080/"
        },
        "id": "NEwQkQWYG1EN",
        "outputId": "9ab01684-c2f8-4e59-a7e6-c46a86341624"
      },
      "execution_count": null,
      "outputs": [
        {
          "output_type": "stream",
          "name": "stdout",
          "text": [
            "2.6.0+cu124\n"
          ]
        }
      ]
    },
    {
      "cell_type": "code",
      "source": [
        "#scalar\n",
        "scalar=torch.tensor(5)\n",
        "scalar\n",
        "# scalar.ndim\n",
        "# scalar.shape\n",
        "# scalar.item() #to convert the tensor/scalar back to python int\n"
      ],
      "metadata": {
        "colab": {
          "base_uri": "https://localhost:8080/"
        },
        "id": "71tBtb9jPtxm",
        "outputId": "385dd684-6d6f-4e86-f69c-748816cd8dcb"
      },
      "execution_count": null,
      "outputs": [
        {
          "output_type": "execute_result",
          "data": {
            "text/plain": [
              "tensor(5)"
            ]
          },
          "metadata": {},
          "execution_count": 35
        }
      ]
    },
    {
      "cell_type": "code",
      "source": [
        "# Vector\n",
        "\n",
        "vector=torch.tensor([1,2,3],dtype=None, device=None,requires_grad=False)\n",
        "vector\n",
        "vector.ndim\n",
        "# vector.shape"
      ],
      "metadata": {
        "colab": {
          "base_uri": "https://localhost:8080/"
        },
        "id": "4967xaetS41Q",
        "outputId": "8bae3922-6560-41b4-984d-b44a3f343c3c"
      },
      "execution_count": null,
      "outputs": [
        {
          "output_type": "execute_result",
          "data": {
            "text/plain": [
              "1"
            ]
          },
          "metadata": {},
          "execution_count": 36
        }
      ]
    },
    {
      "cell_type": "code",
      "source": [
        "# MATRIX\n",
        "\n",
        "MATRIX=torch.tensor([[1,2,3],\n",
        "                    [4,5,6]])\n",
        "MATRIX\n",
        "MATRIX.ndim\n",
        "MATRIX.shape"
      ],
      "metadata": {
        "colab": {
          "base_uri": "https://localhost:8080/"
        },
        "id": "CIda_wVDTWez",
        "outputId": "12d2fe41-dbf2-4a0b-a722-c5a50af4278a"
      },
      "execution_count": null,
      "outputs": [
        {
          "output_type": "execute_result",
          "data": {
            "text/plain": [
              "torch.Size([2, 3])"
            ]
          },
          "metadata": {},
          "execution_count": 37
        }
      ]
    },
    {
      "cell_type": "code",
      "source": [
        "#TENSOR1\n",
        "\n",
        "TENSOR=torch.tensor([\n",
        "    [[1,2,3],\n",
        "    [4,5,6]],\n",
        "\n",
        "    [[11,12,13],\n",
        "     [14,15,16]]\n",
        "])\n",
        "\n",
        "TENSOR\n",
        "TENSOR.ndim\n",
        "TENSOR.shape\n",
        "TENSOR[1]"
      ],
      "metadata": {
        "colab": {
          "base_uri": "https://localhost:8080/"
        },
        "id": "pdgpW7hCU7pE",
        "outputId": "357f6690-2750-4a5f-e66e-18ac79c74748"
      },
      "execution_count": null,
      "outputs": [
        {
          "output_type": "execute_result",
          "data": {
            "text/plain": [
              "tensor([[11, 12, 13],\n",
              "        [14, 15, 16]])"
            ]
          },
          "metadata": {},
          "execution_count": 38
        }
      ]
    },
    {
      "cell_type": "code",
      "source": [
        "#TENSOR2\n",
        "TENSOR2=torch.tensor([[[78,34,56],\n",
        "                       [32,54,13],\n",
        "                        [98,63,21]]])\n",
        "TENSOR2\n",
        "TENSOR2.ndim\n",
        "TENSOR2.shape\n",
        "TENSOR2[0]"
      ],
      "metadata": {
        "colab": {
          "base_uri": "https://localhost:8080/"
        },
        "id": "fwwKG2EtWJhQ",
        "outputId": "6b1d011f-598a-4688-c096-69628abbd6c0"
      },
      "execution_count": null,
      "outputs": [
        {
          "output_type": "execute_result",
          "data": {
            "text/plain": [
              "tensor([[78, 34, 56],\n",
              "        [32, 54, 13],\n",
              "        [98, 63, 21]])"
            ]
          },
          "metadata": {},
          "execution_count": 39
        }
      ]
    },
    {
      "cell_type": "markdown",
      "source": [
        "##RANDOM TENSORS\n",
        "why random tensors?\n",
        "\n",
        "the way many neural networks learns is that they start with tensors full of random numbers and then adjust those random numbers to better represent the data\n",
        "\n",
        "`start with random numbers --> look at data --> update random numbers --> look at data --> update random numbers `"
      ],
      "metadata": {
        "id": "uM5_GZ5KWhS_"
      }
    },
    {
      "cell_type": "code",
      "source": [
        "# CREATING RNDOM TENSOR\n",
        "random_tensor=torch.rand(4,4)\n",
        "random_tensor"
      ],
      "metadata": {
        "colab": {
          "base_uri": "https://localhost:8080/"
        },
        "id": "yMZL3ChAfnv6",
        "outputId": "d70637ee-5a00-458e-e98d-59236ee2a557"
      },
      "execution_count": null,
      "outputs": [
        {
          "output_type": "execute_result",
          "data": {
            "text/plain": [
              "tensor([[0.9141, 0.6891, 0.2621, 0.2422],\n",
              "        [0.2071, 0.2338, 0.7777, 0.8066],\n",
              "        [0.9679, 0.2197, 0.8431, 0.0140],\n",
              "        [0.2188, 0.1961, 0.2770, 0.5614]])"
            ]
          },
          "metadata": {},
          "execution_count": 40
        }
      ]
    },
    {
      "cell_type": "code",
      "source": [
        "random_tensor1= torch.rand(3,3,4)\n",
        "random_tensor1\n",
        "random_tensor1.ndim,random_tensor1.shape\n"
      ],
      "metadata": {
        "colab": {
          "base_uri": "https://localhost:8080/"
        },
        "id": "Jyc_wzbpjjAf",
        "outputId": "6dd10cf4-3954-454c-b451-40d6b58ddc1d"
      },
      "execution_count": null,
      "outputs": [
        {
          "output_type": "execute_result",
          "data": {
            "text/plain": [
              "(3, torch.Size([3, 3, 4]))"
            ]
          },
          "metadata": {},
          "execution_count": 41
        }
      ]
    },
    {
      "cell_type": "markdown",
      "source": [
        "#Creating a random tensor in shape of an image tensor"
      ],
      "metadata": {
        "id": "M9h357QflGbo"
      }
    },
    {
      "cell_type": "code",
      "source": [
        "# random image size tensor\n",
        "\n",
        "rand_image_size_tensor = torch.rand(size=(3,224,224))\n",
        "\n",
        "rand_image_size_tensor.shape,rand_image_size_tensor.ndim\n"
      ],
      "metadata": {
        "colab": {
          "base_uri": "https://localhost:8080/"
        },
        "id": "PXGmAQrnlOxX",
        "outputId": "24cedf81-1344-4216-bed5-4e2b29cce1a7"
      },
      "execution_count": null,
      "outputs": [
        {
          "output_type": "execute_result",
          "data": {
            "text/plain": [
              "(torch.Size([3, 224, 224]), 3)"
            ]
          },
          "metadata": {},
          "execution_count": 42
        }
      ]
    },
    {
      "cell_type": "code",
      "source": [
        "# creating tensor with zeros\n",
        "zeros_tensor= torch.zeros(4,4)\n",
        "\n",
        "zeros_tensor.dtype,zeros_tensor\n",
        "\n",
        "zeros_tensor * random_tensor\n"
      ],
      "metadata": {
        "colab": {
          "base_uri": "https://localhost:8080/"
        },
        "id": "jqiFWYYB40zv",
        "outputId": "ca986c13-9640-42b5-95c0-fda2d772ae8f"
      },
      "execution_count": null,
      "outputs": [
        {
          "output_type": "execute_result",
          "data": {
            "text/plain": [
              "tensor([[0., 0., 0., 0.],\n",
              "        [0., 0., 0., 0.],\n",
              "        [0., 0., 0., 0.],\n",
              "        [0., 0., 0., 0.]])"
            ]
          },
          "metadata": {},
          "execution_count": 43
        }
      ]
    },
    {
      "cell_type": "code",
      "source": [
        "# creating tensors with ones\n",
        "ones_tensor=torch.ones(2,2)\n",
        "\n",
        "ones_tensor, ones_tensor.dtype"
      ],
      "metadata": {
        "colab": {
          "base_uri": "https://localhost:8080/"
        },
        "id": "Ruj8Wi1mb5lu",
        "outputId": "d0a0dd29-9e04-44c2-a7fb-067da24cb1b6"
      },
      "execution_count": null,
      "outputs": [
        {
          "output_type": "execute_result",
          "data": {
            "text/plain": [
              "(tensor([[1., 1.],\n",
              "         [1., 1.]]),\n",
              " torch.float32)"
            ]
          },
          "metadata": {},
          "execution_count": 44
        }
      ]
    },
    {
      "cell_type": "markdown",
      "source": [
        "#Creating arange tensor"
      ],
      "metadata": {
        "id": "0ZfDeJp6cNKl"
      }
    },
    {
      "cell_type": "code",
      "source": [
        "arange_tensor= torch.arange(0,10,2)\n",
        "\n",
        "arange_tensor , arange_tensor.dtype,arange_tensor.ndim\n"
      ],
      "metadata": {
        "colab": {
          "base_uri": "https://localhost:8080/"
        },
        "id": "O_KK0385dW_E",
        "outputId": "aa885138-80a5-484d-87f5-2f18d4a5e90c"
      },
      "execution_count": null,
      "outputs": [
        {
          "output_type": "execute_result",
          "data": {
            "text/plain": [
              "(tensor([0, 2, 4, 6, 8]), torch.int64, 1)"
            ]
          },
          "metadata": {},
          "execution_count": 45
        }
      ]
    },
    {
      "cell_type": "code",
      "source": [
        "# creating tensors like. meaning in the shape of any tensor given as input\n",
        "\n",
        "zeros_like= torch.zeros_like(input= arange_tensor) #imp\n",
        "zeros_like\n",
        "\n",
        "# ones_like=torch.ones_like(input=arange_tensor)\n",
        "# ones_like\n",
        "\n",
        "# random_like=torch.rand_like(input=arange_tensor , dtype=torch.float32)\n",
        "# random_like"
      ],
      "metadata": {
        "colab": {
          "base_uri": "https://localhost:8080/"
        },
        "id": "LYJQ7P9vgZUN",
        "outputId": "9339aec2-57ba-4475-aced-e24f5668f8da"
      },
      "execution_count": null,
      "outputs": [
        {
          "output_type": "execute_result",
          "data": {
            "text/plain": [
              "tensor([0, 0, 0, 0, 0])"
            ]
          },
          "metadata": {},
          "execution_count": 46
        }
      ]
    },
    {
      "cell_type": "markdown",
      "source": [
        "#Tensors data types\n",
        "tensor datatypes is one of the 3 big errors you will run into in macine learning and deep learning\n",
        "1. Tensor not right datatype\n",
        "2. Tensor not right shape\n",
        "3.Tensor not right device\n"
      ],
      "metadata": {
        "id": "zjJbWzHfjnQj"
      }
    },
    {
      "cell_type": "code",
      "source": [
        "float32_tensor= torch.tensor([3.0,6.0,9.0], dtype=None,                        # what is the datatype of your tensor \"float16\" or \"float32\"\n",
        "                                               device=None,                             # what device is your tensor on \"cpu\" or \"GPU\"\n",
        "                                               requires_grad=False)                     # whether or not to trace gradient with tensors operations\n",
        "float32_tensor.dtype"
      ],
      "metadata": {
        "colab": {
          "base_uri": "https://localhost:8080/"
        },
        "id": "V5aEdqkrl0pc",
        "outputId": "ace7aca3-3894-4fc9-d8cb-f277a6744419"
      },
      "execution_count": null,
      "outputs": [
        {
          "output_type": "execute_result",
          "data": {
            "text/plain": [
              "torch.float32"
            ]
          },
          "metadata": {},
          "execution_count": 47
        }
      ]
    },
    {
      "cell_type": "code",
      "source": [
        "# converting data type of tensors\n",
        "# from float32 (default/single precision) to torch.float16 /half precision\n",
        "\n",
        "float16_tensor= float32_tensor.type(torch.float16) #imp\n",
        "float16_tensor"
      ],
      "metadata": {
        "colab": {
          "base_uri": "https://localhost:8080/"
        },
        "id": "1BbRC3QgpE7w",
        "outputId": "8fb27755-a239-46bd-c6f7-6e5e05747891"
      },
      "execution_count": null,
      "outputs": [
        {
          "output_type": "execute_result",
          "data": {
            "text/plain": [
              "tensor([3., 6., 9.], dtype=torch.float16)"
            ]
          },
          "metadata": {},
          "execution_count": 48
        }
      ]
    },
    {
      "cell_type": "code",
      "source": [
        "check=float32_tensor * float16_tensor\n",
        "\n",
        "check , check.dtype"
      ],
      "metadata": {
        "colab": {
          "base_uri": "https://localhost:8080/"
        },
        "id": "rhJE4cN_qK65",
        "outputId": "39426f30-4dce-4b0e-a910-746b0fa2d084"
      },
      "execution_count": null,
      "outputs": [
        {
          "output_type": "execute_result",
          "data": {
            "text/plain": [
              "(tensor([ 9., 36., 81.]), torch.float32)"
            ]
          },
          "metadata": {},
          "execution_count": 49
        }
      ]
    },
    {
      "cell_type": "code",
      "source": [
        "int32_tensor= torch.tensor([2,4,6],dtype=torch.int64)\n",
        "\n",
        "check1 = float32_tensor * int32_tensor\n",
        "check1 , check1.dtype"
      ],
      "metadata": {
        "colab": {
          "base_uri": "https://localhost:8080/"
        },
        "id": "VCVLvu2xC5vq",
        "outputId": "a202fa54-e936-4601-bc42-87df0907bc96"
      },
      "execution_count": null,
      "outputs": [
        {
          "output_type": "execute_result",
          "data": {
            "text/plain": [
              "(tensor([ 6., 24., 54.]), torch.float32)"
            ]
          },
          "metadata": {},
          "execution_count": 50
        }
      ]
    },
    {
      "cell_type": "markdown",
      "source": [
        "###Getting information from tensor (Tensor Attribute)\n",
        "\n",
        "\n",
        "1.   Tensor not right data type , to get datatype of tensor `torch.dtype`\n",
        "2.   Tensor not right shape , to get shape of tensor `torch.shape` or `torch.size()`  \n",
        "\n",
        "1.   Tensor not on right device , to get device of tensor `torch.device`\n",
        "\n",
        "\n",
        "\n",
        "\n",
        "\n"
      ],
      "metadata": {
        "id": "1w15XSBJEqNW"
      }
    },
    {
      "cell_type": "code",
      "source": [
        "# creating random tensor with all attributes\n",
        "\n",
        "Tensor_attributes= torch.rand(4,5,dtype=torch.float16, device=torch.device(\"cpu\"), requires_grad=False)\n",
        "\n",
        "print(Tensor_attributes)\n",
        "print(f\"\\nThe shape of the tensor is    '{Tensor_attributes.shape}'\")\n",
        "print(f\"The datatype of thetensor is    '{Tensor_attributes.dtype}'\")\n",
        "print(f\"The device on which tensor is   '{Tensor_attributes.device}'\")"
      ],
      "metadata": {
        "colab": {
          "base_uri": "https://localhost:8080/"
        },
        "id": "Wvb1hphZGbAN",
        "outputId": "4d9d3388-5cc5-46cf-dc87-f220b57f087e"
      },
      "execution_count": null,
      "outputs": [
        {
          "output_type": "stream",
          "name": "stdout",
          "text": [
            "tensor([[0.5640, 0.4775, 0.5806, 0.7163, 0.5405],\n",
            "        [0.0591, 0.0767, 0.1289, 0.1675, 0.4082],\n",
            "        [0.0332, 0.2339, 0.6455, 0.7617, 0.1646],\n",
            "        [0.4077, 0.8765, 0.3867, 0.5366, 0.4287]], dtype=torch.float16)\n",
            "\n",
            "The shape of the tensor is    'torch.Size([4, 5])'\n",
            "The datatype of thetensor is    'torch.float16'\n",
            "The device on which tensor is   'cpu'\n"
          ]
        }
      ]
    },
    {
      "cell_type": "markdown",
      "source": [
        "##Matrix operations (+ , - , / , multiply but it has two different types)"
      ],
      "metadata": {
        "id": "Ce183okeo7eC"
      }
    },
    {
      "cell_type": "code",
      "source": [
        "tensor= torch.tensor([1,2,3])\n",
        "\n",
        "# addition in tensors\n",
        "tensor + 10 , tensor + tensor\n",
        "# or\n",
        "torch.add(tensor,10)"
      ],
      "metadata": {
        "colab": {
          "base_uri": "https://localhost:8080/"
        },
        "id": "wLu4BxGYpUcx",
        "outputId": "28c67fb5-a3fa-49a1-e77d-687bb3d1ffaa"
      },
      "execution_count": null,
      "outputs": [
        {
          "output_type": "execute_result",
          "data": {
            "text/plain": [
              "tensor([11, 12, 13])"
            ]
          },
          "metadata": {},
          "execution_count": 52
        }
      ]
    },
    {
      "cell_type": "code",
      "source": [
        "# subtraction in tensors\n",
        "\n",
        "tensor - 10 , tensor - tensor\n",
        "# or\n",
        "torch.subtract(tensor,10)"
      ],
      "metadata": {
        "colab": {
          "base_uri": "https://localhost:8080/"
        },
        "id": "4EOnFBgup2e5",
        "outputId": "4b06436f-76f6-42a9-f04d-2f1719e02d76"
      },
      "execution_count": null,
      "outputs": [
        {
          "output_type": "execute_result",
          "data": {
            "text/plain": [
              "tensor([-9, -8, -7])"
            ]
          },
          "metadata": {},
          "execution_count": 53
        }
      ]
    },
    {
      "cell_type": "code",
      "source": [
        "# division in tensor\n",
        "\n",
        "tensor / 2\n",
        "# or\n",
        "torch.div(tensor,2)"
      ],
      "metadata": {
        "colab": {
          "base_uri": "https://localhost:8080/"
        },
        "id": "GQhqZwVWqJD_",
        "outputId": "9b463e1b-bc85-4edc-e688-8ac8672e6a7b"
      },
      "execution_count": null,
      "outputs": [
        {
          "output_type": "execute_result",
          "data": {
            "text/plain": [
              "tensor([0.5000, 1.0000, 1.5000])"
            ]
          },
          "metadata": {},
          "execution_count": 54
        }
      ]
    },
    {
      "cell_type": "markdown",
      "source": [
        "# The two two types of multiplication are :\n",
        "\n",
        "\n",
        "1.   Element wise Multiplication\n",
        "2.   Matrix Multiplication or aka Dot Product\n",
        "\n"
      ],
      "metadata": {
        "id": "M9XFBACXqbmR"
      }
    },
    {
      "cell_type": "code",
      "source": [
        "# element wise multiplication\n",
        "# it'll multiply the scalar int with all every number in matrix/vector\n",
        "\n",
        "element_wise= tensor * 3\n",
        "element_wise\n",
        "# or\n",
        "torch.mul(tensor,3) #imp"
      ],
      "metadata": {
        "colab": {
          "base_uri": "https://localhost:8080/"
        },
        "id": "uXzpZFLxqzaJ",
        "outputId": "28a35f9b-7afe-454c-f41d-53f3022d6061"
      },
      "execution_count": null,
      "outputs": [
        {
          "output_type": "execute_result",
          "data": {
            "text/plain": [
              "tensor([3, 6, 9])"
            ]
          },
          "metadata": {},
          "execution_count": 55
        }
      ]
    },
    {
      "cell_type": "code",
      "source": [
        "# matrix multiplication\n",
        "\n",
        "dot_matrix= torch.matmul(tensor,tensor)\n",
        "dot_matrix\n"
      ],
      "metadata": {
        "colab": {
          "base_uri": "https://localhost:8080/"
        },
        "id": "zwrcbHdgrO7B",
        "outputId": "c7fec33e-80ad-41f5-e64f-8994818752ee"
      },
      "execution_count": null,
      "outputs": [
        {
          "output_type": "execute_result",
          "data": {
            "text/plain": [
              "tensor(14)"
            ]
          },
          "metadata": {},
          "execution_count": 56
        }
      ]
    },
    {
      "cell_type": "markdown",
      "source": [
        "## Matrix multiplication has two rules:\n",
        "\n",
        "\n",
        "1.   inner dimension must match i.e (2,3) @ (3,4) not (2,3) @ (4,2)\n",
        "2.   the resulting matrix will have the shape of outer dimension i.e upper shape will be ==> size([4,4])\n",
        "\n"
      ],
      "metadata": {
        "id": "pRKcitDMsqJG"
      }
    },
    {
      "cell_type": "code",
      "source": [
        "# matmul\n",
        "\n",
        "matmult= torch.matmul(torch.rand(4,3) , torch.rand(3,5))\n",
        "\n",
        "matmult , matmult.shape"
      ],
      "metadata": {
        "colab": {
          "base_uri": "https://localhost:8080/"
        },
        "id": "DDtTkPnstdOF",
        "outputId": "c9386c22-67da-4676-b52b-47b92147efa1"
      },
      "execution_count": null,
      "outputs": [
        {
          "output_type": "execute_result",
          "data": {
            "text/plain": [
              "(tensor([[0.9700, 1.2923, 1.5337, 1.1462, 1.1062],\n",
              "         [0.7797, 1.0793, 1.0242, 0.9881, 0.6639],\n",
              "         [0.4639, 0.5954, 0.7221, 0.4591, 0.5468],\n",
              "         [1.0778, 1.4508, 1.6460, 1.3052, 1.1622]]),\n",
              " torch.Size([4, 5]))"
            ]
          },
          "metadata": {},
          "execution_count": 57
        }
      ]
    },
    {
      "cell_type": "markdown",
      "source": [],
      "metadata": {
        "id": "nmIzRrCigmZp"
      }
    },
    {
      "cell_type": "code",
      "source": [
        "                                                            # TRANSPOSE\n",
        "# FIXING THE INNER DIMENSION OF TENSOR IF NOT RIGHT WITH TRANSPOSE\n",
        "\n",
        "tensor_A = torch.tensor([[1,2,3],\n",
        "                         [4,5,6],\n",
        "                         [7,8,9]])\n",
        "\n",
        "tensor_B= torch.tensor([[10,11,12],\n",
        "                        [13,14,15]])\n",
        "\n",
        "tensor_A.shape , tensor_B.shape # inner dimensions doesnt match (3,3),(2,3) it should be (3,3)\n",
        "\n",
        "print(\"shape of tensor B after transpose \\n\\n\",tensor_B.T.shape)  # transpose of B\n",
        "print(tensor_B.T)\n",
        "\n",
        "torch.matmul( tensor_A , tensor_B.T )\n"
      ],
      "metadata": {
        "colab": {
          "base_uri": "https://localhost:8080/"
        },
        "id": "oIqUkQ89v52b",
        "outputId": "f74f16e3-bf46-47f3-df85-b68fe1e2c8da"
      },
      "execution_count": null,
      "outputs": [
        {
          "output_type": "stream",
          "name": "stdout",
          "text": [
            "shape of tensor B after transpose \n",
            "\n",
            " torch.Size([3, 2])\n",
            "tensor([[10, 13],\n",
            "        [11, 14],\n",
            "        [12, 15]])\n"
          ]
        },
        {
          "output_type": "execute_result",
          "data": {
            "text/plain": [
              "tensor([[ 68,  86],\n",
              "        [167, 212],\n",
              "        [266, 338]])"
            ]
          },
          "metadata": {},
          "execution_count": 104
        }
      ]
    },
    {
      "cell_type": "markdown",
      "source": [
        "##Aggregating tensors `( min ,max, mean , sum, argmin, argmax)`"
      ],
      "metadata": {
        "id": "1oTeh9G1cGYl"
      }
    },
    {
      "cell_type": "code",
      "source": [
        "# min ,max , sum\n",
        "\n",
        "tensor_x= torch.arange(10,100,10)\n",
        "tensor_x\n",
        "\n",
        "# min ,max , sum\n",
        "torch.min(tensor_x) , torch.max(tensor_x) , torch.sum(tensor_x) # prefered\n",
        "# or\n",
        "tensor_x.min() , tensor_x.max() , tensor_x.sum()"
      ],
      "metadata": {
        "colab": {
          "base_uri": "https://localhost:8080/"
        },
        "id": "UqXbNE3ehJrD",
        "outputId": "979199b7-7dce-4fec-8f77-4d9d97b3c095"
      },
      "execution_count": null,
      "outputs": [
        {
          "output_type": "execute_result",
          "data": {
            "text/plain": [
              "(tensor(10), tensor(90), tensor(450))"
            ]
          },
          "metadata": {},
          "execution_count": 59
        }
      ]
    },
    {
      "cell_type": "code",
      "source": [
        "# argmin, argmax()\n",
        "\n",
        "torch.argmin(tensor_x) , torch.argmax(tensor_x), tensor_x[0] , tensor_x[8]"
      ],
      "metadata": {
        "colab": {
          "base_uri": "https://localhost:8080/"
        },
        "id": "l1X5eZV3jkB7",
        "outputId": "b3e333a7-3b7e-4c8f-a9d0-38f3098405a2"
      },
      "execution_count": null,
      "outputs": [
        {
          "output_type": "execute_result",
          "data": {
            "text/plain": [
              "(tensor(0), tensor(8), tensor(10), tensor(90))"
            ]
          },
          "metadata": {},
          "execution_count": 60
        }
      ]
    },
    {
      "cell_type": "code",
      "source": [
        "# argmin, argmax()\n",
        "\n",
        "matrix_x = torch.tensor([[1, 7],\n",
        "                         [4, 3]])\n",
        "\n",
        "print(\"Argmax:\", torch.argmax(matrix_x))  # Flattened: [1, 7, 4, 3] → max is 7 at index 1\n",
        "print(\"Argmin:\", torch.argmin(matrix_x))  # min is 1 at index 0\n",
        "\n",
        "print(\"\\nfinding argmin and arg max column_row_wise\\n\")\n",
        "\n",
        "print(\"Argmax (dim=0):\", torch.argmax(matrix_x, dim=0))  # Compare column-wise\n",
        "print(\"Argmax (dim=1):\", torch.argmax(matrix_x, dim=1))  # Compare row-wise\n"
      ],
      "metadata": {
        "colab": {
          "base_uri": "https://localhost:8080/"
        },
        "id": "MvqcQF2tlH3h",
        "outputId": "d3ee5109-2366-4adf-f01a-dda1c382bc89"
      },
      "execution_count": null,
      "outputs": [
        {
          "output_type": "stream",
          "name": "stdout",
          "text": [
            "Argmax: tensor(1)\n",
            "Argmin: tensor(0)\n",
            "\n",
            "finding argmin and arg max column_row_wise\n",
            "\n",
            "Argmax (dim=0): tensor([1, 0])\n",
            "Argmax (dim=1): tensor([1, 0])\n"
          ]
        }
      ]
    },
    {
      "cell_type": "code",
      "source": [
        "# mean\n",
        "# for mean datatype must be chnage to float32 or complexdtype\n",
        "\n",
        "torch.mean( tensor_x.type(torch.float32) ) #prefered\n",
        "# or\n",
        "tensor_x.type(torch.float32).mean()"
      ],
      "metadata": {
        "colab": {
          "base_uri": "https://localhost:8080/"
        },
        "id": "Czlv-LjZhiAb",
        "outputId": "dd618d08-9083-4e3c-8d17-1c62b53681bc"
      },
      "execution_count": null,
      "outputs": [
        {
          "output_type": "execute_result",
          "data": {
            "text/plain": [
              "tensor(50.)"
            ]
          },
          "metadata": {},
          "execution_count": 62
        }
      ]
    },
    {
      "cell_type": "markdown",
      "source": [
        "##`Reshape` : reshapes the input tensor to a defined shape. adds a dimension `[]` too\n",
        "##`View` : does the same thing`syntax is bit different` as \"reshaping\" but to the original tensor bcz it shares the same memory\n",
        "##`Stacking` : combines multiple tensors on top of eachother, `vstack` or sideby side `hstack`\n",
        "##`Squeeze` : remove all 1 dimension from tensor\n",
        "##`Unsqueeze` : add 1 dimension to the target tensor\n",
        "##`Permute` : returns a view of input with dimension permuted(swapped) in a certain way."
      ],
      "metadata": {
        "id": "A0VNhCqSllmk"
      }
    },
    {
      "cell_type": "code",
      "source": [
        "# reshapiing the tensor\n",
        "\n",
        "tensor_n= torch.arange(1.,10.)\n",
        "print( tensor_n , tensor_n.shape , \"\\n\" )\n",
        "\n",
        "reshape_n = torch.reshape (tensor_n, (1,9))    # bcz resultig matrix will have the shape(no of cols) of outer dimension aka 9 (col) asmentioned\n",
        "#or reshape_n = tensor_n.reshape (1,9)\n",
        "\n",
        "print(reshape_n,\"\\n\")\n",
        "\n",
        "reshape_n1= torch.reshape(tensor_n, (9,1))\n",
        "#or reshape_n1 = tensor_n.reshape (9,1)\n",
        "# print(reshape_n1,\"\\n\")    # bcz resultig matrix will have the shape(no of cols) of outer dimension aka 1 (col) asmentioned\n",
        "\n",
        "reshape_n2 = torch.reshape(tensor_n , (3,3))\n",
        "#or reshape_n2 = tensor_n.reshape (3,3)\n",
        "reshape_n2"
      ],
      "metadata": {
        "colab": {
          "base_uri": "https://localhost:8080/"
        },
        "id": "X7qd645JPAXn",
        "outputId": "a5077785-3528-4989-aeeb-3fb6839ad5ce"
      },
      "execution_count": null,
      "outputs": [
        {
          "output_type": "stream",
          "name": "stdout",
          "text": [
            "tensor([1., 2., 3., 4., 5., 6., 7., 8., 9.]) torch.Size([9]) \n",
            "\n",
            "tensor([[1., 2., 3., 4., 5., 6., 7., 8., 9.]]) \n",
            "\n"
          ]
        },
        {
          "output_type": "execute_result",
          "data": {
            "text/plain": [
              "tensor([[1., 2., 3.],\n",
              "        [4., 5., 6.],\n",
              "        [7., 8., 9.]])"
            ]
          },
          "metadata": {},
          "execution_count": 84
        }
      ]
    },
    {
      "cell_type": "code",
      "source": [
        "# view(change in the original tensor bcz it shares same memory) the tensor\n",
        "# torch.view wont work, have to used org var name like tensor_k\n",
        "\n",
        "tensor_k= torch.arange(1,30,2)\n",
        "print( tensor_k.shape , tensor_k , \"\\n\" )\n",
        "\n",
        "view_k= tensor_k.view(5,3)\n",
        "# view_k[:,0]=5 just fyi it means all slect all rows of first col and change them to 5\n",
        "view_k\n",
        "\n"
      ],
      "metadata": {
        "colab": {
          "base_uri": "https://localhost:8080/"
        },
        "id": "9ZXC9iABSg-Z",
        "outputId": "3402be45-689d-42f4-9aaa-ac26cb831f37"
      },
      "execution_count": null,
      "outputs": [
        {
          "output_type": "stream",
          "name": "stdout",
          "text": [
            "torch.Size([15]) tensor([ 1,  3,  5,  7,  9, 11, 13, 15, 17, 19, 21, 23, 25, 27, 29]) \n",
            "\n"
          ]
        },
        {
          "output_type": "execute_result",
          "data": {
            "text/plain": [
              "tensor([[ 1,  3,  5],\n",
              "        [ 7,  9, 11],\n",
              "        [13, 15, 17],\n",
              "        [19, 21, 23],\n",
              "        [25, 27, 29]])"
            ]
          },
          "metadata": {},
          "execution_count": 102
        }
      ]
    }
  ]
}