{
  "nbformat": 4,
  "nbformat_minor": 0,
  "metadata": {
    "colab": {
      "provenance": [],
      "include_colab_link": true
    },
    "kernelspec": {
      "name": "python3",
      "display_name": "Python 3"
    },
    "language_info": {
      "name": "python"
    }
  },
  "cells": [
    {
      "cell_type": "markdown",
      "metadata": {
        "id": "view-in-github",
        "colab_type": "text"
      },
      "source": [
        "<a href=\"https://colab.research.google.com/github/Nouman-wisal/pytorch/blob/main/00_pytorch_vedio.ipynb\" target=\"_parent\"><img src=\"https://colab.research.google.com/assets/colab-badge.svg\" alt=\"Open In Colab\"/></a>"
      ]
    },
    {
      "cell_type": "code",
      "source": [
        "print(\"hello i'm starting to learn pytorch today 17-may-2025\")"
      ],
      "metadata": {
        "id": "4BL8Y6KfEN5E",
        "colab": {
          "base_uri": "https://localhost:8080/"
        },
        "outputId": "afcc172a-a31c-41e9-d0f2-37b2eb474114"
      },
      "execution_count": null,
      "outputs": [
        {
          "output_type": "stream",
          "name": "stdout",
          "text": [
            "hello i'm starting to learn pytorch today 17-may-2025\n"
          ]
        }
      ]
    },
    {
      "cell_type": "code",
      "source": [
        "import torch\n",
        "import numpy as np\n",
        "import pandas as pd\n",
        "import matplotlib.pyplot as plt\n",
        "print(torch.__version__)"
      ],
      "metadata": {
        "colab": {
          "base_uri": "https://localhost:8080/"
        },
        "id": "NEwQkQWYG1EN",
        "outputId": "0f217550-6cfb-4f05-8bf7-6a7da57c2436"
      },
      "execution_count": null,
      "outputs": [
        {
          "output_type": "stream",
          "name": "stdout",
          "text": [
            "2.6.0+cu124\n"
          ]
        }
      ]
    },
    {
      "cell_type": "code",
      "source": [
        "#scalar\n",
        "scalar=torch.tensor(5)\n",
        "scalar\n",
        "# scalar.ndim\n",
        "# scalar.shape\n",
        "# scalar.item() #to convert the tensor/scalar back to python int\n"
      ],
      "metadata": {
        "colab": {
          "base_uri": "https://localhost:8080/"
        },
        "id": "71tBtb9jPtxm",
        "outputId": "a0608ac1-5034-45b1-fc7c-5294d0a6dfea"
      },
      "execution_count": null,
      "outputs": [
        {
          "output_type": "execute_result",
          "data": {
            "text/plain": [
              "tensor(5)"
            ]
          },
          "metadata": {},
          "execution_count": 3
        }
      ]
    },
    {
      "cell_type": "code",
      "source": [
        "# Vector\n",
        "\n",
        "vector=torch.tensor([1,2,3],dtype=None, device=None,requires_grad=False)\n",
        "vector\n",
        "vector.ndim\n",
        "# vector.shape"
      ],
      "metadata": {
        "colab": {
          "base_uri": "https://localhost:8080/"
        },
        "id": "4967xaetS41Q",
        "outputId": "d3ed60c2-ed54-43ef-cacc-f735d7917a6b"
      },
      "execution_count": null,
      "outputs": [
        {
          "output_type": "execute_result",
          "data": {
            "text/plain": [
              "1"
            ]
          },
          "metadata": {},
          "execution_count": 4
        }
      ]
    },
    {
      "cell_type": "code",
      "source": [
        "# MATRIX\n",
        "\n",
        "MATRIX=torch.tensor([[1,2,3],\n",
        "                    [4,5,6]])\n",
        "MATRIX\n",
        "MATRIX.ndim\n",
        "MATRIX.shape"
      ],
      "metadata": {
        "colab": {
          "base_uri": "https://localhost:8080/"
        },
        "id": "CIda_wVDTWez",
        "outputId": "40deeeb1-5153-4929-a124-7ce6eabf0fd2"
      },
      "execution_count": null,
      "outputs": [
        {
          "output_type": "execute_result",
          "data": {
            "text/plain": [
              "torch.Size([2, 3])"
            ]
          },
          "metadata": {},
          "execution_count": 5
        }
      ]
    },
    {
      "cell_type": "code",
      "source": [
        "#TENSOR1\n",
        "\n",
        "TENSOR=torch.tensor([\n",
        "    [[1,2,3],\n",
        "    [4,5,6]],\n",
        "\n",
        "    [[11,12,13],\n",
        "     [14,15,16]]\n",
        "])\n",
        "\n",
        "TENSOR\n",
        "TENSOR.ndim\n",
        "TENSOR.shape\n",
        "TENSOR[1]"
      ],
      "metadata": {
        "colab": {
          "base_uri": "https://localhost:8080/"
        },
        "id": "pdgpW7hCU7pE",
        "outputId": "8399ed50-7713-4f96-937b-44a8d14719de"
      },
      "execution_count": null,
      "outputs": [
        {
          "output_type": "execute_result",
          "data": {
            "text/plain": [
              "tensor([[11, 12, 13],\n",
              "        [14, 15, 16]])"
            ]
          },
          "metadata": {},
          "execution_count": 6
        }
      ]
    },
    {
      "cell_type": "code",
      "source": [
        "#TENSOR2\n",
        "TENSOR2=torch.tensor([[[78,34,56],\n",
        "                       [32,54,13],\n",
        "                        [98,63,21]]])\n",
        "TENSOR2\n",
        "TENSOR2.ndim\n",
        "TENSOR2.shape\n",
        "TENSOR2[0]"
      ],
      "metadata": {
        "colab": {
          "base_uri": "https://localhost:8080/"
        },
        "id": "fwwKG2EtWJhQ",
        "outputId": "f32efedf-c9a8-4722-801e-9617c717dd2b"
      },
      "execution_count": null,
      "outputs": [
        {
          "output_type": "execute_result",
          "data": {
            "text/plain": [
              "tensor([[78, 34, 56],\n",
              "        [32, 54, 13],\n",
              "        [98, 63, 21]])"
            ]
          },
          "metadata": {},
          "execution_count": 7
        }
      ]
    },
    {
      "cell_type": "markdown",
      "source": [
        "##RANDOM TENSORS\n",
        "why random tensors?\n",
        "\n",
        "the way many neural networks learns is that they start with tensors full of random numbers and then adjust those random numbers to better represent the data\n",
        "\n",
        "`start with random numbers --> look at data --> update random numbers --> look at data --> update random numbers `"
      ],
      "metadata": {
        "id": "uM5_GZ5KWhS_"
      }
    },
    {
      "cell_type": "code",
      "source": [
        "# CREATING RNDOM TENSOR\n",
        "random_tensor=torch.rand(4,4)\n",
        "random_tensor"
      ],
      "metadata": {
        "colab": {
          "base_uri": "https://localhost:8080/"
        },
        "id": "yMZL3ChAfnv6",
        "outputId": "109501e3-b0da-4347-f172-df409472a674"
      },
      "execution_count": null,
      "outputs": [
        {
          "output_type": "execute_result",
          "data": {
            "text/plain": [
              "tensor([[0.4046, 0.2882, 0.2142, 0.8718],\n",
              "        [0.9313, 0.7056, 0.3195, 0.4687],\n",
              "        [0.8653, 0.3826, 0.7198, 0.6648],\n",
              "        [0.2245, 0.3870, 0.9159, 0.9522]])"
            ]
          },
          "metadata": {},
          "execution_count": 8
        }
      ]
    },
    {
      "cell_type": "code",
      "source": [
        "random_tensor1= torch.rand(3,3,4)\n",
        "random_tensor1\n",
        "random_tensor1.ndim,random_tensor1.shape\n"
      ],
      "metadata": {
        "colab": {
          "base_uri": "https://localhost:8080/"
        },
        "id": "Jyc_wzbpjjAf",
        "outputId": "a90c1d58-44b0-4128-dd47-faa4ab9b4c4a"
      },
      "execution_count": null,
      "outputs": [
        {
          "output_type": "execute_result",
          "data": {
            "text/plain": [
              "(3, torch.Size([3, 3, 4]))"
            ]
          },
          "metadata": {},
          "execution_count": 9
        }
      ]
    },
    {
      "cell_type": "markdown",
      "source": [
        "#Creating a random tensor in shape of an image tensor"
      ],
      "metadata": {
        "id": "M9h357QflGbo"
      }
    },
    {
      "cell_type": "code",
      "source": [
        "# random image size tensor\n",
        "\n",
        "rand_image_size_tensor = torch.rand(size=(3,224,224))\n",
        "\n",
        "rand_image_size_tensor.shape,rand_image_size_tensor.ndim\n"
      ],
      "metadata": {
        "colab": {
          "base_uri": "https://localhost:8080/"
        },
        "id": "PXGmAQrnlOxX",
        "outputId": "e8772a10-fbb1-4a20-b3de-e3a3414ed007"
      },
      "execution_count": null,
      "outputs": [
        {
          "output_type": "execute_result",
          "data": {
            "text/plain": [
              "(torch.Size([3, 224, 224]), 3)"
            ]
          },
          "metadata": {},
          "execution_count": 10
        }
      ]
    },
    {
      "cell_type": "code",
      "source": [
        "# creating tensor with zeros\n",
        "zeros_tensor= torch.zeros(4,4)\n",
        "\n",
        "zeros_tensor.dtype,zeros_tensor\n",
        "\n",
        "zeros_tensor * random_tensor\n"
      ],
      "metadata": {
        "colab": {
          "base_uri": "https://localhost:8080/"
        },
        "id": "jqiFWYYB40zv",
        "outputId": "86509feb-6449-4e04-8513-09c31476ea8f"
      },
      "execution_count": null,
      "outputs": [
        {
          "output_type": "execute_result",
          "data": {
            "text/plain": [
              "tensor([[0., 0., 0., 0.],\n",
              "        [0., 0., 0., 0.],\n",
              "        [0., 0., 0., 0.],\n",
              "        [0., 0., 0., 0.]])"
            ]
          },
          "metadata": {},
          "execution_count": 11
        }
      ]
    },
    {
      "cell_type": "code",
      "source": [
        "# creating tensors with ones\n",
        "ones_tensor=torch.ones(2,2)\n",
        "\n",
        "ones_tensor, ones_tensor.dtype"
      ],
      "metadata": {
        "colab": {
          "base_uri": "https://localhost:8080/"
        },
        "id": "Ruj8Wi1mb5lu",
        "outputId": "12a43985-aa21-4c87-d390-3a673a29fde0"
      },
      "execution_count": null,
      "outputs": [
        {
          "output_type": "execute_result",
          "data": {
            "text/plain": [
              "(tensor([[1., 1.],\n",
              "         [1., 1.]]),\n",
              " torch.float32)"
            ]
          },
          "metadata": {},
          "execution_count": 12
        }
      ]
    },
    {
      "cell_type": "markdown",
      "source": [
        "#Creating arange tensor"
      ],
      "metadata": {
        "id": "0ZfDeJp6cNKl"
      }
    },
    {
      "cell_type": "code",
      "source": [
        "arange_tensor= torch.arange(0,10,2)\n",
        "\n",
        "arange_tensor , arange_tensor.dtype,arange_tensor.ndim\n"
      ],
      "metadata": {
        "colab": {
          "base_uri": "https://localhost:8080/"
        },
        "id": "O_KK0385dW_E",
        "outputId": "5c737ffe-deff-470c-b826-f18d6894a7c7"
      },
      "execution_count": null,
      "outputs": [
        {
          "output_type": "execute_result",
          "data": {
            "text/plain": [
              "(tensor([0, 2, 4, 6, 8]), torch.int64, 1)"
            ]
          },
          "metadata": {},
          "execution_count": 13
        }
      ]
    },
    {
      "cell_type": "code",
      "source": [
        "# creating tensors like. meaning in the shape of any tensor given as input\n",
        "\n",
        "zeros_like= torch.zeros_like(input= arange_tensor) #imp\n",
        "zeros_like\n",
        "\n",
        "# ones_like=torch.ones_like(input=arange_tensor)\n",
        "# ones_like\n",
        "\n",
        "# random_like=torch.rand_like(input=arange_tensor , dtype=torch.float32)\n",
        "# random_like"
      ],
      "metadata": {
        "colab": {
          "base_uri": "https://localhost:8080/"
        },
        "id": "LYJQ7P9vgZUN",
        "outputId": "85a754b1-5098-4df0-a6af-71fd952cdcae"
      },
      "execution_count": null,
      "outputs": [
        {
          "output_type": "execute_result",
          "data": {
            "text/plain": [
              "tensor([0, 0, 0, 0, 0])"
            ]
          },
          "metadata": {},
          "execution_count": 14
        }
      ]
    },
    {
      "cell_type": "markdown",
      "source": [
        "#Tensors data types\n",
        "tensor datatypes is one of the 3 big errors you will run into in macine learning and deep learning\n",
        "1. Tensor not right datatype\n",
        "2. Tensor not right shape\n",
        "3.Tensor not right device\n"
      ],
      "metadata": {
        "id": "zjJbWzHfjnQj"
      }
    },
    {
      "cell_type": "code",
      "source": [
        "float32_tensor= torch.tensor([3.0,6.0,9.0], dtype=None,                        # what is the datatype of your tensor \"float16\" or \"float32\"\n",
        "                                               device=None,                             # what device is your tensor on \"cpu\" or \"GPU\"\n",
        "                                               requires_grad=False)                     # whether or not to trace gradient with tensors operations\n",
        "float32_tensor.dtype"
      ],
      "metadata": {
        "colab": {
          "base_uri": "https://localhost:8080/"
        },
        "id": "V5aEdqkrl0pc",
        "outputId": "7a01491a-1a7d-4774-e489-769c9949c6ba"
      },
      "execution_count": null,
      "outputs": [
        {
          "output_type": "execute_result",
          "data": {
            "text/plain": [
              "torch.float32"
            ]
          },
          "metadata": {},
          "execution_count": 15
        }
      ]
    },
    {
      "cell_type": "code",
      "source": [
        "# converting data type of tensors\n",
        "# from float32 (default/single precision) to torch.float16 /half precision\n",
        "\n",
        "float16_tensor= float32_tensor.type(torch.float16) #imp\n",
        "float16_tensor"
      ],
      "metadata": {
        "colab": {
          "base_uri": "https://localhost:8080/"
        },
        "id": "1BbRC3QgpE7w",
        "outputId": "282569b4-ebf3-434e-bbe3-cc4ab749e5d7"
      },
      "execution_count": null,
      "outputs": [
        {
          "output_type": "execute_result",
          "data": {
            "text/plain": [
              "tensor([3., 6., 9.], dtype=torch.float16)"
            ]
          },
          "metadata": {},
          "execution_count": 16
        }
      ]
    },
    {
      "cell_type": "code",
      "source": [
        "check=float32_tensor * float16_tensor\n",
        "\n",
        "check , check.dtype"
      ],
      "metadata": {
        "colab": {
          "base_uri": "https://localhost:8080/"
        },
        "id": "rhJE4cN_qK65",
        "outputId": "1191f34f-3b57-4f13-d245-fa8259706b5c"
      },
      "execution_count": null,
      "outputs": [
        {
          "output_type": "execute_result",
          "data": {
            "text/plain": [
              "(tensor([ 9., 36., 81.]), torch.float32)"
            ]
          },
          "metadata": {},
          "execution_count": 17
        }
      ]
    },
    {
      "cell_type": "code",
      "source": [
        "int32_tensor= torch.tensor([2,4,6],dtype=torch.int64)\n",
        "\n",
        "check1 = float32_tensor * int32_tensor\n",
        "check1 , check1.dtype"
      ],
      "metadata": {
        "colab": {
          "base_uri": "https://localhost:8080/"
        },
        "id": "VCVLvu2xC5vq",
        "outputId": "550299f8-94d0-4064-fe8c-4b326810dfe5"
      },
      "execution_count": null,
      "outputs": [
        {
          "output_type": "execute_result",
          "data": {
            "text/plain": [
              "(tensor([ 6., 24., 54.]), torch.float32)"
            ]
          },
          "metadata": {},
          "execution_count": 18
        }
      ]
    },
    {
      "cell_type": "markdown",
      "source": [
        "###Getting information from tensor (Tensor Attribute)\n",
        "\n",
        "\n",
        "1.   Tensor not right data type , to get datatype of tensor `torch.dtype`\n",
        "2.   Tensor not right shape , to get shape of tensor `torch.shape` or `torch.size()`  \n",
        "\n",
        "1.   Tensor not on right device , to get device of tensor `torch.device`\n",
        "\n",
        "\n",
        "\n",
        "\n",
        "\n"
      ],
      "metadata": {
        "id": "1w15XSBJEqNW"
      }
    },
    {
      "cell_type": "code",
      "source": [
        "# creating random tensor with all attributes\n",
        "\n",
        "Tensor_attributes= torch.rand(4,5,dtype=torch.float16, device=torch.device(\"cpu\"), requires_grad=False)\n",
        "\n",
        "print(Tensor_attributes)\n",
        "print(f\"\\nThe shape of the tensor is    '{Tensor_attributes.shape}'\")\n",
        "print(f\"The datatype of thetensor is    '{Tensor_attributes.dtype}'\")\n",
        "print(f\"The device on which tensor is   '{Tensor_attributes.device}'\")"
      ],
      "metadata": {
        "colab": {
          "base_uri": "https://localhost:8080/"
        },
        "id": "Wvb1hphZGbAN",
        "outputId": "6b69a3c7-a24d-4dac-8565-32ef1cf99ef6"
      },
      "execution_count": null,
      "outputs": [
        {
          "output_type": "stream",
          "name": "stdout",
          "text": [
            "tensor([[0.6118, 0.4771, 0.8027, 0.7886, 0.0996],\n",
            "        [0.6211, 0.9980, 0.4497, 0.8281, 0.8994],\n",
            "        [0.9014, 0.9219, 0.2764, 0.0703, 0.4790],\n",
            "        [0.1094, 0.4980, 0.7388, 0.1050, 0.7954]], dtype=torch.float16)\n",
            "\n",
            "The shape of the tensor is    'torch.Size([4, 5])'\n",
            "The datatype of thetensor is    'torch.float16'\n",
            "The device on which tensor is   'cpu'\n"
          ]
        }
      ]
    },
    {
      "cell_type": "markdown",
      "source": [
        "##Matrix operations (+ , - , / , multiply but it has two different types)"
      ],
      "metadata": {
        "id": "Ce183okeo7eC"
      }
    },
    {
      "cell_type": "code",
      "source": [
        "tensor= torch.tensor([1,2,3])\n",
        "\n",
        "# addition in tensors\n",
        "tensor + 10 , tensor + tensor\n",
        "# or\n",
        "torch.add(tensor,10)"
      ],
      "metadata": {
        "colab": {
          "base_uri": "https://localhost:8080/"
        },
        "id": "wLu4BxGYpUcx",
        "outputId": "5a6ba762-f803-4b00-df0b-4a79e764cf13"
      },
      "execution_count": null,
      "outputs": [
        {
          "output_type": "execute_result",
          "data": {
            "text/plain": [
              "tensor([11, 12, 13])"
            ]
          },
          "metadata": {},
          "execution_count": 20
        }
      ]
    },
    {
      "cell_type": "code",
      "source": [
        "# subtraction in tensors\n",
        "\n",
        "tensor - 10 , tensor - tensor\n",
        "# or\n",
        "torch.subtract(tensor,10)"
      ],
      "metadata": {
        "colab": {
          "base_uri": "https://localhost:8080/"
        },
        "id": "4EOnFBgup2e5",
        "outputId": "9b233454-530f-4b16-8569-7e9079d0b6da"
      },
      "execution_count": null,
      "outputs": [
        {
          "output_type": "execute_result",
          "data": {
            "text/plain": [
              "tensor([-9, -8, -7])"
            ]
          },
          "metadata": {},
          "execution_count": 21
        }
      ]
    },
    {
      "cell_type": "code",
      "source": [
        "# division in tensor\n",
        "\n",
        "tensor / 2\n",
        "# or\n",
        "torch.div(tensor,2)"
      ],
      "metadata": {
        "colab": {
          "base_uri": "https://localhost:8080/"
        },
        "id": "GQhqZwVWqJD_",
        "outputId": "5f5dbde6-4de8-420e-c59b-2bfb1b79468d"
      },
      "execution_count": null,
      "outputs": [
        {
          "output_type": "execute_result",
          "data": {
            "text/plain": [
              "tensor([0.5000, 1.0000, 1.5000])"
            ]
          },
          "metadata": {},
          "execution_count": 22
        }
      ]
    },
    {
      "cell_type": "markdown",
      "source": [
        "# The two two types of multiplication are :\n",
        "\n",
        "\n",
        "1.   Element wise Multiplication\n",
        "2.   Matrix Multiplication or aka Dot Product\n",
        "\n"
      ],
      "metadata": {
        "id": "M9XFBACXqbmR"
      }
    },
    {
      "cell_type": "code",
      "source": [
        "# element wise multiplication\n",
        "# it'll multiply the scalar int with all every number in matrix/vector\n",
        "\n",
        "element_wise= tensor * 3\n",
        "element_wise\n",
        "# or\n",
        "torch.mul(tensor,3) #imp"
      ],
      "metadata": {
        "colab": {
          "base_uri": "https://localhost:8080/"
        },
        "id": "uXzpZFLxqzaJ",
        "outputId": "5b5d3254-2907-4864-8fe2-f57f11ccd3a8"
      },
      "execution_count": null,
      "outputs": [
        {
          "output_type": "execute_result",
          "data": {
            "text/plain": [
              "tensor([3, 6, 9])"
            ]
          },
          "metadata": {},
          "execution_count": 23
        }
      ]
    },
    {
      "cell_type": "code",
      "source": [
        "# matrix multiplication\n",
        "\n",
        "dot_matrix= torch.matmul(tensor,tensor)\n",
        "dot_matrix\n"
      ],
      "metadata": {
        "colab": {
          "base_uri": "https://localhost:8080/"
        },
        "id": "zwrcbHdgrO7B",
        "outputId": "8f09dcd4-ddbc-40dc-d64a-984d427507a1"
      },
      "execution_count": null,
      "outputs": [
        {
          "output_type": "execute_result",
          "data": {
            "text/plain": [
              "tensor(14)"
            ]
          },
          "metadata": {},
          "execution_count": 24
        }
      ]
    },
    {
      "cell_type": "markdown",
      "source": [
        "## Matrix multiplication has two rules:\n",
        "\n",
        "\n",
        "1.   inner dimension must match i.e (2,3) @ (3,4) not (2,3) @ (4,2)\n",
        "2.   the resulting matrix will have the shape of outer dimension i.e upper shape will be ==> size([4,4])\n",
        "\n"
      ],
      "metadata": {
        "id": "pRKcitDMsqJG"
      }
    },
    {
      "cell_type": "code",
      "source": [
        "# matmul\n",
        "\n",
        "matmult= torch.matmul(torch.rand(4,3) , torch.rand(3,5))\n",
        "\n",
        "matmult , matmult.shape"
      ],
      "metadata": {
        "colab": {
          "base_uri": "https://localhost:8080/"
        },
        "id": "DDtTkPnstdOF",
        "outputId": "ce7c8697-0847-4dfa-991b-274a3b0ce00e"
      },
      "execution_count": null,
      "outputs": [
        {
          "output_type": "execute_result",
          "data": {
            "text/plain": [
              "(tensor([[1.0334, 0.6582, 0.5472, 0.9822, 0.7687],\n",
              "         [0.9256, 0.5136, 0.4132, 0.9243, 0.5592],\n",
              "         [0.7757, 0.7822, 0.7371, 0.5619, 1.3384],\n",
              "         [0.7017, 0.4019, 0.3724, 0.6845, 0.8083]]),\n",
              " torch.Size([4, 5]))"
            ]
          },
          "metadata": {},
          "execution_count": 25
        }
      ]
    },
    {
      "cell_type": "markdown",
      "source": [],
      "metadata": {
        "id": "nmIzRrCigmZp"
      }
    },
    {
      "cell_type": "code",
      "source": [
        "                                                            # TRANSPOSE\n",
        "# FIXING THE INNER DIMENSION OF TENSOR IF NOT RIGHT WITH TRANSPOSE\n",
        "\n",
        "tensor_A = torch.tensor([[1,2,3],\n",
        "                         [4,5,6],\n",
        "                         [7,8,9]])\n",
        "\n",
        "tensor_B= torch.tensor([[10,11,12],\n",
        "                        [13,14,15]])\n",
        "\n",
        "tensor_A.shape , tensor_B.shape # inner dimensions doesnt match (3,3),(2,3) it should be (3,3)\n",
        "\n",
        "print(\"shape of tensor B after transpose \\n\\n\",tensor_B.T.shape)  # transpose of B\n",
        "print(tensor_B.T)\n",
        "\n",
        "torch.matmul( tensor_A , tensor_B.T )\n"
      ],
      "metadata": {
        "colab": {
          "base_uri": "https://localhost:8080/"
        },
        "id": "oIqUkQ89v52b",
        "outputId": "8a12e5f9-aa9b-4b31-c874-75ed4799ed14"
      },
      "execution_count": null,
      "outputs": [
        {
          "output_type": "stream",
          "name": "stdout",
          "text": [
            "shape of tensor B after transpose \n",
            "\n",
            " torch.Size([3, 2])\n",
            "tensor([[10, 13],\n",
            "        [11, 14],\n",
            "        [12, 15]])\n"
          ]
        },
        {
          "output_type": "execute_result",
          "data": {
            "text/plain": [
              "tensor([[ 68,  86],\n",
              "        [167, 212],\n",
              "        [266, 338]])"
            ]
          },
          "metadata": {},
          "execution_count": 26
        }
      ]
    },
    {
      "cell_type": "markdown",
      "source": [
        "##Aggregating tensors `( min ,max, mean , sum, argmin, argmax)`"
      ],
      "metadata": {
        "id": "1oTeh9G1cGYl"
      }
    },
    {
      "cell_type": "code",
      "source": [
        "# min ,max , sum\n",
        "\n",
        "tensor_x= torch.arange(10,100,10)\n",
        "tensor_x\n",
        "\n",
        "# min ,max , sum\n",
        "torch.min(tensor_x) , torch.max(tensor_x) , torch.sum(tensor_x) # prefered\n",
        "# or\n",
        "tensor_x.min() , tensor_x.max() , tensor_x.sum()"
      ],
      "metadata": {
        "colab": {
          "base_uri": "https://localhost:8080/"
        },
        "id": "UqXbNE3ehJrD",
        "outputId": "055d8418-e31d-43cf-f885-ebb00c9d6386"
      },
      "execution_count": null,
      "outputs": [
        {
          "output_type": "execute_result",
          "data": {
            "text/plain": [
              "(tensor(10), tensor(90), tensor(450))"
            ]
          },
          "metadata": {},
          "execution_count": 27
        }
      ]
    },
    {
      "cell_type": "code",
      "source": [
        "# argmin, argmax()\n",
        "\n",
        "torch.argmin(tensor_x) , torch.argmax(tensor_x), tensor_x[0] , tensor_x[8]"
      ],
      "metadata": {
        "colab": {
          "base_uri": "https://localhost:8080/"
        },
        "id": "l1X5eZV3jkB7",
        "outputId": "83483fe2-7ea1-4eed-ef44-68ff83b2aad2"
      },
      "execution_count": null,
      "outputs": [
        {
          "output_type": "execute_result",
          "data": {
            "text/plain": [
              "(tensor(0), tensor(8), tensor(10), tensor(90))"
            ]
          },
          "metadata": {},
          "execution_count": 28
        }
      ]
    },
    {
      "cell_type": "code",
      "source": [
        "# argmin, argmax()\n",
        "\n",
        "matrix_x = torch.tensor([[1, 7],\n",
        "                         [4, 3]])\n",
        "\n",
        "print(\"Argmax:\", torch.argmax(matrix_x))  # Flattened: [1, 7, 4, 3] → max is 7 at index 1\n",
        "print(\"Argmin:\", torch.argmin(matrix_x))  # min is 1 at index 0\n",
        "\n",
        "# print(\"\\nfinding argmin and arg max column_row_wise\\n\")\n",
        "\n",
        "# print(\"Argmax (dim=0):\", torch.argmax(matrix_x, dim=0))  # Compare column-wise\n",
        "# print(\"Argmax (dim=1):\", torch.argmax(matrix_x, dim=1))  # Compare row-wise\n"
      ],
      "metadata": {
        "colab": {
          "base_uri": "https://localhost:8080/"
        },
        "id": "MvqcQF2tlH3h",
        "outputId": "3b154dd4-987d-460b-8e63-cbfdaf663a12"
      },
      "execution_count": null,
      "outputs": [
        {
          "output_type": "stream",
          "name": "stdout",
          "text": [
            "Argmax: tensor(1)\n",
            "Argmin: tensor(0)\n"
          ]
        }
      ]
    },
    {
      "cell_type": "code",
      "source": [
        "# mean\n",
        "# for mean datatype must be chnage to float32 or complexdtype\n",
        "\n",
        "torch.mean( tensor_x.type(torch.float32) ) #prefered\n",
        "# or\n",
        "tensor_x.type(torch.float32).mean()"
      ],
      "metadata": {
        "colab": {
          "base_uri": "https://localhost:8080/"
        },
        "id": "Czlv-LjZhiAb",
        "outputId": "6a83db44-d633-4014-a403-8732aa7e3c91"
      },
      "execution_count": null,
      "outputs": [
        {
          "output_type": "execute_result",
          "data": {
            "text/plain": [
              "tensor(50.)"
            ]
          },
          "metadata": {},
          "execution_count": 30
        }
      ]
    },
    {
      "cell_type": "markdown",
      "source": [
        "##`Reshape` : reshapes the input tensor to a defined shape. adds a dimension `[]` too\n",
        "##`View` : does the same thing`syntax is bit different` as \"reshaping\" but to the original tensor bcz it shares the same memory\n",
        "##`Stacking` : combines multiple tensors on top of eachother, `vstack` or sideby side `hstack`\n",
        "##`Squeeze` : remove all 1 dimension from tensor\n",
        "##`Unsqueeze` : add 1 dimension to the target tensor\n",
        "##`Permute` : returns a view of input with dimension permuted(swapped) in a certain way."
      ],
      "metadata": {
        "id": "A0VNhCqSllmk"
      }
    },
    {
      "cell_type": "code",
      "source": [
        "# reshapiing the tensor\n",
        "\n",
        "tensor_n= torch.arange(1.,10.)\n",
        "print( tensor_n , tensor_n.shape , \"\\n\" )\n",
        "\n",
        "reshape_n = torch.reshape (tensor_n, (1,9))    # bcz resultig matrix will have the shape(no of cols) of outer dimension aka 9 (col) asmentioned\n",
        "#or reshape_n = tensor_n.reshape (1,9)\n",
        "\n",
        "print(reshape_n,\"\\n\")\n",
        "\n",
        "reshape_n1= torch.reshape(tensor_n, (9,1))\n",
        "#or reshape_n1 = tensor_n.reshape (9,1)\n",
        "# print(reshape_n1,\"\\n\")    # bcz resultig matrix will have the shape(no of cols) of outer dimension aka 1 (col) asmentioned\n",
        "\n",
        "reshape_n2 = torch.reshape(tensor_n , (3,3))\n",
        "#or reshape_n2 = tensor_n.reshape (3,3)\n",
        "reshape_n2"
      ],
      "metadata": {
        "colab": {
          "base_uri": "https://localhost:8080/"
        },
        "id": "X7qd645JPAXn",
        "outputId": "f6f41493-7f4a-4881-a280-dfb80c669750"
      },
      "execution_count": null,
      "outputs": [
        {
          "output_type": "stream",
          "name": "stdout",
          "text": [
            "tensor([1., 2., 3., 4., 5., 6., 7., 8., 9.]) torch.Size([9]) \n",
            "\n",
            "tensor([[1., 2., 3., 4., 5., 6., 7., 8., 9.]]) \n",
            "\n"
          ]
        },
        {
          "output_type": "execute_result",
          "data": {
            "text/plain": [
              "tensor([[1., 2., 3.],\n",
              "        [4., 5., 6.],\n",
              "        [7., 8., 9.]])"
            ]
          },
          "metadata": {},
          "execution_count": 31
        }
      ]
    },
    {
      "cell_type": "code",
      "source": [
        "# view(change in the original tensor bcz it shares same memory) the tensor\n",
        "# torch.view wont work, have to used org var name like tensor_k\n",
        "\n",
        "tensor_k= torch.arange(1,30,2)\n",
        "print( tensor_k.shape , tensor_k , \"\\n\" )\n",
        "\n",
        "view_k= tensor_k.view(5,3)\n",
        "view_k\n",
        "# view_k[:,0]=5 just fyi it means all slect all rows of first col and change them to 5\n",
        "\n"
      ],
      "metadata": {
        "colab": {
          "base_uri": "https://localhost:8080/"
        },
        "id": "9ZXC9iABSg-Z",
        "outputId": "45be6773-26a7-4594-a01a-4ef66f75ac8b"
      },
      "execution_count": null,
      "outputs": [
        {
          "output_type": "stream",
          "name": "stdout",
          "text": [
            "torch.Size([15]) tensor([ 1,  3,  5,  7,  9, 11, 13, 15, 17, 19, 21, 23, 25, 27, 29]) \n",
            "\n"
          ]
        },
        {
          "output_type": "execute_result",
          "data": {
            "text/plain": [
              "tensor([[ 1,  3,  5],\n",
              "        [ 7,  9, 11],\n",
              "        [13, 15, 17],\n",
              "        [19, 21, 23],\n",
              "        [25, 27, 29]])"
            ]
          },
          "metadata": {},
          "execution_count": 32
        }
      ]
    },
    {
      "cell_type": "markdown",
      "source": [
        "##combining matrices and vectors\n",
        "###torch.stack , torch.vstack , torch.hstack\n"
      ],
      "metadata": {
        "id": "dnSlW_4nw1wm"
      }
    },
    {
      "cell_type": "code",
      "source": [
        "tensr_1= torch.tensor([[1,2,3],\n",
        "                     [4,5,6]])\n",
        "\n",
        "tensr_2= torch.tensor([[7,8,9],\n",
        "                      [10,11,12]])\n",
        "\n",
        "stack_0 = torch.stack((tensr_1 , tensr_2 ),dim=0) # it'll combine two matrixs row wise and make it 3dim\n",
        "stack_1 =torch.stack((tensr_1 , tensr_2),dim=1) # it'll also combine but first rows of both tensors first in first matrix and second rows in second matrix\n",
        "\n",
        "print(\"stack with dim=0\\n\",stack_0 , stack_0.shape ,\"\\n\")\n",
        "print(\"stack with dim=1\\n\",stack_1 , stack_1.shape ,\"\\n\")"
      ],
      "metadata": {
        "colab": {
          "base_uri": "https://localhost:8080/"
        },
        "id": "A0cXlmfDxGkh",
        "outputId": "ecc95eb7-6a11-4e6b-d1cf-5ae13b9f740d"
      },
      "execution_count": null,
      "outputs": [
        {
          "output_type": "stream",
          "name": "stdout",
          "text": [
            "stack with dim=0\n",
            " tensor([[[ 1,  2,  3],\n",
            "         [ 4,  5,  6]],\n",
            "\n",
            "        [[ 7,  8,  9],\n",
            "         [10, 11, 12]]]) torch.Size([2, 2, 3]) \n",
            "\n",
            "stack with dim=1\n",
            " tensor([[[ 1,  2,  3],\n",
            "         [ 7,  8,  9]],\n",
            "\n",
            "        [[ 4,  5,  6],\n",
            "         [10, 11, 12]]]) torch.Size([2, 2, 3]) \n",
            "\n"
          ]
        }
      ]
    },
    {
      "cell_type": "code",
      "source": [
        "A= torch.tensor([1,2,3])\n",
        "B= torch.tensor([4,5,6])\n",
        "\n",
        "torch.stack((A,B),dim=0) , torch.stack((A,B),dim=1)\n"
      ],
      "metadata": {
        "colab": {
          "base_uri": "https://localhost:8080/"
        },
        "id": "DnQeMqVQ0YHo",
        "outputId": "365aa734-b280-4234-c7c2-8a22236a6a0e"
      },
      "execution_count": null,
      "outputs": [
        {
          "output_type": "execute_result",
          "data": {
            "text/plain": [
              "(tensor([[1, 2, 3],\n",
              "         [4, 5, 6]]),\n",
              " tensor([[1, 4],\n",
              "         [2, 5],\n",
              "         [3, 6]]))"
            ]
          },
          "metadata": {},
          "execution_count": 34
        }
      ]
    },
    {
      "cell_type": "code",
      "source": [
        "# vstack hstack with vectors\n",
        "print( A , B ,\"\\n\")\n",
        "\n",
        "vstack = torch.vstack((A,B,A))\n",
        "hstack = torch.hstack((A,B,A))\n",
        "\n",
        "print(vstack , \"\\n\")\n",
        "print(hstack)\n"
      ],
      "metadata": {
        "colab": {
          "base_uri": "https://localhost:8080/"
        },
        "id": "eqS3o6OL3C0U",
        "outputId": "693189a8-052c-42d4-d886-301cab8d9e8e"
      },
      "execution_count": null,
      "outputs": [
        {
          "output_type": "stream",
          "name": "stdout",
          "text": [
            "tensor([1, 2, 3]) tensor([4, 5, 6]) \n",
            "\n",
            "tensor([[1, 2, 3],\n",
            "        [4, 5, 6],\n",
            "        [1, 2, 3]]) \n",
            "\n",
            "tensor([1, 2, 3, 4, 5, 6, 1, 2, 3])\n"
          ]
        }
      ]
    },
    {
      "cell_type": "code",
      "source": [
        "# vstack hstack with matrix\n",
        "print(tensr_1 , \"\\n\")\n",
        "print(tensr_2, \"\\n\")\n",
        "\n",
        "vstack1 = torch.vstack((tensr_1 , tensr_2))\n",
        "hstack1= torch.hstack((tensr_1 , tensr_2))\n",
        "\n",
        "print(vstack1 , \"\\n\")\n",
        "print(hstack1)"
      ],
      "metadata": {
        "colab": {
          "base_uri": "https://localhost:8080/"
        },
        "id": "VUW_i1rw5EjM",
        "outputId": "ecd67d88-4911-413b-963b-4a9c9d725576"
      },
      "execution_count": null,
      "outputs": [
        {
          "output_type": "stream",
          "name": "stdout",
          "text": [
            "tensor([[1, 2, 3],\n",
            "        [4, 5, 6]]) \n",
            "\n",
            "tensor([[ 7,  8,  9],\n",
            "        [10, 11, 12]]) \n",
            "\n",
            "tensor([[ 1,  2,  3],\n",
            "        [ 4,  5,  6],\n",
            "        [ 7,  8,  9],\n",
            "        [10, 11, 12]]) \n",
            "\n",
            "tensor([[ 1,  2,  3,  7,  8,  9],\n",
            "        [ 4,  5,  6, 10, 11, 12]])\n"
          ]
        }
      ]
    },
    {
      "cell_type": "markdown",
      "source": [
        "##Squeeze & Unsqueeze"
      ],
      "metadata": {
        "id": "6LE0Jhs6z-G_"
      }
    },
    {
      "cell_type": "code",
      "source": [
        "# SQUEEZE removes all dimensions of 1 from tensor\n",
        "\n",
        "before_tens = torch.zeros(2,3,1,3,1)\n",
        "print(\"shape before squeezing \\n\",before_tens.shape,\"\\n\")\n",
        "\n",
        "after_tens= torch.squeeze(before_tens)\n",
        "print(\"shape after squeezing \\n\",after_tens.shape,\"\\n\") # removes all dimensions of 1\n",
        "\n",
        "x = torch.tensor([[[2,2,1,4,1]]])\n",
        "print(\"shape before squeezing \\n\", x.shape,\"\\n\")\n",
        "\n",
        "y = torch.squeeze(x)\n",
        "print(\"shape after squeezing \\n\",y.shape,\"\\n\")\n",
        "\n",
        "\n"
      ],
      "metadata": {
        "colab": {
          "base_uri": "https://localhost:8080/"
        },
        "id": "-0jDxtSS0Jp4",
        "outputId": "4d632563-39bf-4125-bc9e-77fc95a091e9"
      },
      "execution_count": null,
      "outputs": [
        {
          "output_type": "stream",
          "name": "stdout",
          "text": [
            "shape before squeezing \n",
            " torch.Size([2, 3, 1, 3, 1]) \n",
            "\n",
            "shape after squeezing \n",
            " torch.Size([2, 3, 3]) \n",
            "\n",
            "shape before squeezing \n",
            " torch.Size([1, 1, 5]) \n",
            "\n",
            "shape after squeezing \n",
            " torch.Size([5]) \n",
            "\n"
          ]
        }
      ]
    },
    {
      "cell_type": "code",
      "source": [
        "# UNSQUEEZE add dimension to target tensor\n",
        "\n",
        "a = torch.tensor([3,4,5])\n",
        "\n",
        "print(\"tensor a \\n\", a, \"\\n\")\n",
        "print(\"shape before unsqueeze \\n\", a.shape,\"\\n\")\n",
        "\n",
        "b = torch.unsqueeze(a , dim=0)\n",
        "\n",
        "print(\"shape after unsqueeze \\n\",b.shape,\"\\n\")\n",
        "print(\"tenosr b\\n\",b , \"\\n\")\n",
        "\n",
        "c= torch.unsqueeze(a, dim=1)\n",
        "\n",
        "print(\"shape after unsqueeze \\n\",c.shape,\"\\n\")\n",
        "print(\"tenosr b\\n\",c , \"\\n\")\n",
        "\n"
      ],
      "metadata": {
        "colab": {
          "base_uri": "https://localhost:8080/"
        },
        "id": "kZEutAud040D",
        "outputId": "3d0363c1-d99e-415f-fc8c-476692bb315f"
      },
      "execution_count": null,
      "outputs": [
        {
          "output_type": "stream",
          "name": "stdout",
          "text": [
            "tensor a \n",
            " tensor([3, 4, 5]) \n",
            "\n",
            "shape before unsqueeze \n",
            " torch.Size([3]) \n",
            "\n",
            "shape after unsqueeze \n",
            " torch.Size([1, 3]) \n",
            "\n",
            "tenosr b\n",
            " tensor([[3, 4, 5]]) \n",
            "\n",
            "shape after unsqueeze \n",
            " torch.Size([3, 1]) \n",
            "\n",
            "tenosr b\n",
            " tensor([[3],\n",
            "        [4],\n",
            "        [5]]) \n",
            "\n"
          ]
        }
      ]
    },
    {
      "cell_type": "markdown",
      "source": [
        "##Permute\n",
        "torch.permute(input, dims) → Tensor\n",
        "Returns a view of the original tensor input with its dimensions permuted(altered)."
      ],
      "metadata": {
        "id": "2R81H6rJ4_7c"
      }
    },
    {
      "cell_type": "code",
      "source": [
        "# permuting tensor\n",
        "input_tensor = torch.randn(2,3,4)\n",
        "print(\"input_tensor :\\n\",input_tensor)\n",
        "print(\"\\ninput_tensor shape:\\n\",input_tensor.shape)\n",
        "\n",
        "permutated_tensor= torch.permute(input_tensor,(1,2,0))\n",
        "print(\"\\npermutated tensor ith changed dims\\n\", permutated_tensor)\n",
        "print(\"\\npermutated_tensor shape:\\n\",permutated_tensor.shape)\n",
        "\n"
      ],
      "metadata": {
        "colab": {
          "base_uri": "https://localhost:8080/"
        },
        "id": "UiSwjgtT6BKd",
        "outputId": "3e390069-3a70-42a8-9760-c489c465e933"
      },
      "execution_count": null,
      "outputs": [
        {
          "output_type": "stream",
          "name": "stdout",
          "text": [
            "input_tensor :\n",
            " tensor([[[-0.5556, -1.3406,  0.4160, -1.1578],\n",
            "         [-0.9056, -1.7047, -0.5458,  0.4850],\n",
            "         [-0.8609, -0.1345, -0.6326,  0.8173]],\n",
            "\n",
            "        [[-1.5149, -1.5181,  0.2563,  0.9153],\n",
            "         [ 0.4431,  0.2635,  0.4613, -2.4618],\n",
            "         [ 1.1200,  0.9978, -1.7445, -1.0536]]])\n",
            "\n",
            "input_tensor shape:\n",
            " torch.Size([2, 3, 4])\n",
            "\n",
            "permutated tensor ith changed dims\n",
            " tensor([[[-0.5556, -1.5149],\n",
            "         [-1.3406, -1.5181],\n",
            "         [ 0.4160,  0.2563],\n",
            "         [-1.1578,  0.9153]],\n",
            "\n",
            "        [[-0.9056,  0.4431],\n",
            "         [-1.7047,  0.2635],\n",
            "         [-0.5458,  0.4613],\n",
            "         [ 0.4850, -2.4618]],\n",
            "\n",
            "        [[-0.8609,  1.1200],\n",
            "         [-0.1345,  0.9978],\n",
            "         [-0.6326, -1.7445],\n",
            "         [ 0.8173, -1.0536]]])\n",
            "\n",
            "permutated_tensor shape:\n",
            " torch.Size([3, 4, 2])\n"
          ]
        }
      ]
    },
    {
      "cell_type": "code",
      "source": [
        "# permute image tensor\n",
        "\n",
        "org_img = torch.rand(size=(224,224,3)) # height , width , color_channel\n",
        "\n",
        "print(\"\\nshape of org img before permute:\\n\", org_img.shape, \"\\n\")\n",
        "\n",
        "edit_img= torch.permute(org_img, (2,1,0))\n",
        "\n",
        "print(\"shape of org img after permute:\\n\", edit_img.shape, \"\\n\")"
      ],
      "metadata": {
        "colab": {
          "base_uri": "https://localhost:8080/"
        },
        "id": "SpeKZ2rP7_CD",
        "outputId": "74ef471e-2dcd-4d89-8847-197f829f24e7"
      },
      "execution_count": null,
      "outputs": [
        {
          "output_type": "stream",
          "name": "stdout",
          "text": [
            "\n",
            "shape of org img before permute:\n",
            " torch.Size([224, 224, 3]) \n",
            "\n",
            "shape of org img after permute:\n",
            " torch.Size([3, 224, 224]) \n",
            "\n"
          ]
        }
      ]
    }
  ]
}