{
  "nbformat": 4,
  "nbformat_minor": 0,
  "metadata": {
    "colab": {
      "provenance": [],
      "gpuType": "T4",
      "include_colab_link": true
    },
    "kernelspec": {
      "name": "python3",
      "display_name": "Python 3"
    },
    "language_info": {
      "name": "python"
    },
    "accelerator": "GPU"
  },
  "cells": [
    {
      "cell_type": "markdown",
      "metadata": {
        "id": "view-in-github",
        "colab_type": "text"
      },
      "source": [
        "<a href=\"https://colab.research.google.com/github/Nouman-wisal/pytorch/blob/main/00_pytorch_vedio.ipynb\" target=\"_parent\"><img src=\"https://colab.research.google.com/assets/colab-badge.svg\" alt=\"Open In Colab\"/></a>"
      ]
    },
    {
      "cell_type": "code",
      "source": [
        "print(\"hello i'm starting to learn pytorch today 17-may-2025\")"
      ],
      "metadata": {
        "id": "4BL8Y6KfEN5E",
        "colab": {
          "base_uri": "https://localhost:8080/"
        },
        "outputId": "989f32a4-67a6-46a5-c563-650e589288bb"
      },
      "execution_count": null,
      "outputs": [
        {
          "output_type": "stream",
          "name": "stdout",
          "text": [
            "hello i'm starting to learn pytorch today 17-may-2025\n"
          ]
        }
      ]
    },
    {
      "cell_type": "code",
      "source": [
        "import torch\n",
        "import numpy as np\n",
        "import pandas as pd\n",
        "import matplotlib.pyplot as plt\n",
        "print(torch.__version__)"
      ],
      "metadata": {
        "colab": {
          "base_uri": "https://localhost:8080/"
        },
        "id": "NEwQkQWYG1EN",
        "outputId": "0e30ca3a-be88-4fb6-ed85-1f08cfb973c7"
      },
      "execution_count": null,
      "outputs": [
        {
          "output_type": "stream",
          "name": "stdout",
          "text": [
            "2.6.0+cu124\n"
          ]
        }
      ]
    },
    {
      "cell_type": "code",
      "source": [
        "#scalar\n",
        "scalar=torch.tensor(5)\n",
        "scalar\n",
        "# scalar.ndim\n",
        "# scalar.shape\n",
        "# scalar.item() #to convert the tensor/scalar back to python int\n"
      ],
      "metadata": {
        "colab": {
          "base_uri": "https://localhost:8080/"
        },
        "id": "71tBtb9jPtxm",
        "outputId": "50eebc84-9b21-462d-d4a2-d4a2b1ce3cd3"
      },
      "execution_count": null,
      "outputs": [
        {
          "output_type": "execute_result",
          "data": {
            "text/plain": [
              "tensor(5)"
            ]
          },
          "metadata": {},
          "execution_count": 3
        }
      ]
    },
    {
      "cell_type": "code",
      "source": [
        "# Vector\n",
        "\n",
        "vector=torch.tensor([1,2,3],dtype=None, device=None,requires_grad=False)\n",
        "vector\n",
        "vector.ndim\n",
        "# vector.shape"
      ],
      "metadata": {
        "colab": {
          "base_uri": "https://localhost:8080/"
        },
        "id": "4967xaetS41Q",
        "outputId": "2d03f884-bcfb-472b-c959-745a23ae8b4e"
      },
      "execution_count": null,
      "outputs": [
        {
          "output_type": "execute_result",
          "data": {
            "text/plain": [
              "1"
            ]
          },
          "metadata": {},
          "execution_count": 4
        }
      ]
    },
    {
      "cell_type": "code",
      "source": [
        "# MATRIX\n",
        "\n",
        "MATRIX=torch.tensor([[1,2,3],\n",
        "                    [4,5,6]])\n",
        "MATRIX\n",
        "MATRIX.ndim\n",
        "MATRIX.shape"
      ],
      "metadata": {
        "colab": {
          "base_uri": "https://localhost:8080/"
        },
        "id": "CIda_wVDTWez",
        "outputId": "3c1380e6-e56a-4f93-d9b2-5a0f5fa1d96d"
      },
      "execution_count": null,
      "outputs": [
        {
          "output_type": "execute_result",
          "data": {
            "text/plain": [
              "torch.Size([2, 3])"
            ]
          },
          "metadata": {},
          "execution_count": 5
        }
      ]
    },
    {
      "cell_type": "code",
      "source": [
        "#TENSOR1\n",
        "\n",
        "TENSOR=torch.tensor([\n",
        "    [[1,2,3],\n",
        "    [4,5,6]],\n",
        "\n",
        "    [[11,12,13],\n",
        "     [14,15,16]]\n",
        "])\n",
        "\n",
        "TENSOR\n",
        "TENSOR.ndim\n",
        "TENSOR.shape\n",
        "TENSOR[1]"
      ],
      "metadata": {
        "colab": {
          "base_uri": "https://localhost:8080/"
        },
        "id": "pdgpW7hCU7pE",
        "outputId": "642fc331-f457-4f54-ed9f-a8a7c61d372b"
      },
      "execution_count": null,
      "outputs": [
        {
          "output_type": "execute_result",
          "data": {
            "text/plain": [
              "tensor([[11, 12, 13],\n",
              "        [14, 15, 16]])"
            ]
          },
          "metadata": {},
          "execution_count": 6
        }
      ]
    },
    {
      "cell_type": "code",
      "source": [
        "#TENSOR2\n",
        "TENSOR2=torch.tensor([[[78,34,56],\n",
        "                       [32,54,13],\n",
        "                        [98,63,21]]])\n",
        "TENSOR2\n",
        "TENSOR2.ndim\n",
        "TENSOR2.shape\n",
        "TENSOR2[0]"
      ],
      "metadata": {
        "colab": {
          "base_uri": "https://localhost:8080/"
        },
        "id": "fwwKG2EtWJhQ",
        "outputId": "f8a1e94f-d225-45f4-b9b3-6ffbd8372568"
      },
      "execution_count": null,
      "outputs": [
        {
          "output_type": "execute_result",
          "data": {
            "text/plain": [
              "tensor([[78, 34, 56],\n",
              "        [32, 54, 13],\n",
              "        [98, 63, 21]])"
            ]
          },
          "metadata": {},
          "execution_count": 7
        }
      ]
    },
    {
      "cell_type": "markdown",
      "source": [
        "##RANDOM TENSORS\n",
        "why random tensors?\n",
        "\n",
        "the way many neural networks learns is that they start with tensors full of random numbers and then adjust those random numbers to better represent the data\n",
        "\n",
        "`start with random numbers --> look at data --> update random numbers --> look at data --> update random numbers `"
      ],
      "metadata": {
        "id": "uM5_GZ5KWhS_"
      }
    },
    {
      "cell_type": "code",
      "source": [
        "# CREATING RNDOM TENSOR\n",
        "random_tensor=torch.rand(4,4)\n",
        "random_tensor"
      ],
      "metadata": {
        "colab": {
          "base_uri": "https://localhost:8080/"
        },
        "id": "yMZL3ChAfnv6",
        "outputId": "ca5220fb-e8dd-4d7c-87d3-f46d393e7d8a"
      },
      "execution_count": null,
      "outputs": [
        {
          "output_type": "execute_result",
          "data": {
            "text/plain": [
              "tensor([[0.9929, 0.2535, 0.1790, 0.1465],\n",
              "        [0.5386, 0.9760, 0.8070, 0.5371],\n",
              "        [0.2666, 0.1884, 0.8700, 0.6341],\n",
              "        [0.9104, 0.4559, 0.1255, 0.0643]])"
            ]
          },
          "metadata": {},
          "execution_count": 8
        }
      ]
    },
    {
      "cell_type": "code",
      "source": [
        "random_tensor1= torch.rand(3,3,4)\n",
        "random_tensor1\n",
        "random_tensor1.ndim,random_tensor1.shape\n"
      ],
      "metadata": {
        "colab": {
          "base_uri": "https://localhost:8080/"
        },
        "id": "Jyc_wzbpjjAf",
        "outputId": "aa6d06f3-58ea-49f7-c330-90108912bbab"
      },
      "execution_count": null,
      "outputs": [
        {
          "output_type": "execute_result",
          "data": {
            "text/plain": [
              "(3, torch.Size([3, 3, 4]))"
            ]
          },
          "metadata": {},
          "execution_count": 9
        }
      ]
    },
    {
      "cell_type": "markdown",
      "source": [
        "#Creating a random tensor in shape of an image tensor"
      ],
      "metadata": {
        "id": "M9h357QflGbo"
      }
    },
    {
      "cell_type": "code",
      "source": [
        "# random image size tensor\n",
        "\n",
        "rand_image_size_tensor = torch.rand(size=(3,224,224))\n",
        "\n",
        "rand_image_size_tensor.shape,rand_image_size_tensor.ndim\n"
      ],
      "metadata": {
        "colab": {
          "base_uri": "https://localhost:8080/"
        },
        "id": "PXGmAQrnlOxX",
        "outputId": "eda4d087-3d2c-4a3f-fe46-809e8eee4e2b"
      },
      "execution_count": null,
      "outputs": [
        {
          "output_type": "execute_result",
          "data": {
            "text/plain": [
              "(torch.Size([3, 224, 224]), 3)"
            ]
          },
          "metadata": {},
          "execution_count": 10
        }
      ]
    },
    {
      "cell_type": "code",
      "source": [
        "# creating tensor with zeros\n",
        "zeros_tensor= torch.zeros(4,4)\n",
        "\n",
        "zeros_tensor.dtype,zeros_tensor\n",
        "\n",
        "zeros_tensor * random_tensor\n"
      ],
      "metadata": {
        "colab": {
          "base_uri": "https://localhost:8080/"
        },
        "id": "jqiFWYYB40zv",
        "outputId": "a4d7de61-8056-4f44-b047-16ae8ee344eb"
      },
      "execution_count": null,
      "outputs": [
        {
          "output_type": "execute_result",
          "data": {
            "text/plain": [
              "tensor([[0., 0., 0., 0.],\n",
              "        [0., 0., 0., 0.],\n",
              "        [0., 0., 0., 0.],\n",
              "        [0., 0., 0., 0.]])"
            ]
          },
          "metadata": {},
          "execution_count": 11
        }
      ]
    },
    {
      "cell_type": "code",
      "source": [
        "# creating tensors with ones\n",
        "ones_tensor=torch.ones(2,2)\n",
        "\n",
        "ones_tensor, ones_tensor.dtype"
      ],
      "metadata": {
        "colab": {
          "base_uri": "https://localhost:8080/"
        },
        "id": "Ruj8Wi1mb5lu",
        "outputId": "c8b0b710-98dd-4170-f578-bb8d94191cf7"
      },
      "execution_count": null,
      "outputs": [
        {
          "output_type": "execute_result",
          "data": {
            "text/plain": [
              "(tensor([[1., 1.],\n",
              "         [1., 1.]]),\n",
              " torch.float32)"
            ]
          },
          "metadata": {},
          "execution_count": 12
        }
      ]
    },
    {
      "cell_type": "markdown",
      "source": [
        "#Creating arange tensor"
      ],
      "metadata": {
        "id": "0ZfDeJp6cNKl"
      }
    },
    {
      "cell_type": "code",
      "source": [
        "arange_tensor= torch.arange(0,10,2)\n",
        "\n",
        "arange_tensor , arange_tensor.dtype,arange_tensor.ndim\n"
      ],
      "metadata": {
        "colab": {
          "base_uri": "https://localhost:8080/"
        },
        "id": "O_KK0385dW_E",
        "outputId": "5871ba73-d76e-4b65-b33b-b1d6db1e92c5"
      },
      "execution_count": null,
      "outputs": [
        {
          "output_type": "execute_result",
          "data": {
            "text/plain": [
              "(tensor([0, 2, 4, 6, 8]), torch.int64, 1)"
            ]
          },
          "metadata": {},
          "execution_count": 13
        }
      ]
    },
    {
      "cell_type": "code",
      "source": [
        "# creating tensors like. meaning in the shape of any tensor given as input\n",
        "\n",
        "zeros_like= torch.zeros_like(input= arange_tensor) #imp\n",
        "zeros_like\n",
        "\n",
        "# ones_like=torch.ones_like(input=arange_tensor)\n",
        "# ones_like\n",
        "\n",
        "# random_like=torch.rand_like(input=arange_tensor , dtype=torch.float32)\n",
        "# random_like"
      ],
      "metadata": {
        "colab": {
          "base_uri": "https://localhost:8080/"
        },
        "id": "LYJQ7P9vgZUN",
        "outputId": "28c837a0-85da-4e41-80b0-b60409a276e7"
      },
      "execution_count": null,
      "outputs": [
        {
          "output_type": "execute_result",
          "data": {
            "text/plain": [
              "tensor([0, 0, 0, 0, 0])"
            ]
          },
          "metadata": {},
          "execution_count": 14
        }
      ]
    },
    {
      "cell_type": "markdown",
      "source": [
        "#Tensors data types\n",
        "tensor datatypes is one of the 3 big errors you will run into in macine learning and deep learning\n",
        "1. Tensor not right datatype\n",
        "2. Tensor not right shape\n",
        "3.Tensor not right device\n"
      ],
      "metadata": {
        "id": "zjJbWzHfjnQj"
      }
    },
    {
      "cell_type": "code",
      "source": [
        "float32_tensor= torch.tensor([3.0,6.0,9.0], dtype=None,                        # what is the datatype of your tensor \"float16\" or \"float32\"\n",
        "                                               device=None,                             # what device is your tensor on \"cpu\" or \"GPU\"\n",
        "                                               requires_grad=False)                     # whether or not to trace gradient with tensors operations\n",
        "float32_tensor.dtype"
      ],
      "metadata": {
        "colab": {
          "base_uri": "https://localhost:8080/"
        },
        "id": "V5aEdqkrl0pc",
        "outputId": "cfb7270c-ccb7-4686-fdb1-86fb01775140"
      },
      "execution_count": null,
      "outputs": [
        {
          "output_type": "execute_result",
          "data": {
            "text/plain": [
              "torch.float32"
            ]
          },
          "metadata": {},
          "execution_count": 15
        }
      ]
    },
    {
      "cell_type": "code",
      "source": [
        "# converting data type of tensors\n",
        "# from float32 (default/single precision) to torch.float16 /half precision\n",
        "\n",
        "float16_tensor= float32_tensor.type(torch.float16) #imp\n",
        "float16_tensor"
      ],
      "metadata": {
        "colab": {
          "base_uri": "https://localhost:8080/"
        },
        "id": "1BbRC3QgpE7w",
        "outputId": "1a6a417e-8a78-4766-bc48-e9d33eb446b4"
      },
      "execution_count": null,
      "outputs": [
        {
          "output_type": "execute_result",
          "data": {
            "text/plain": [
              "tensor([3., 6., 9.], dtype=torch.float16)"
            ]
          },
          "metadata": {},
          "execution_count": 16
        }
      ]
    },
    {
      "cell_type": "code",
      "source": [
        "check=float32_tensor * float16_tensor\n",
        "\n",
        "check , check.dtype"
      ],
      "metadata": {
        "colab": {
          "base_uri": "https://localhost:8080/"
        },
        "id": "rhJE4cN_qK65",
        "outputId": "5fb747e4-4e24-4353-a71b-91a75be58b9d"
      },
      "execution_count": null,
      "outputs": [
        {
          "output_type": "execute_result",
          "data": {
            "text/plain": [
              "(tensor([ 9., 36., 81.]), torch.float32)"
            ]
          },
          "metadata": {},
          "execution_count": 17
        }
      ]
    },
    {
      "cell_type": "code",
      "source": [
        "int32_tensor= torch.tensor([2,4,6],dtype=torch.int64)\n",
        "\n",
        "check1 = float32_tensor * int32_tensor\n",
        "check1 , check1.dtype"
      ],
      "metadata": {
        "colab": {
          "base_uri": "https://localhost:8080/"
        },
        "id": "VCVLvu2xC5vq",
        "outputId": "2acc9ef6-c49a-43c4-9c03-cc871f24d179"
      },
      "execution_count": null,
      "outputs": [
        {
          "output_type": "execute_result",
          "data": {
            "text/plain": [
              "(tensor([ 6., 24., 54.]), torch.float32)"
            ]
          },
          "metadata": {},
          "execution_count": 18
        }
      ]
    },
    {
      "cell_type": "markdown",
      "source": [
        "###Getting information from tensor (Tensor Attribute)\n",
        "\n",
        "\n",
        "1.   Tensor not right data type , to get datatype of tensor `torch.dtype`\n",
        "2.   Tensor not right shape , to get shape of tensor `torch.shape` or `torch.size()`  \n",
        "\n",
        "1.   Tensor not on right device , to get device of tensor `torch.device`\n",
        "\n",
        "\n",
        "\n",
        "\n",
        "\n"
      ],
      "metadata": {
        "id": "1w15XSBJEqNW"
      }
    },
    {
      "cell_type": "code",
      "source": [
        "# creating random tensor with all attributes\n",
        "\n",
        "Tensor_attributes= torch.rand(4,5,dtype=torch.float16, device=torch.device(\"cpu\"), requires_grad=False)\n",
        "\n",
        "print(Tensor_attributes)\n",
        "print(f\"\\nThe shape of the tensor is    '{Tensor_attributes.shape}'\")\n",
        "print(f\"The datatype of thetensor is    '{Tensor_attributes.dtype}'\")\n",
        "print(f\"The device on which tensor is   '{Tensor_attributes.device}'\")"
      ],
      "metadata": {
        "colab": {
          "base_uri": "https://localhost:8080/"
        },
        "id": "Wvb1hphZGbAN",
        "outputId": "86771ad0-2ed8-4462-9bfc-8b26c49f58e4"
      },
      "execution_count": null,
      "outputs": [
        {
          "output_type": "stream",
          "name": "stdout",
          "text": [
            "tensor([[0.8540, 0.3374, 0.2393, 0.3770, 0.6968],\n",
            "        [0.8232, 0.1045, 0.4463, 0.6562, 0.2959],\n",
            "        [0.0469, 0.6548, 0.9282, 0.1978, 0.7539],\n",
            "        [0.5259, 0.8672, 0.6006, 0.5317, 0.5693]], dtype=torch.float16)\n",
            "\n",
            "The shape of the tensor is    'torch.Size([4, 5])'\n",
            "The datatype of thetensor is    'torch.float16'\n",
            "The device on which tensor is   'cpu'\n"
          ]
        }
      ]
    },
    {
      "cell_type": "markdown",
      "source": [
        "##Matrix operations (+ , - , / , multiply but it has two different types)"
      ],
      "metadata": {
        "id": "Ce183okeo7eC"
      }
    },
    {
      "cell_type": "code",
      "source": [
        "tensor= torch.tensor([1,2,3])\n",
        "\n",
        "# addition in tensors\n",
        "tensor + 10 , tensor + tensor\n",
        "# or\n",
        "torch.add(tensor,10)"
      ],
      "metadata": {
        "colab": {
          "base_uri": "https://localhost:8080/"
        },
        "id": "wLu4BxGYpUcx",
        "outputId": "44c64ac8-8fe4-4774-960e-6e8d9a66a296"
      },
      "execution_count": null,
      "outputs": [
        {
          "output_type": "execute_result",
          "data": {
            "text/plain": [
              "tensor([11, 12, 13])"
            ]
          },
          "metadata": {},
          "execution_count": 20
        }
      ]
    },
    {
      "cell_type": "code",
      "source": [
        "# subtraction in tensors\n",
        "\n",
        "tensor - 10 , tensor - tensor\n",
        "# or\n",
        "torch.subtract(tensor,10)"
      ],
      "metadata": {
        "colab": {
          "base_uri": "https://localhost:8080/"
        },
        "id": "4EOnFBgup2e5",
        "outputId": "cd5fb9cb-f5c0-421c-fc1a-6e5e3a1e3cac"
      },
      "execution_count": null,
      "outputs": [
        {
          "output_type": "execute_result",
          "data": {
            "text/plain": [
              "tensor([-9, -8, -7])"
            ]
          },
          "metadata": {},
          "execution_count": 21
        }
      ]
    },
    {
      "cell_type": "code",
      "source": [
        "# division in tensor\n",
        "\n",
        "tensor / 2\n",
        "# or\n",
        "torch.div(tensor,2)"
      ],
      "metadata": {
        "colab": {
          "base_uri": "https://localhost:8080/"
        },
        "id": "GQhqZwVWqJD_",
        "outputId": "304a7607-9407-44c4-8d37-ae8a719297fc"
      },
      "execution_count": null,
      "outputs": [
        {
          "output_type": "execute_result",
          "data": {
            "text/plain": [
              "tensor([0.5000, 1.0000, 1.5000])"
            ]
          },
          "metadata": {},
          "execution_count": 22
        }
      ]
    },
    {
      "cell_type": "markdown",
      "source": [
        "# The two two types of multiplication are :\n",
        "\n",
        "\n",
        "1.   Element wise Multiplication\n",
        "2.   Matrix Multiplication or aka Dot Product\n",
        "\n"
      ],
      "metadata": {
        "id": "M9XFBACXqbmR"
      }
    },
    {
      "cell_type": "code",
      "source": [
        "# element wise multiplication\n",
        "# it'll multiply the scalar int with all every number in matrix/vector\n",
        "\n",
        "element_wise= tensor * 3\n",
        "element_wise\n",
        "# or\n",
        "torch.mul(tensor,3) #imp"
      ],
      "metadata": {
        "colab": {
          "base_uri": "https://localhost:8080/"
        },
        "id": "uXzpZFLxqzaJ",
        "outputId": "56a8e07e-9159-4572-a175-e131ed34f381"
      },
      "execution_count": null,
      "outputs": [
        {
          "output_type": "execute_result",
          "data": {
            "text/plain": [
              "tensor([3, 6, 9])"
            ]
          },
          "metadata": {},
          "execution_count": 23
        }
      ]
    },
    {
      "cell_type": "code",
      "source": [
        "# matrix multiplication\n",
        "\n",
        "dot_matrix= torch.matmul(tensor,tensor)\n",
        "dot_matrix\n"
      ],
      "metadata": {
        "colab": {
          "base_uri": "https://localhost:8080/"
        },
        "id": "zwrcbHdgrO7B",
        "outputId": "0d2d6dab-530e-4bdc-e15e-4116478bdee5"
      },
      "execution_count": null,
      "outputs": [
        {
          "output_type": "execute_result",
          "data": {
            "text/plain": [
              "tensor(14)"
            ]
          },
          "metadata": {},
          "execution_count": 24
        }
      ]
    },
    {
      "cell_type": "markdown",
      "source": [
        "## Matrix multiplication has two rules:\n",
        "\n",
        "\n",
        "1.   inner dimension must match i.e (2,3) @ (3,4) not (2,3) @ (4,2)\n",
        "2.   the resulting matrix will have the shape of outer dimension i.e upper shape will be ==> size([4,4])\n",
        "\n"
      ],
      "metadata": {
        "id": "pRKcitDMsqJG"
      }
    },
    {
      "cell_type": "code",
      "source": [
        "# matmul\n",
        "\n",
        "matmult= torch.matmul(torch.rand(4,3) , torch.rand(3,5))\n",
        "\n",
        "matmult , matmult.shape"
      ],
      "metadata": {
        "colab": {
          "base_uri": "https://localhost:8080/"
        },
        "id": "DDtTkPnstdOF",
        "outputId": "dad6a17b-77a2-4bd0-8446-3eef9c67be68"
      },
      "execution_count": null,
      "outputs": [
        {
          "output_type": "execute_result",
          "data": {
            "text/plain": [
              "(tensor([[0.4560, 0.7714, 0.4922, 0.7963, 0.6943],\n",
              "         [0.5841, 0.5430, 0.1661, 1.0388, 0.4711],\n",
              "         [1.0087, 1.3989, 0.7298, 1.8175, 1.2485],\n",
              "         [0.6651, 0.7671, 0.2173, 1.3202, 0.6821]]),\n",
              " torch.Size([4, 5]))"
            ]
          },
          "metadata": {},
          "execution_count": 25
        }
      ]
    },
    {
      "cell_type": "markdown",
      "source": [],
      "metadata": {
        "id": "nmIzRrCigmZp"
      }
    },
    {
      "cell_type": "code",
      "source": [
        "                                                            # TRANSPOSE\n",
        "# FIXING THE INNER DIMENSION OF TENSOR IF NOT RIGHT WITH TRANSPOSE\n",
        "\n",
        "tensor_A = torch.tensor([[1,2,3],\n",
        "                         [4,5,6],\n",
        "                         [7,8,9]])\n",
        "\n",
        "tensor_B= torch.tensor([[10,11,12],\n",
        "                        [13,14,15]])\n",
        "\n",
        "tensor_A.shape , tensor_B.shape # inner dimensions doesnt match (3,3),(2,3) it should be (3,3)\n",
        "\n",
        "print(\"shape of tensor B after transpose \\n\\n\",tensor_B.T.shape)  # transpose of B\n",
        "print(tensor_B.T)\n",
        "\n",
        "torch.matmul( tensor_A , tensor_B.T )\n"
      ],
      "metadata": {
        "colab": {
          "base_uri": "https://localhost:8080/"
        },
        "id": "oIqUkQ89v52b",
        "outputId": "33f640c9-b44d-4b8e-bb13-7481da832816"
      },
      "execution_count": null,
      "outputs": [
        {
          "output_type": "stream",
          "name": "stdout",
          "text": [
            "shape of tensor B after transpose \n",
            "\n",
            " torch.Size([3, 2])\n",
            "tensor([[10, 13],\n",
            "        [11, 14],\n",
            "        [12, 15]])\n"
          ]
        },
        {
          "output_type": "execute_result",
          "data": {
            "text/plain": [
              "tensor([[ 68,  86],\n",
              "        [167, 212],\n",
              "        [266, 338]])"
            ]
          },
          "metadata": {},
          "execution_count": 26
        }
      ]
    },
    {
      "cell_type": "markdown",
      "source": [
        "##Aggregating tensors `( min ,max, mean , sum, argmin, argmax)`"
      ],
      "metadata": {
        "id": "1oTeh9G1cGYl"
      }
    },
    {
      "cell_type": "code",
      "source": [
        "# min ,max , sum\n",
        "\n",
        "tensor_x= torch.arange(10,100,10)\n",
        "tensor_x\n",
        "\n",
        "# min ,max , sum\n",
        "torch.min(tensor_x) , torch.max(tensor_x) , torch.sum(tensor_x) # prefered\n",
        "# or\n",
        "tensor_x.min() , tensor_x.max() , tensor_x.sum()"
      ],
      "metadata": {
        "colab": {
          "base_uri": "https://localhost:8080/"
        },
        "id": "UqXbNE3ehJrD",
        "outputId": "8caa668f-d882-4984-ff3b-b4a20d48592d"
      },
      "execution_count": null,
      "outputs": [
        {
          "output_type": "execute_result",
          "data": {
            "text/plain": [
              "(tensor(10), tensor(90), tensor(450))"
            ]
          },
          "metadata": {},
          "execution_count": 27
        }
      ]
    },
    {
      "cell_type": "code",
      "source": [
        "# argmin, argmax()\n",
        "\n",
        "torch.argmin(tensor_x) , torch.argmax(tensor_x), tensor_x[0] , tensor_x[8]"
      ],
      "metadata": {
        "colab": {
          "base_uri": "https://localhost:8080/"
        },
        "id": "l1X5eZV3jkB7",
        "outputId": "5707f29a-6333-4524-c1af-8e6bb8ff48a7"
      },
      "execution_count": null,
      "outputs": [
        {
          "output_type": "execute_result",
          "data": {
            "text/plain": [
              "(tensor(0), tensor(8), tensor(10), tensor(90))"
            ]
          },
          "metadata": {},
          "execution_count": 28
        }
      ]
    },
    {
      "cell_type": "code",
      "source": [
        "# argmin, argmax()\n",
        "\n",
        "matrix_x = torch.tensor([[1, 7],\n",
        "                         [4, 3]])\n",
        "\n",
        "print(\"Argmax:\", torch.argmax(matrix_x))  # Flattened: [1, 7, 4, 3] → max is 7 at index 1\n",
        "print(\"Argmin:\", torch.argmin(matrix_x))  # min is 1 at index 0\n",
        "\n",
        "# print(\"\\nfinding argmin and arg max column_row_wise\\n\")\n",
        "\n",
        "# print(\"Argmax (dim=0):\", torch.argmax(matrix_x, dim=0))  # Compare column-wise\n",
        "# print(\"Argmax (dim=1):\", torch.argmax(matrix_x, dim=1))  # Compare row-wise\n"
      ],
      "metadata": {
        "colab": {
          "base_uri": "https://localhost:8080/"
        },
        "id": "MvqcQF2tlH3h",
        "outputId": "7e0248b0-163a-4c7e-d287-4deab4012d82"
      },
      "execution_count": null,
      "outputs": [
        {
          "output_type": "stream",
          "name": "stdout",
          "text": [
            "Argmax: tensor(1)\n",
            "Argmin: tensor(0)\n"
          ]
        }
      ]
    },
    {
      "cell_type": "code",
      "source": [
        "# mean\n",
        "# for mean datatype must be chnage to float32 or complexdtype\n",
        "\n",
        "torch.mean( tensor_x.type(torch.float32) ) #prefered\n",
        "# or\n",
        "tensor_x.type(torch.float32).mean()"
      ],
      "metadata": {
        "colab": {
          "base_uri": "https://localhost:8080/"
        },
        "id": "Czlv-LjZhiAb",
        "outputId": "5b3627cd-65ec-4e21-c48e-cf25e0d02ae6"
      },
      "execution_count": null,
      "outputs": [
        {
          "output_type": "execute_result",
          "data": {
            "text/plain": [
              "tensor(50.)"
            ]
          },
          "metadata": {},
          "execution_count": 30
        }
      ]
    },
    {
      "cell_type": "markdown",
      "source": [
        "##`Reshape` : reshapes the input tensor to a defined shape. adds a dimension `[]` too\n",
        "##`View` : does the same thing`syntax is bit different` as \"reshaping\" but to the original tensor bcz it shares the same memory\n",
        "##`Stacking` : combines multiple tensors on top of eachother, `vstack` or sideby side `hstack`\n",
        "##`Squeeze` : remove all 1 dimension from tensor\n",
        "##`Unsqueeze` : add 1 dimension to the target tensor\n",
        "##`Permute` : returns a view of input with dimension permuted(swapped) in a certain way."
      ],
      "metadata": {
        "id": "A0VNhCqSllmk"
      }
    },
    {
      "cell_type": "code",
      "source": [
        "# reshapiing the tensor\n",
        "\n",
        "tensor_n= torch.arange(1.,10.)\n",
        "print( tensor_n , tensor_n.shape , \"\\n\" )\n",
        "\n",
        "reshape_n = torch.reshape (tensor_n, (1,9))    # bcz resultig matrix will have the shape(no of cols) of outer dimension aka 9 (col) asmentioned\n",
        "#or reshape_n = tensor_n.reshape (1,9)\n",
        "print(reshape_n,\"\\n\")\n",
        "\n",
        "reshape_n1= torch.reshape(tensor_n, (9,1)) # not printing bcz it's long\n",
        "#or reshape_n1 = tensor_n.reshape (9,1)\n",
        "# print(reshape_n1,\"\\n\")    # bcz resultig matrix will have the shape(no of cols) of outer dimension aka 1 (col) asmentioned\n",
        "\n",
        "reshape_n2 = torch.reshape(tensor_n , (3,3))\n",
        "#or reshape_n2 = tensor_n.reshape (3,3)\n",
        "reshape_n2"
      ],
      "metadata": {
        "colab": {
          "base_uri": "https://localhost:8080/"
        },
        "id": "X7qd645JPAXn",
        "outputId": "7e1580d3-1539-4a84-ba0b-473bcddb57ab"
      },
      "execution_count": null,
      "outputs": [
        {
          "output_type": "stream",
          "name": "stdout",
          "text": [
            "tensor([1., 2., 3., 4., 5., 6., 7., 8., 9.]) torch.Size([9]) \n",
            "\n",
            "tensor([[1., 2., 3., 4., 5., 6., 7., 8., 9.]]) \n",
            "\n"
          ]
        },
        {
          "output_type": "execute_result",
          "data": {
            "text/plain": [
              "tensor([[1., 2., 3.],\n",
              "        [4., 5., 6.],\n",
              "        [7., 8., 9.]])"
            ]
          },
          "metadata": {},
          "execution_count": 31
        }
      ]
    },
    {
      "cell_type": "code",
      "source": [
        "# view(change in the original tensor bcz it shares same memory) the tensor\n",
        "# torch.view wont work, have to used org var name like tensor_k\n",
        "\n",
        "tensor_k= torch.arange(1,30,2)\n",
        "print( tensor_k.shape , tensor_k , \"\\n\" )\n",
        "\n",
        "view_k= tensor_k.view(5,3)\n",
        "view_k\n",
        "# view_k[:,0]=5 just fyi it means all slect all rows of first col and change them to 5\n",
        "\n"
      ],
      "metadata": {
        "colab": {
          "base_uri": "https://localhost:8080/"
        },
        "id": "9ZXC9iABSg-Z",
        "outputId": "95de705d-68e2-46f9-9231-fae13bb3bc50"
      },
      "execution_count": null,
      "outputs": [
        {
          "output_type": "stream",
          "name": "stdout",
          "text": [
            "torch.Size([15]) tensor([ 1,  3,  5,  7,  9, 11, 13, 15, 17, 19, 21, 23, 25, 27, 29]) \n",
            "\n"
          ]
        },
        {
          "output_type": "execute_result",
          "data": {
            "text/plain": [
              "tensor([[ 1,  3,  5],\n",
              "        [ 7,  9, 11],\n",
              "        [13, 15, 17],\n",
              "        [19, 21, 23],\n",
              "        [25, 27, 29]])"
            ]
          },
          "metadata": {},
          "execution_count": 32
        }
      ]
    },
    {
      "cell_type": "markdown",
      "source": [
        "##combining matrices and vectors\n",
        "###torch.stack , torch.vstack , torch.hstack\n"
      ],
      "metadata": {
        "id": "dnSlW_4nw1wm"
      }
    },
    {
      "cell_type": "code",
      "source": [
        "tensr_1= torch.tensor([[1,2,3],\n",
        "                     [4,5,6]])\n",
        "\n",
        "tensr_2= torch.tensor([[7,8,9],\n",
        "                      [10,11,12]])\n",
        "\n",
        "stack_0 = torch.stack((tensr_1 , tensr_2 ),dim=0) # it'll combine two matrixs row wise and in 3dim unlike v&hatack\n",
        "stack_1 =torch.stack((tensr_1 , tensr_2),dim=1) # it'll also combine but first rows of both tensors first in first matrix and second rows in second matrix\n",
        "\n",
        "print(\"stack with dim=0\\n\",stack_0 , stack_0.shape ,\"\\n\")\n",
        "print(\"stack with dim=1\\n\",stack_1 , stack_1.shape ,\"\\n\")"
      ],
      "metadata": {
        "colab": {
          "base_uri": "https://localhost:8080/"
        },
        "id": "A0cXlmfDxGkh",
        "outputId": "326ae717-d661-487b-b2ba-e52bc0866def"
      },
      "execution_count": null,
      "outputs": [
        {
          "output_type": "stream",
          "name": "stdout",
          "text": [
            "stack with dim=0\n",
            " tensor([[[ 1,  2,  3],\n",
            "         [ 4,  5,  6]],\n",
            "\n",
            "        [[ 7,  8,  9],\n",
            "         [10, 11, 12]]]) torch.Size([2, 2, 3]) \n",
            "\n",
            "stack with dim=1\n",
            " tensor([[[ 1,  2,  3],\n",
            "         [ 7,  8,  9]],\n",
            "\n",
            "        [[ 4,  5,  6],\n",
            "         [10, 11, 12]]]) torch.Size([2, 2, 3]) \n",
            "\n"
          ]
        }
      ]
    },
    {
      "cell_type": "code",
      "source": [
        "A= torch.tensor([1,2,3])\n",
        "B= torch.tensor([4,5,6])\n",
        "\n",
        "torch.stack((A,B),dim=0) , torch.stack((A,B),dim=1)\n"
      ],
      "metadata": {
        "colab": {
          "base_uri": "https://localhost:8080/"
        },
        "id": "DnQeMqVQ0YHo",
        "outputId": "800d543a-48d3-40a2-d0e3-4f79177297d2"
      },
      "execution_count": null,
      "outputs": [
        {
          "output_type": "execute_result",
          "data": {
            "text/plain": [
              "(tensor([[1, 2, 3],\n",
              "         [4, 5, 6]]),\n",
              " tensor([[1, 4],\n",
              "         [2, 5],\n",
              "         [3, 6]]))"
            ]
          },
          "metadata": {},
          "execution_count": 34
        }
      ]
    },
    {
      "cell_type": "code",
      "source": [
        "# vstack hstack with vectors\n",
        "print( A , B ,\"\\n\")\n",
        "\n",
        "vstack = torch.vstack((A,B,A))\n",
        "hstack = torch.hstack((A,B,A))\n",
        "\n",
        "print(vstack , \"\\n\")\n",
        "print(hstack)\n"
      ],
      "metadata": {
        "colab": {
          "base_uri": "https://localhost:8080/"
        },
        "id": "eqS3o6OL3C0U",
        "outputId": "ae48fe39-aeba-464a-8dd0-3d2c20a18226"
      },
      "execution_count": null,
      "outputs": [
        {
          "output_type": "stream",
          "name": "stdout",
          "text": [
            "tensor([1, 2, 3]) tensor([4, 5, 6]) \n",
            "\n",
            "tensor([[1, 2, 3],\n",
            "        [4, 5, 6],\n",
            "        [1, 2, 3]]) \n",
            "\n",
            "tensor([1, 2, 3, 4, 5, 6, 1, 2, 3])\n"
          ]
        }
      ]
    },
    {
      "cell_type": "code",
      "source": [
        "# vstack hstack with matrix , they wont create 3rd dim unlike stack with dim=0or1 instead it'll make it one matrix\n",
        "print(tensr_1 , \"\\n\")\n",
        "print(tensr_2, \"\\n\")\n",
        "\n",
        "vstack1 = torch.vstack((tensr_1 , tensr_2))\n",
        "hstack1= torch.hstack((tensr_1 , tensr_2))\n",
        "\n",
        "print(vstack1 , \"\\n\")\n",
        "print(hstack1)"
      ],
      "metadata": {
        "colab": {
          "base_uri": "https://localhost:8080/"
        },
        "id": "VUW_i1rw5EjM",
        "outputId": "148e3114-9d51-4e9a-bec8-e9cbcb1e8336"
      },
      "execution_count": null,
      "outputs": [
        {
          "output_type": "stream",
          "name": "stdout",
          "text": [
            "tensor([[1, 2, 3],\n",
            "        [4, 5, 6]]) \n",
            "\n",
            "tensor([[ 7,  8,  9],\n",
            "        [10, 11, 12]]) \n",
            "\n",
            "tensor([[ 1,  2,  3],\n",
            "        [ 4,  5,  6],\n",
            "        [ 7,  8,  9],\n",
            "        [10, 11, 12]]) \n",
            "\n",
            "tensor([[ 1,  2,  3,  7,  8,  9],\n",
            "        [ 4,  5,  6, 10, 11, 12]])\n"
          ]
        }
      ]
    },
    {
      "cell_type": "markdown",
      "source": [
        "##Squeeze & Unsqueeze"
      ],
      "metadata": {
        "id": "6LE0Jhs6z-G_"
      }
    },
    {
      "cell_type": "code",
      "source": [
        "# SQUEEZE removes all dimensions of 1 from tensor\n",
        "\n",
        "before_tens = torch.zeros(2,3,1,3,1)\n",
        "print(\"shape before squeezing \\n\",before_tens.shape,\"\\n\")\n",
        "\n",
        "after_tens= torch.squeeze(before_tens)\n",
        "print(\"shape after squeezing \\n\",after_tens.shape,\"\\n\") # removes all dimensions of 1\n",
        "\n",
        "x = torch.tensor([[[2,2,1,4,1]]])\n",
        "print(\"shape before squeezing \\n\", x.shape,\"\\n\")\n",
        "\n",
        "y = torch.squeeze(x)\n",
        "print(\"shape after squeezing \\n\",y.shape,\"\\n\")\n",
        "\n",
        "\n"
      ],
      "metadata": {
        "colab": {
          "base_uri": "https://localhost:8080/"
        },
        "id": "-0jDxtSS0Jp4",
        "outputId": "118d1fab-9e22-49b0-9752-a5486a09313c"
      },
      "execution_count": null,
      "outputs": [
        {
          "output_type": "stream",
          "name": "stdout",
          "text": [
            "shape before squeezing \n",
            " torch.Size([2, 3, 1, 3, 1]) \n",
            "\n",
            "shape after squeezing \n",
            " torch.Size([2, 3, 3]) \n",
            "\n",
            "shape before squeezing \n",
            " torch.Size([1, 1, 5]) \n",
            "\n",
            "shape after squeezing \n",
            " torch.Size([5]) \n",
            "\n"
          ]
        }
      ]
    },
    {
      "cell_type": "code",
      "source": [
        "# UNSQUEEZE add dimension to target tensor\n",
        "\n",
        "a = torch.tensor([3,4,5])\n",
        "\n",
        "print(\"tensor a \\n\", a, \"\\n\")\n",
        "print(\"shape before unsqueeze \\n\", a.shape,\"\\n\")\n",
        "\n",
        "b = torch.unsqueeze(a , dim=0)\n",
        "\n",
        "print(\"shape after unsqueeze \\n\",b.shape,\"\\n\")\n",
        "print(\"tenosr b\\n\",b , \"\\n\")\n",
        "\n",
        "c= torch.unsqueeze(a, dim=1)\n",
        "\n",
        "print(\"shape after unsqueeze \\n\",c.shape,\"\\n\")\n",
        "print(\"tenosr b\\n\",c , \"\\n\")\n",
        "\n"
      ],
      "metadata": {
        "colab": {
          "base_uri": "https://localhost:8080/"
        },
        "id": "kZEutAud040D",
        "outputId": "c9692db9-0628-4d60-f308-ea10e6951f34"
      },
      "execution_count": null,
      "outputs": [
        {
          "output_type": "stream",
          "name": "stdout",
          "text": [
            "tensor a \n",
            " tensor([3, 4, 5]) \n",
            "\n",
            "shape before unsqueeze \n",
            " torch.Size([3]) \n",
            "\n",
            "shape after unsqueeze \n",
            " torch.Size([1, 3]) \n",
            "\n",
            "tenosr b\n",
            " tensor([[3, 4, 5]]) \n",
            "\n",
            "shape after unsqueeze \n",
            " torch.Size([3, 1]) \n",
            "\n",
            "tenosr b\n",
            " tensor([[3],\n",
            "        [4],\n",
            "        [5]]) \n",
            "\n"
          ]
        }
      ]
    },
    {
      "cell_type": "markdown",
      "source": [
        "##Permute\n",
        "torch.permute(input, dims) → Tensor\n",
        "Returns a view of the original tensor input with its dimensions permuted(altered)."
      ],
      "metadata": {
        "id": "2R81H6rJ4_7c"
      }
    },
    {
      "cell_type": "code",
      "source": [
        "# permuting tensor\n",
        "input_tensor = torch.randn(2,3,4)\n",
        "print(\"input_tensor :\\n\",input_tensor)\n",
        "print(\"\\ninput_tensor shape:\\n\",input_tensor.shape)\n",
        "\n",
        "permutated_tensor= torch.permute(input_tensor,(1,2,0))\n",
        "print(\"\\npermutated tensor with changed dims\\n\", permutated_tensor)\n",
        "print(\"\\npermutated_tensor shape:\\n\",permutated_tensor.shape)\n",
        "\n"
      ],
      "metadata": {
        "colab": {
          "base_uri": "https://localhost:8080/"
        },
        "id": "UiSwjgtT6BKd",
        "outputId": "99064d32-de99-419d-998f-4588c41fa9b0"
      },
      "execution_count": null,
      "outputs": [
        {
          "output_type": "stream",
          "name": "stdout",
          "text": [
            "input_tensor :\n",
            " tensor([[[-1.3533,  0.0751, -0.1868, -0.0433],\n",
            "         [ 1.2911,  0.0666,  1.0287, -1.0481],\n",
            "         [ 0.1170,  0.1920, -0.6608, -0.7589]],\n",
            "\n",
            "        [[ 0.8452, -0.1112, -0.2244, -0.6014],\n",
            "         [ 0.8455, -0.4959, -1.3464,  0.4992],\n",
            "         [ 0.4181, -0.7920,  0.9848,  0.6285]]])\n",
            "\n",
            "input_tensor shape:\n",
            " torch.Size([2, 3, 4])\n",
            "\n",
            "permutated tensor with changed dims\n",
            " tensor([[[-1.3533,  0.8452],\n",
            "         [ 0.0751, -0.1112],\n",
            "         [-0.1868, -0.2244],\n",
            "         [-0.0433, -0.6014]],\n",
            "\n",
            "        [[ 1.2911,  0.8455],\n",
            "         [ 0.0666, -0.4959],\n",
            "         [ 1.0287, -1.3464],\n",
            "         [-1.0481,  0.4992]],\n",
            "\n",
            "        [[ 0.1170,  0.4181],\n",
            "         [ 0.1920, -0.7920],\n",
            "         [-0.6608,  0.9848],\n",
            "         [-0.7589,  0.6285]]])\n",
            "\n",
            "permutated_tensor shape:\n",
            " torch.Size([3, 4, 2])\n"
          ]
        }
      ]
    },
    {
      "cell_type": "code",
      "source": [
        "# permute image tensor, permute also share same memory with org tensor like org_img\n",
        "\n",
        "org_img = torch.rand(size=(224,224,3)) # height , width , color_channel\n",
        "\n",
        "print(\"\\nshape of org img before permute:\\n\", org_img.shape, \"\\n\")\n",
        "\n",
        "edit_img= torch.permute(org_img, (2,1,0))\n",
        "\n",
        "print(\"shape of org img after permute:\\n\", edit_img.shape, \"\\n\")"
      ],
      "metadata": {
        "colab": {
          "base_uri": "https://localhost:8080/"
        },
        "id": "SpeKZ2rP7_CD",
        "outputId": "15b5d2ac-2c4f-4806-827b-7bbc14b4a958"
      },
      "execution_count": null,
      "outputs": [
        {
          "output_type": "stream",
          "name": "stdout",
          "text": [
            "\n",
            "shape of org img before permute:\n",
            " torch.Size([224, 224, 3]) \n",
            "\n",
            "shape of org img after permute:\n",
            " torch.Size([3, 224, 224]) \n",
            "\n"
          ]
        }
      ]
    },
    {
      "cell_type": "markdown",
      "source": [
        "##Indexing"
      ],
      "metadata": {
        "id": "74dPWPuZbnxw"
      }
    },
    {
      "cell_type": "code",
      "source": [
        "tensr_indexing= torch.arange(1,21).reshape(1,5,4)\n",
        "\n",
        "print(tensr_indexing,\"\\n\")\n",
        "# print(\"\\n\", tensr_indexing.shape)\n",
        "\n",
        "print(tensr_indexing[0])      # it'll give the whole matrix bcz it's inside the tensor at position 0\n",
        "print(tensr_indexing[0,0])    #it'll give the first row only\n",
        "print(tensr_indexing[0,0,0] )  #it'll give the first value only\n",
        "\n",
        "tensr_indexing[0,0,0] = 100\n",
        "print(tensr_indexing[0,0,0] )  # changing a specific value in matrix\n"
      ],
      "metadata": {
        "colab": {
          "base_uri": "https://localhost:8080/"
        },
        "id": "XNqOi30gsrq3",
        "outputId": "087cd476-2ca0-4607-87b9-9cd74d6c9cef"
      },
      "execution_count": null,
      "outputs": [
        {
          "output_type": "stream",
          "name": "stdout",
          "text": [
            "tensor([[[ 1,  2,  3,  4],\n",
            "         [ 5,  6,  7,  8],\n",
            "         [ 9, 10, 11, 12],\n",
            "         [13, 14, 15, 16],\n",
            "         [17, 18, 19, 20]]]) \n",
            "\n",
            "tensor([[ 1,  2,  3,  4],\n",
            "        [ 5,  6,  7,  8],\n",
            "        [ 9, 10, 11, 12],\n",
            "        [13, 14, 15, 16],\n",
            "        [17, 18, 19, 20]])\n",
            "tensor([1, 2, 3, 4])\n",
            "tensor(1)\n",
            "tensor(100)\n"
          ]
        }
      ]
    },
    {
      "cell_type": "code",
      "source": [
        "print(tensr_indexing,\"\\n\")\n",
        "\n",
        "print(\"indexing only first 2 cols but all rows\\n\", tensr_indexing[:, :, 0:2])\n",
        "\n",
        "print(\"\\nindexing only first 2 cols & 3 rows\\n\", tensr_indexing[0, 0:3, 0:2])\n",
        "\n",
        "print(\"\\nindexing the third column only\\n\", tensr_indexing[:, : , 2])\n",
        "\n",
        "print(\"\\nindexing the first row only\\n\", tensr_indexing[0, 0, :])"
      ],
      "metadata": {
        "colab": {
          "base_uri": "https://localhost:8080/"
        },
        "id": "T57Q01t-5Cdm",
        "outputId": "1fe25d5d-a8d1-427c-f499-e728b2bcd37f"
      },
      "execution_count": null,
      "outputs": [
        {
          "output_type": "stream",
          "name": "stdout",
          "text": [
            "tensor([[[100,   2,   3,   4],\n",
            "         [  5,   6,   7,   8],\n",
            "         [  9,  10,  11,  12],\n",
            "         [ 13,  14,  15,  16],\n",
            "         [ 17,  18,  19,  20]]]) \n",
            "\n",
            "indexing only first 2 cols but all rows\n",
            " tensor([[[100,   2],\n",
            "         [  5,   6],\n",
            "         [  9,  10],\n",
            "         [ 13,  14],\n",
            "         [ 17,  18]]])\n",
            "\n",
            "indexing only first 2 cols & 3 rows\n",
            " tensor([[100,   2],\n",
            "        [  5,   6],\n",
            "        [  9,  10]])\n",
            "\n",
            "indexing the third column only\n",
            " tensor([[ 3,  7, 11, 15, 19]])\n",
            "\n",
            "indexing the first row only\n",
            " tensor([100,   2,   3,   4])\n"
          ]
        }
      ]
    },
    {
      "cell_type": "markdown",
      "source": [
        "##Numpy to Pytorch & viceversa"
      ],
      "metadata": {
        "id": "LBTPrXJi1i3Y"
      }
    },
    {
      "cell_type": "code",
      "source": [
        "# np --> pytorch\n",
        "#imp --> dafault dtype in tensor is float but in array is float64\n",
        "\n",
        "array= np.arange(1.,10.).reshape(3,3)\n",
        "print(\"np array and default it's data type\\n\",array,\"\\n\",array.dtype)\n",
        "\n",
        "tensar=torch.from_numpy(array)\n",
        "print(\"\\n converted to tensor & default dtype right after conversion\\n\",tensar)\n",
        "\n",
        "tensar= tensar.type(torch.float32)\n",
        "print( \"\\n\",tensar +1 )\n",
        "\n",
        "tensar.dtype , array.dtype          # chnging the dtype of tensar wont effect the default dtype of array\n",
        "\n"
      ],
      "metadata": {
        "colab": {
          "base_uri": "https://localhost:8080/"
        },
        "id": "Iz6P438G1qu1",
        "outputId": "27c4240e-1f0f-4443-bab6-ae5f95dc71a8"
      },
      "execution_count": null,
      "outputs": [
        {
          "output_type": "stream",
          "name": "stdout",
          "text": [
            "np array and default it's data type\n",
            " [[1. 2. 3.]\n",
            " [4. 5. 6.]\n",
            " [7. 8. 9.]] \n",
            " float64\n",
            "\n",
            " converted to tensor & default dtype right after conversion\n",
            " tensor([[1., 2., 3.],\n",
            "        [4., 5., 6.],\n",
            "        [7., 8., 9.]], dtype=torch.float64)\n",
            "\n",
            " tensor([[ 2.,  3.,  4.],\n",
            "        [ 5.,  6.,  7.],\n",
            "        [ 8.,  9., 10.]])\n"
          ]
        },
        {
          "output_type": "execute_result",
          "data": {
            "text/plain": [
              "(torch.float32, dtype('float64'))"
            ]
          },
          "metadata": {},
          "execution_count": 79
        }
      ]
    },
    {
      "cell_type": "code",
      "source": [
        "# Pytorch --> numpy\n",
        "\n",
        "# tensaar= torch.ones(10).reshape(2,5) or\n",
        "tensaar= torch.ones(2,5)\n",
        "print(tensaar,tensaar.dtype, \"\\n\")\n",
        "\n",
        "to_numpy= tensaar.numpy()\n",
        "print(to_numpy , to_numpy.dtype ,\"\\n\" )\n",
        "\n",
        "to_numpy +1,tensaar                     #same rule as above applies regarding dtypes and chnages later on(which won't effect org)"
      ],
      "metadata": {
        "colab": {
          "base_uri": "https://localhost:8080/"
        },
        "id": "v5GCGJuw5DQO",
        "outputId": "9fc83310-fcea-48d6-a013-d44e971f8c7d"
      },
      "execution_count": null,
      "outputs": [
        {
          "output_type": "stream",
          "name": "stdout",
          "text": [
            "tensor([[1., 1., 1., 1., 1.],\n",
            "        [1., 1., 1., 1., 1.]]) torch.float32 \n",
            "\n",
            "[[1. 1. 1. 1. 1.]\n",
            " [1. 1. 1. 1. 1.]] float32 \n",
            "\n"
          ]
        },
        {
          "output_type": "execute_result",
          "data": {
            "text/plain": [
              "(array([[2., 2., 2., 2., 2.],\n",
              "        [2., 2., 2., 2., 2.]], dtype=float32),\n",
              " tensor([[1., 1., 1., 1., 1.],\n",
              "         [1., 1., 1., 1., 1.]]))"
            ]
          },
          "metadata": {},
          "execution_count": 99
        }
      ]
    },
    {
      "cell_type": "code",
      "source": [],
      "metadata": {
        "id": "S41ZTRrp70kO"
      },
      "execution_count": null,
      "outputs": []
    }
  ]
}