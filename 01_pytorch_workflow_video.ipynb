{
  "nbformat": 4,
  "nbformat_minor": 0,
  "metadata": {
    "colab": {
      "provenance": [],
      "include_colab_link": true
    },
    "kernelspec": {
      "name": "python3",
      "display_name": "Python 3"
    },
    "language_info": {
      "name": "python"
    }
  },
  "cells": [
    {
      "cell_type": "markdown",
      "metadata": {
        "id": "view-in-github",
        "colab_type": "text"
      },
      "source": [
        "<a href=\"https://colab.research.google.com/github/Nouman-wisal/pytorch/blob/main/01_pytorch_workflow_video.ipynb\" target=\"_parent\"><img src=\"https://colab.research.google.com/assets/colab-badge.svg\" alt=\"Open In Colab\"/></a>"
      ]
    },
    {
      "cell_type": "code",
      "execution_count": null,
      "metadata": {
        "colab": {
          "base_uri": "https://localhost:8080/"
        },
        "id": "2dDcW48sbggs",
        "outputId": "b7e1cf7e-e7f7-438c-a1af-317bcddd21bc"
      },
      "outputs": [
        {
          "output_type": "execute_result",
          "data": {
            "text/plain": [
              "{1: 'Data (prepare and preload data)',\n",
              " 2: 'building model',\n",
              " 3: 'Training (fitting the model to data)',\n",
              " 4: 'inference (making prediction and evaluating the model)',\n",
              " 5: 'saving and loading the model',\n",
              " 6: 'putting it all togather'}"
            ]
          },
          "metadata": {},
          "execution_count": 25
        }
      ],
      "source": [
        "what_were_doing = {\n",
        "    1: \"Data (prepare and preload data)\",\n",
        "    2: \"building model\",\n",
        "    3: \"Training (fitting the model to data)\",\n",
        "    4: \"inference (making prediction and evaluating the model)\",\n",
        "    5: \"saving and loading the model\",\n",
        "    6: \"putting it all togather\"\n",
        "}\n",
        "\n",
        "what_were_doing"
      ]
    },
    {
      "cell_type": "code",
      "source": [
        "import torch\n",
        "from torch import nn\n",
        "import matplotlib.pyplot as plt\n",
        "\n",
        "# check python version\n",
        "torch.__version__"
      ],
      "metadata": {
        "colab": {
          "base_uri": "https://localhost:8080/",
          "height": 36
        },
        "id": "Vzi-GOmfeyfy",
        "outputId": "f20bae0c-3e74-4843-9748-ec74d1eb4618"
      },
      "execution_count": null,
      "outputs": [
        {
          "output_type": "execute_result",
          "data": {
            "text/plain": [
              "'2.6.0+cu124'"
            ],
            "application/vnd.google.colaboratory.intrinsic+json": {
              "type": "string"
            }
          },
          "metadata": {},
          "execution_count": 26
        }
      ]
    },
    {
      "cell_type": "markdown",
      "source": [
        "##1.Data (preparing and loading)\n",
        "####data can be anything... in machine Learning/deepLearning\n",
        "\n",
        "1.   excel spreadsheets\n",
        "2.   videos (i.e youtube as a lot of videos/data)\n",
        "3.   audio (songs,voice notes etc)\n",
        "4.   images\n",
        "5.   Text\n",
        "6.   DNA\n",
        "\n",
        "Deep learning/machine learning has two parts\n",
        "\n",
        "\n",
        "1.   turn the data into numerical representations/tensors/numbers\n",
        "2.   build model to find patterns in those numerical representation/tensors/numbers\n",
        "\n",
        "\n",
        "\n",
        "Let's create our data as a straight line.\n",
        "\n",
        "We'll use `linear regression` formula to make a straight line with *known* parameters.\n"
      ],
      "metadata": {
        "id": "gOple8UpfXQz"
      }
    },
    {
      "cell_type": "code",
      "source": [
        "# create  *known* parameters\n",
        "\n",
        "weight = 0.7\n",
        "bias =0.3\n",
        "\n",
        "# create\n",
        "\n",
        "start=0\n",
        "end=1\n",
        "step=0.02\n",
        "\n",
        "X= torch.arange(start, end, step).unsqueeze(dim=1)  # X  is the input (inputed numerical parameter)\n",
        "# print( X ,\"\\n\")\n",
        "\n",
        "Y= weight * X + bias  # Y is the output\n",
        "# print(Y,\"\\n\")\n",
        "\n",
        "print(len(X)) #data points\n",
        "print(len(Y)) #data points\n",
        "print(Y.shape)"
      ],
      "metadata": {
        "colab": {
          "base_uri": "https://localhost:8080/"
        },
        "id": "NlqAkSvgf73U",
        "outputId": "48b21fb5-1205-44e9-875f-3aafd6db3c21"
      },
      "execution_count": null,
      "outputs": [
        {
          "output_type": "stream",
          "name": "stdout",
          "text": [
            "50\n",
            "50\n",
            "torch.Size([50, 1])\n"
          ]
        }
      ]
    },
    {
      "cell_type": "markdown",
      "source": [
        "##Splitting the data into `Training & Test` sets (one of the most important concepts in ml/dp)"
      ],
      "metadata": {
        "id": "KvKjuUCLsBjd"
      }
    },
    {
      "cell_type": "code",
      "source": [
        "                                                                # splitting data for trainig & testing into 80 / 20\n",
        "\n",
        "trainig_split= int(0.8 * len(X))\n",
        "\n",
        "# print(trainig_split) # result 40\n",
        "\n",
        "                                                                # slicing the X for trinig and testing\n",
        "x_train= X[ :trainig_split] # meaning give data from index 0 to 40(till 39)\n",
        "x_test= X[trainig_split: ]  # meaning dive data from index 40 till the end\n",
        "\n",
        "# print(x_train,x_test)\n",
        "\n",
        "y_train= Y[ : trainig_split]\n",
        "y_test=  Y[trainig_split : ]\n",
        "\n",
        "len(x_train), len(y_train), len(x_test), len(y_test)"
      ],
      "metadata": {
        "id": "t_9iPpFxEgBk",
        "colab": {
          "base_uri": "https://localhost:8080/"
        },
        "outputId": "b06c6d6b-7adf-49d4-ff5a-11137f771e97"
      },
      "execution_count": null,
      "outputs": [
        {
          "output_type": "execute_result",
          "data": {
            "text/plain": [
              "(40, 40, 10, 10)"
            ]
          },
          "metadata": {},
          "execution_count": 28
        }
      ]
    },
    {
      "cell_type": "markdown",
      "source": [
        "##Visualizing the data with matplotlib in a function"
      ],
      "metadata": {
        "id": "TYdu15ISPxIw"
      }
    },
    {
      "cell_type": "code",
      "source": [
        "\n",
        "\n",
        "def plot_predictions(training_data=x_train, trainig_label=y_train, test_data=x_test, test_label=y_test, prediction=None):\n",
        "\n",
        "    plt.figure(figsize=(10,5))\n",
        "\n",
        "    plt.scatter(training_data, trainig_label, c=\"b\",s=4, label=\"Training data\")\n",
        "\n",
        "    plt.scatter(test_data, test_label, c=\"g\", s=4, label=\"Testing data\")\n",
        "\n",
        "    if prediction is not None:\n",
        "#or if prediction != None:\n",
        "#or if prediction: using truthy and falsy checks\n",
        "\n",
        "      plt.scatter(test_data, prediction, c=\"r\", s=8, label=\"prediction data\")\n",
        "\n",
        "    plt.legend(fontsize=12)\n",
        "    plt.xlabel(\"features/input\", size=14)\n",
        "    plt.ylabel(\"labels/output\", size=14)\n",
        "    plt.grid()\n",
        "    plt.show()\n",
        "\n",
        "plot_predictions()"
      ],
      "metadata": {
        "colab": {
          "base_uri": "https://localhost:8080/",
          "height": 470
        },
        "id": "zSVWFhLZP8MW",
        "outputId": "82c2b4ba-74c4-46c7-b430-48eb9752e091"
      },
      "execution_count": null,
      "outputs": [
        {
          "output_type": "display_data",
          "data": {
            "text/plain": [
              "<Figure size 1000x500 with 1 Axes>"
            ],
            "image/png": "[encoded data removed]"
          },
          "metadata": {}
        }
      ]
    },
    {
      "cell_type": "markdown",
      "source": [
        "# Building the Model(Linear Regression Model)"
      ],
      "metadata": {
        "id": "Zbw6XsksdIrk"
      }
    },
    {
      "cell_type": "code",
      "source": [
        "# building the model starts by creating a subclass of nn.module\n",
        "\n",
        "class LinearRegressionModel(nn.Module):\n",
        "  #creating a constructor\n",
        "\n",
        "  def __init__(self):\n",
        "    super().__init__() #inhering from nn.module\n",
        "\n",
        "    self.weight = nn.Parameter(torch.randn(1), requires_grad=True) #nn.parameter requires requires_grad=True bcz it tracks the value/weight/bias bcz nn.Parameter lerarns the value/weight/bias\n",
        "    self.bias = nn.Parameter(torch.randn(1), requires_grad=True)\n",
        "\n",
        "\n",
        "    # all subclasses of nn.modules requies forward method/func for making predictions\n",
        "    def forward(self, x:torch.Tensor)->torch.Tensor:   # x could be x_train or x_test\n",
        "      return self.weight * x +self.bias\n",
        "\n",
        "\n",
        "#   # caling or making models from our class(subclass)\n",
        "\n",
        "# torch.manual_seed(42)\n",
        "# model_0 = LinearRegressionModel()\n",
        "\n",
        "# # Check the nn.Parameter(s) within the nn.Module subclass we created\n",
        "# list(model_0.parameters())\n",
        "\n",
        "# # model_0 = LinearRegressionModel()\n",
        "# # list(model_0.parameters())\n"
      ],
      "metadata": {
        "id": "_FSbZVZeyewL"
      },
      "execution_count": null,
      "outputs": []
    },
    {
      "cell_type": "markdown",
      "source": [
        "# making a model from class here"
      ],
      "metadata": {
        "id": "W0x7cG3DDYab"
      }
    },
    {
      "cell_type": "code",
      "source": [
        "# caling or making models from our class(subclass)\n",
        "torch.manual_seed(42)\n",
        "\n",
        "model_0 = LinearRegressionModel()\n",
        "# list(model_0.parameters())        # Checks the nn.Parameter(s) within the nn.Module subclass we created\n",
        "\n",
        "# 0r this way\n",
        "model_0.state_dict()"
      ],
      "metadata": {
        "colab": {
          "base_uri": "https://localhost:8080/"
        },
        "id": "WJwdYXIiAfq9",
        "outputId": "4212f5dc-19ad-4a6e-8b63-f35f727d71ce"
      },
      "execution_count": null,
      "outputs": [
        {
          "output_type": "execute_result",
          "data": {
            "text/plain": [
              "OrderedDict([('weight', tensor([0.3367])), ('bias', tensor([0.1288]))])"
            ]
          },
          "metadata": {},
          "execution_count": 53
        }
      ]
    }
  ]
}