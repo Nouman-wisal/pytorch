{
  "nbformat": 4,
  "nbformat_minor": 0,
  "metadata": {
    "colab": {
      "provenance": [],
      "include_colab_link": true
    },
    "kernelspec": {
      "name": "python3",
      "display_name": "Python 3"
    },
    "language_info": {
      "name": "python"
    }
  },
  "cells": [
    {
      "cell_type": "markdown",
      "metadata": {
        "id": "view-in-github",
        "colab_type": "text"
      },
      "source": [
        "<a href=\"https://colab.research.google.com/github/Nouman-wisal/pytorch/blob/main/01_pytorch_workflow_video.ipynb\" target=\"_parent\"><img src=\"https://colab.research.google.com/assets/colab-badge.svg\" alt=\"Open In Colab\"/></a>"
      ]
    },
    {
      "cell_type": "code",
      "execution_count": 1,
      "metadata": {
        "colab": {
          "base_uri": "https://localhost:8080/"
        },
        "id": "2dDcW48sbggs",
        "outputId": "62f9c299-b169-4503-8f4e-130d1122c459"
      },
      "outputs": [
        {
          "output_type": "execute_result",
          "data": {
            "text/plain": [
              "{1: 'Data (prepare and preload data)',\n",
              " 2: 'building model',\n",
              " 3: 'Training (fitting the model to data)',\n",
              " 4: 'inference (making prediction and evaluating the model)',\n",
              " 5: 'saving and loading the model',\n",
              " 6: 'putting it all togather'}"
            ]
          },
          "metadata": {},
          "execution_count": 1
        }
      ],
      "source": [
        "what_were_doing = {\n",
        "    1: \"Data (prepare and preload data)\",\n",
        "    2: \"building model\",\n",
        "    3: \"Training (fitting the model to data)\",\n",
        "    4: \"inference (making prediction and evaluating the model)\",\n",
        "    5: \"saving and loading the model\",\n",
        "    6: \"putting it all togather\"\n",
        "}\n",
        "\n",
        "what_were_doing"
      ]
    },
    {
      "cell_type": "code",
      "source": [
        "import torch\n",
        "from torch import nn\n",
        "import matplotlib.pyplot as plt\n",
        "\n",
        "# check python version\n",
        "torch.__version__"
      ],
      "metadata": {
        "colab": {
          "base_uri": "https://localhost:8080/",
          "height": 36
        },
        "id": "Vzi-GOmfeyfy",
        "outputId": "514d35bf-5a72-46a7-ea06-2b641652a0cf"
      },
      "execution_count": 2,
      "outputs": [
        {
          "output_type": "execute_result",
          "data": {
            "text/plain": [
              "'2.6.0+cu124'"
            ],
            "application/vnd.google.colaboratory.intrinsic+json": {
              "type": "string"
            }
          },
          "metadata": {},
          "execution_count": 2
        }
      ]
    },
    {
      "cell_type": "markdown",
      "source": [
        "##1.Data (preparing and loading)\n",
        "####data can be anything... in machine Learning/deepLearning\n",
        "\n",
        "1.   excel spreadsheets\n",
        "2.   videos (i.e youtube as a lot of videos/data)\n",
        "3.   audio (songs,voice notes etc)\n",
        "4.   images\n",
        "5.   Text\n",
        "6.   DNA\n",
        "\n",
        "Deep learning/machine learning has two parts\n",
        "\n",
        "\n",
        "1.   turn the data into numerical representations/tensors/numbers\n",
        "2.   build model to find patterns in those numerical representation/tensors/numbers\n",
        "\n",
        "\n",
        "\n",
        "Let's create our data as a straight line.\n",
        "\n",
        "We'll use `linear regression` formula to make a straight line with *known* parameters.\n"
      ],
      "metadata": {
        "id": "gOple8UpfXQz"
      }
    },
    {
      "cell_type": "code",
      "source": [
        "# create  *known* parameters\n",
        "\n",
        "weight = 0.7\n",
        "bias =0.3\n",
        "\n",
        "# create\n",
        "\n",
        "start=0\n",
        "end=1\n",
        "step=0.2\n",
        "\n",
        "X= torch.arange(start, end, step).unsqueeze(dim=1)  # X  is the input (inputed numerical parameter)\n",
        "print(X)\n",
        "\n",
        "Y= weight * X + bias  # Y is the output\n",
        "print(Y)\n",
        "\n",
        "print(len(X))\n",
        "print(len(Y))\n",
        "print(Y.shape)"
      ],
      "metadata": {
        "colab": {
          "base_uri": "https://localhost:8080/"
        },
        "id": "NlqAkSvgf73U",
        "outputId": "e519967a-9b58-4006-828f-31c23398ee76"
      },
      "execution_count": 3,
      "outputs": [
        {
          "output_type": "stream",
          "name": "stdout",
          "text": [
            "tensor([[0.0000],\n",
            "        [0.2000],\n",
            "        [0.4000],\n",
            "        [0.6000],\n",
            "        [0.8000]])\n",
            "tensor([[0.3000],\n",
            "        [0.4400],\n",
            "        [0.5800],\n",
            "        [0.7200],\n",
            "        [0.8600]])\n",
            "5\n",
            "5\n",
            "torch.Size([5, 1])\n"
          ]
        }
      ]
    },
    {
      "cell_type": "code",
      "source": [],
      "metadata": {
        "id": "KvKjuUCLsBjd"
      },
      "execution_count": 3,
      "outputs": []
    }
  ]
}